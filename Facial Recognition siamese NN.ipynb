{
 "cells": [
  {
   "cell_type": "markdown",
   "id": "38f71bb0-36a4-401a-8e10-ce32cba3e46c",
   "metadata": {},
   "source": [
    "#Install Dependencies"
   ]
  },
  {
   "cell_type": "code",
   "execution_count": 1,
   "id": "3e73cecf-066f-4cc4-9126-123c985b8510",
   "metadata": {
    "scrolled": true
   },
   "outputs": [
    {
     "name": "stdout",
     "output_type": "stream",
     "text": [
      "Requirement already satisfied: tensorflow==2.14 in /Users/gabrielschull/anaconda3/envs/facialrecognition/lib/python3.10/site-packages (2.14.0)\n",
      "Requirement already satisfied: tensorflow-metal==1.1 in /Users/gabrielschull/anaconda3/envs/facialrecognition/lib/python3.10/site-packages (1.1.0)\n",
      "Requirement already satisfied: opencv-python-headless in /Users/gabrielschull/anaconda3/envs/facialrecognition/lib/python3.10/site-packages (4.9.0.80)\n",
      "Requirement already satisfied: matplotlib in /Users/gabrielschull/anaconda3/envs/facialrecognition/lib/python3.10/site-packages (3.8.3)\n",
      "Requirement already satisfied: tensorflow-macos==2.14.0 in /Users/gabrielschull/anaconda3/envs/facialrecognition/lib/python3.10/site-packages (from tensorflow==2.14) (2.14.0)\n",
      "Requirement already satisfied: wheel~=0.35 in /Users/gabrielschull/anaconda3/envs/facialrecognition/lib/python3.10/site-packages (from tensorflow-metal==1.1) (0.41.2)\n",
      "Requirement already satisfied: six>=1.15.0 in /Users/gabrielschull/anaconda3/envs/facialrecognition/lib/python3.10/site-packages (from tensorflow-metal==1.1) (1.15.0)\n",
      "Requirement already satisfied: absl-py>=1.0.0 in /Users/gabrielschull/anaconda3/envs/facialrecognition/lib/python3.10/site-packages (from tensorflow-macos==2.14.0->tensorflow==2.14) (2.1.0)\n",
      "Requirement already satisfied: astunparse>=1.6.0 in /Users/gabrielschull/anaconda3/envs/facialrecognition/lib/python3.10/site-packages (from tensorflow-macos==2.14.0->tensorflow==2.14) (1.6.3)\n",
      "Requirement already satisfied: flatbuffers>=23.5.26 in /Users/gabrielschull/anaconda3/envs/facialrecognition/lib/python3.10/site-packages (from tensorflow-macos==2.14.0->tensorflow==2.14) (23.5.26)\n",
      "Requirement already satisfied: gast!=0.5.0,!=0.5.1,!=0.5.2,>=0.2.1 in /Users/gabrielschull/anaconda3/envs/facialrecognition/lib/python3.10/site-packages (from tensorflow-macos==2.14.0->tensorflow==2.14) (0.4.0)\n",
      "Requirement already satisfied: google-pasta>=0.1.1 in /Users/gabrielschull/anaconda3/envs/facialrecognition/lib/python3.10/site-packages (from tensorflow-macos==2.14.0->tensorflow==2.14) (0.2.0)\n",
      "Requirement already satisfied: h5py>=2.9.0 in /Users/gabrielschull/anaconda3/envs/facialrecognition/lib/python3.10/site-packages (from tensorflow-macos==2.14.0->tensorflow==2.14) (3.10.0)\n",
      "Requirement already satisfied: libclang>=13.0.0 in /Users/gabrielschull/anaconda3/envs/facialrecognition/lib/python3.10/site-packages (from tensorflow-macos==2.14.0->tensorflow==2.14) (16.0.6)\n",
      "Requirement already satisfied: ml-dtypes==0.2.0 in /Users/gabrielschull/anaconda3/envs/facialrecognition/lib/python3.10/site-packages (from tensorflow-macos==2.14.0->tensorflow==2.14) (0.2.0)\n",
      "Requirement already satisfied: numpy>=1.23.5 in /Users/gabrielschull/anaconda3/envs/facialrecognition/lib/python3.10/site-packages (from tensorflow-macos==2.14.0->tensorflow==2.14) (1.26.4)\n",
      "Requirement already satisfied: opt-einsum>=2.3.2 in /Users/gabrielschull/anaconda3/envs/facialrecognition/lib/python3.10/site-packages (from tensorflow-macos==2.14.0->tensorflow==2.14) (3.3.0)\n",
      "Requirement already satisfied: packaging in /Users/gabrielschull/anaconda3/envs/facialrecognition/lib/python3.10/site-packages (from tensorflow-macos==2.14.0->tensorflow==2.14) (23.1)\n",
      "Requirement already satisfied: protobuf!=4.21.0,!=4.21.1,!=4.21.2,!=4.21.3,!=4.21.4,!=4.21.5,<5.0.0dev,>=3.20.3 in /Users/gabrielschull/anaconda3/envs/facialrecognition/lib/python3.10/site-packages (from tensorflow-macos==2.14.0->tensorflow==2.14) (4.25.3)\n",
      "Requirement already satisfied: setuptools in /Users/gabrielschull/anaconda3/envs/facialrecognition/lib/python3.10/site-packages (from tensorflow-macos==2.14.0->tensorflow==2.14) (68.2.2)\n",
      "Requirement already satisfied: termcolor>=1.1.0 in /Users/gabrielschull/anaconda3/envs/facialrecognition/lib/python3.10/site-packages (from tensorflow-macos==2.14.0->tensorflow==2.14) (2.4.0)\n",
      "Requirement already satisfied: typing-extensions>=3.6.6 in /Users/gabrielschull/anaconda3/envs/facialrecognition/lib/python3.10/site-packages (from tensorflow-macos==2.14.0->tensorflow==2.14) (4.9.0)\n",
      "Requirement already satisfied: wrapt<1.15,>=1.11.0 in /Users/gabrielschull/anaconda3/envs/facialrecognition/lib/python3.10/site-packages (from tensorflow-macos==2.14.0->tensorflow==2.14) (1.14.1)\n",
      "Requirement already satisfied: tensorflow-io-gcs-filesystem>=0.23.1 in /Users/gabrielschull/anaconda3/envs/facialrecognition/lib/python3.10/site-packages (from tensorflow-macos==2.14.0->tensorflow==2.14) (0.36.0)\n",
      "Requirement already satisfied: grpcio<2.0,>=1.24.3 in /Users/gabrielschull/anaconda3/envs/facialrecognition/lib/python3.10/site-packages (from tensorflow-macos==2.14.0->tensorflow==2.14) (1.62.0)\n",
      "Requirement already satisfied: tensorboard<2.15,>=2.14 in /Users/gabrielschull/anaconda3/envs/facialrecognition/lib/python3.10/site-packages (from tensorflow-macos==2.14.0->tensorflow==2.14) (2.14.1)\n",
      "Requirement already satisfied: tensorflow-estimator<2.15,>=2.14.0 in /Users/gabrielschull/anaconda3/envs/facialrecognition/lib/python3.10/site-packages (from tensorflow-macos==2.14.0->tensorflow==2.14) (2.14.0)\n",
      "Requirement already satisfied: keras<2.15,>=2.14.0 in /Users/gabrielschull/anaconda3/envs/facialrecognition/lib/python3.10/site-packages (from tensorflow-macos==2.14.0->tensorflow==2.14) (2.14.0)\n",
      "Requirement already satisfied: contourpy>=1.0.1 in /Users/gabrielschull/anaconda3/envs/facialrecognition/lib/python3.10/site-packages (from matplotlib) (1.2.0)\n",
      "Requirement already satisfied: cycler>=0.10 in /Users/gabrielschull/anaconda3/envs/facialrecognition/lib/python3.10/site-packages (from matplotlib) (0.12.1)\n",
      "Requirement already satisfied: fonttools>=4.22.0 in /Users/gabrielschull/anaconda3/envs/facialrecognition/lib/python3.10/site-packages (from matplotlib) (4.49.0)\n",
      "Requirement already satisfied: kiwisolver>=1.3.1 in /Users/gabrielschull/anaconda3/envs/facialrecognition/lib/python3.10/site-packages (from matplotlib) (1.4.5)\n",
      "Requirement already satisfied: pillow>=8 in /Users/gabrielschull/anaconda3/envs/facialrecognition/lib/python3.10/site-packages (from matplotlib) (10.2.0)\n",
      "Requirement already satisfied: pyparsing>=2.3.1 in /Users/gabrielschull/anaconda3/envs/facialrecognition/lib/python3.10/site-packages (from matplotlib) (3.1.1)\n",
      "Requirement already satisfied: python-dateutil>=2.7 in /Users/gabrielschull/anaconda3/envs/facialrecognition/lib/python3.10/site-packages (from matplotlib) (2.8.2)\n",
      "Requirement already satisfied: google-auth<3,>=1.6.3 in /Users/gabrielschull/anaconda3/envs/facialrecognition/lib/python3.10/site-packages (from tensorboard<2.15,>=2.14->tensorflow-macos==2.14.0->tensorflow==2.14) (2.28.1)\n",
      "Requirement already satisfied: google-auth-oauthlib<1.1,>=0.5 in /Users/gabrielschull/anaconda3/envs/facialrecognition/lib/python3.10/site-packages (from tensorboard<2.15,>=2.14->tensorflow-macos==2.14.0->tensorflow==2.14) (1.0.0)\n",
      "Requirement already satisfied: markdown>=2.6.8 in /Users/gabrielschull/anaconda3/envs/facialrecognition/lib/python3.10/site-packages (from tensorboard<2.15,>=2.14->tensorflow-macos==2.14.0->tensorflow==2.14) (3.5.2)\n",
      "Requirement already satisfied: requests<3,>=2.21.0 in /Users/gabrielschull/anaconda3/envs/facialrecognition/lib/python3.10/site-packages (from tensorboard<2.15,>=2.14->tensorflow-macos==2.14.0->tensorflow==2.14) (2.31.0)\n",
      "Requirement already satisfied: tensorboard-data-server<0.8.0,>=0.7.0 in /Users/gabrielschull/anaconda3/envs/facialrecognition/lib/python3.10/site-packages (from tensorboard<2.15,>=2.14->tensorflow-macos==2.14.0->tensorflow==2.14) (0.7.2)\n",
      "Requirement already satisfied: werkzeug>=1.0.1 in /Users/gabrielschull/anaconda3/envs/facialrecognition/lib/python3.10/site-packages (from tensorboard<2.15,>=2.14->tensorflow-macos==2.14.0->tensorflow==2.14) (3.0.1)\n",
      "Requirement already satisfied: cachetools<6.0,>=2.0.0 in /Users/gabrielschull/anaconda3/envs/facialrecognition/lib/python3.10/site-packages (from google-auth<3,>=1.6.3->tensorboard<2.15,>=2.14->tensorflow-macos==2.14.0->tensorflow==2.14) (5.3.2)\n",
      "Requirement already satisfied: pyasn1-modules>=0.2.1 in /Users/gabrielschull/anaconda3/envs/facialrecognition/lib/python3.10/site-packages (from google-auth<3,>=1.6.3->tensorboard<2.15,>=2.14->tensorflow-macos==2.14.0->tensorflow==2.14) (0.3.0)\n",
      "Requirement already satisfied: rsa<5,>=3.1.4 in /Users/gabrielschull/anaconda3/envs/facialrecognition/lib/python3.10/site-packages (from google-auth<3,>=1.6.3->tensorboard<2.15,>=2.14->tensorflow-macos==2.14.0->tensorflow==2.14) (4.9)\n",
      "Requirement already satisfied: requests-oauthlib>=0.7.0 in /Users/gabrielschull/anaconda3/envs/facialrecognition/lib/python3.10/site-packages (from google-auth-oauthlib<1.1,>=0.5->tensorboard<2.15,>=2.14->tensorflow-macos==2.14.0->tensorflow==2.14) (1.3.1)\n",
      "Requirement already satisfied: charset-normalizer<4,>=2 in /Users/gabrielschull/anaconda3/envs/facialrecognition/lib/python3.10/site-packages (from requests<3,>=2.21.0->tensorboard<2.15,>=2.14->tensorflow-macos==2.14.0->tensorflow==2.14) (3.3.2)\n",
      "Requirement already satisfied: idna<4,>=2.5 in /Users/gabrielschull/anaconda3/envs/facialrecognition/lib/python3.10/site-packages (from requests<3,>=2.21.0->tensorboard<2.15,>=2.14->tensorflow-macos==2.14.0->tensorflow==2.14) (3.6)\n",
      "Requirement already satisfied: urllib3<3,>=1.21.1 in /Users/gabrielschull/anaconda3/envs/facialrecognition/lib/python3.10/site-packages (from requests<3,>=2.21.0->tensorboard<2.15,>=2.14->tensorflow-macos==2.14.0->tensorflow==2.14) (2.2.1)\n",
      "Requirement already satisfied: certifi>=2017.4.17 in /Users/gabrielschull/anaconda3/envs/facialrecognition/lib/python3.10/site-packages (from requests<3,>=2.21.0->tensorboard<2.15,>=2.14->tensorflow-macos==2.14.0->tensorflow==2.14) (2024.2.2)\n",
      "Requirement already satisfied: MarkupSafe>=2.1.1 in /Users/gabrielschull/anaconda3/envs/facialrecognition/lib/python3.10/site-packages (from werkzeug>=1.0.1->tensorboard<2.15,>=2.14->tensorflow-macos==2.14.0->tensorflow==2.14) (2.1.5)\n",
      "Requirement already satisfied: pyasn1<0.6.0,>=0.4.6 in /Users/gabrielschull/anaconda3/envs/facialrecognition/lib/python3.10/site-packages (from pyasn1-modules>=0.2.1->google-auth<3,>=1.6.3->tensorboard<2.15,>=2.14->tensorflow-macos==2.14.0->tensorflow==2.14) (0.5.1)\n",
      "Requirement already satisfied: oauthlib>=3.0.0 in /Users/gabrielschull/anaconda3/envs/facialrecognition/lib/python3.10/site-packages (from requests-oauthlib>=0.7.0->google-auth-oauthlib<1.1,>=0.5->tensorboard<2.15,>=2.14->tensorflow-macos==2.14.0->tensorflow==2.14) (3.2.2)\n"
     ]
    }
   ],
   "source": [
    "!pip install tensorflow==2.14 tensorflow-metal==1.1 opencv-python-headless matplotlib"
   ]
  },
  {
   "cell_type": "code",
   "execution_count": 2,
   "id": "33574ad1-70b4-4b2c-b38c-dbf522f957a7",
   "metadata": {},
   "outputs": [
    {
     "name": "stdout",
     "output_type": "stream",
     "text": [
      "/Users/gabrielschull/anaconda3/envs/facialrecognition/bin/python\n"
     ]
    }
   ],
   "source": [
    "import sys\n",
    "print(sys.executable)"
   ]
  },
  {
   "cell_type": "code",
   "execution_count": 3,
   "id": "63584d24-aa83-4347-bfbe-dde9e01fb21a",
   "metadata": {},
   "outputs": [],
   "source": [
    "#import standard dependencies\n",
    "import cv2\n",
    "import os\n",
    "import random\n",
    "import numpy as np\n",
    "from matplotlib import pyplot as plt\n"
   ]
  },
  {
   "cell_type": "code",
   "execution_count": 4,
   "id": "149ee4c0-2323-43d4-9740-7170f0e15343",
   "metadata": {},
   "outputs": [],
   "source": [
    "#import tensorflow dependencies\n",
    "from tensorflow.keras.models import Model\n",
    "from tensorflow.keras.layers import Layer, Conv2D, Dense, MaxPooling2D, Input, Flatten\n",
    "import tensorflow as tf"
   ]
  },
  {
   "cell_type": "code",
   "execution_count": 5,
   "id": "50ac52a1-d8f1-463f-a068-5b150c18ba1e",
   "metadata": {},
   "outputs": [
    {
     "name": "stdout",
     "output_type": "stream",
     "text": [
      "Num GPUs Available:  1\n"
     ]
    }
   ],
   "source": [
    "#Set GPU Memory Consumption Growth to avoid OOM errors -> wrong tensorflow version for this, not necessary though\n",
    "gpus = print(\"Num GPUs Available: \", len(tf.config.list_physical_devices('GPU')))\n",
    "\n",
    "gpus = tf.config.experimental.list_physical_devices('GPU')\n",
    "for gpu in gpus:\n",
    "    tf.config.experimental.set_memory_growth(gpu, True)"
   ]
  },
  {
   "cell_type": "code",
   "execution_count": 6,
   "id": "4a27e082-476c-4f1d-934f-c7dde0b52e7f",
   "metadata": {},
   "outputs": [],
   "source": [
    "#Setup paths\n",
    "POS_PATH = os.path.join('data', 'positive')\n",
    "NEG_PATH = os.path.join('data', 'negative')\n",
    "ANC_PATH = os.path.join('data', 'anchor')"
   ]
  },
  {
   "cell_type": "code",
   "execution_count": 7,
   "id": "bd02a0ff-8dde-4e18-9e83-04e690c50687",
   "metadata": {},
   "outputs": [],
   "source": [
    "#Make dirs\n",
    "#os.makedirs(POS_PATH)\n",
    "#os.makedirs(NEG_PATH)\n",
    "#os.makedirs(ANC_PATH)"
   ]
  },
  {
   "cell_type": "code",
   "execution_count": 8,
   "id": "52ef90d4-b11c-4d93-b8b6-13342abbd39a",
   "metadata": {},
   "outputs": [],
   "source": [
    "#Collecting labelled faces in the wild dataset at http://vis-www.cs.umass.edu/lfw/ (as gzipped tar file)"
   ]
  },
  {
   "cell_type": "code",
   "execution_count": 9,
   "id": "2831084c-cc2b-4174-b245-dcad866832ac",
   "metadata": {},
   "outputs": [],
   "source": [
    "#uncompress Tar Labelled Faces in the Wild dataser\n",
    "#!tar -xf lfw.tar"
   ]
  },
  {
   "cell_type": "code",
   "execution_count": 10,
   "id": "f75d41a8-4947-4850-a50e-b8f292038e7d",
   "metadata": {},
   "outputs": [],
   "source": [
    "# Move lfw imgs to the following repo data/negative\n",
    "#for directory in os.listdir('lfw'):\n",
    "   # for file in os.listdir(os.path.join('lfw', directory)):\n",
    "       # EX_PATH = os.path.join('lfw', directory, file)\n",
    "       # NEW_PATH = os.path.join(NEG_PATH, file)\n",
    "       # os.replace(EX_PATH, NEW_PATH)\n",
    "    "
   ]
  },
  {
   "cell_type": "code",
   "execution_count": 11,
   "id": "03008aa1-b77d-4914-bc4a-3abfcf794b33",
   "metadata": {},
   "outputs": [],
   "source": [
    "import uuid"
   ]
  },
  {
   "cell_type": "code",
   "execution_count": 12,
   "id": "c81cad31-de90-48e6-9f61-cafd78040c43",
   "metadata": {},
   "outputs": [],
   "source": [
    "#Collect positive and anchor classes\n",
    "\n",
    "# cap = cv2.VideoCapture(0) #Establish a connection to the webcam\n",
    "# while cap.isOpened():\n",
    "#     ret, frame = cap.read() \n",
    "    \n",
    "#     #cut down to 250x250px frame\n",
    "#     frame = frame[250:250+250,475:475+250,:]\n",
    "\n",
    "#     key = cv2.waitKey(1) & 0XFF\n",
    "\n",
    "#     #collect anchors\n",
    "#     if key == ord('a'):\n",
    "#         #create unique filepath\n",
    "#         imgname = os.path.join(ANC_PATH, '{}.jpg'.format(uuid.uuid1()))\n",
    "#         #write out anchor image\n",
    "#         cv2.imwrite(imgname, frame)\n",
    "#         break\n",
    "\n",
    "#     #collect positives\n",
    "#     if key == ord('p'):\n",
    "#         #create unique filepath\n",
    "#         imgname = os.path.join(POS_PATH, '{}.jpg'.format(uuid.uuid1()))\n",
    "#         #write out positive image\n",
    "#         cv2.imwrite(imgname, frame)\n",
    "#         break\n",
    "        \n",
    "        \n",
    "#     #show image back to screen\n",
    "#     cv2.imshow('Image Collection', frame)\n",
    "\n",
    "#     #breaking if q hit on keyboard after 1 ms\n",
    "#     if key == ord('q'):\n",
    "#         break\n",
    "# #release webcam & close the image show frame\n",
    "# cap.release()\n",
    "# cv2.destroyAllWindows()\n",
    "# cv2.waitKey(1)"
   ]
  },
  {
   "cell_type": "code",
   "execution_count": 13,
   "id": "a0f70a19-b7df-4a07-8fcd-06b0bdf93379",
   "metadata": {
    "scrolled": true
   },
   "outputs": [],
   "source": [
    "#plt.imshow(frame)"
   ]
  },
  {
   "cell_type": "code",
   "execution_count": 14,
   "id": "d83c1983-f36e-4df8-82ff-453f240380e1",
   "metadata": {},
   "outputs": [
    {
     "name": "stderr",
     "output_type": "stream",
     "text": [
      "2024-02-28 13:13:30.327479: I metal_plugin/src/device/metal_device.cc:1154] Metal device set to: Apple M2\n",
      "2024-02-28 13:13:30.327495: I metal_plugin/src/device/metal_device.cc:296] systemMemory: 8.00 GB\n",
      "2024-02-28 13:13:30.327497: I metal_plugin/src/device/metal_device.cc:313] maxCacheSize: 2.67 GB\n",
      "2024-02-28 13:13:30.327682: I tensorflow/core/common_runtime/pluggable_device/pluggable_device_factory.cc:306] Could not identify NUMA node of platform GPU ID 0, defaulting to 0. Your kernel may not have been built with NUMA support.\n",
      "2024-02-28 13:13:30.327962: I tensorflow/core/common_runtime/pluggable_device/pluggable_device_factory.cc:272] Created TensorFlow device (/job:localhost/replica:0/task:0/device:GPU:0 with 0 MB memory) -> physical PluggableDevice (device: 0, name: METAL, pci bus id: <undefined>)\n"
     ]
    }
   ],
   "source": [
    "#Load and preprocess Images\n",
    "# get image directories\n",
    "anchor = tf.data.Dataset.list_files(ANC_PATH+'/*.jpg').take(100)\n",
    "positive = tf.data.Dataset.list_files(POS_PATH+'/*.jpg').take(100)\n",
    "negative = tf.data.Dataset.list_files(NEG_PATH+'/*.jpg').take(100)"
   ]
  },
  {
   "cell_type": "code",
   "execution_count": 15,
   "id": "92d5cef7-4b64-453c-8da9-0b60e30fb42c",
   "metadata": {},
   "outputs": [],
   "source": [
    "dir_test = anchor.as_numpy_iterator()"
   ]
  },
  {
   "cell_type": "code",
   "execution_count": 16,
   "id": "4958157c-0c42-4f76-a6dd-db2812f79edb",
   "metadata": {},
   "outputs": [
    {
     "name": "stdout",
     "output_type": "stream",
     "text": [
      "b'data/anchor/9a53161e-d2a2-11ee-aa4a-563466da705a.jpg'\n"
     ]
    }
   ],
   "source": [
    "print(dir_test.next())"
   ]
  },
  {
   "cell_type": "code",
   "execution_count": 151,
   "id": "87f3b69d-1e98-45e5-982f-f01fd14a9a18",
   "metadata": {},
   "outputs": [],
   "source": [
    "#Preprocessing - scale and resize\n",
    "\n",
    "def preprocess(file_path):\n",
    "\n",
    "    # read in image from file path\n",
    "    byte_img = tf.io.read_file(file_path)\n",
    "    # load in the image\n",
    "    img = tf.io.decode_jpeg(byte_img)\n",
    "    # preprocessing steps - resize image to be 105x105x3\n",
    "    img = tf.image.resize(img, (105,105))\n",
    "    # scale image to be between 0 and 1\n",
    "    img = img / 255.0\n",
    "\n",
    "    \n",
    "    return img"
   ]
  },
  {
   "cell_type": "code",
   "execution_count": 18,
   "id": "953c918b-cfd0-473f-a6b4-b0da0eb99897",
   "metadata": {
    "scrolled": true
   },
   "outputs": [],
   "source": [
    "#dataset.map(preprocess)"
   ]
  },
  {
   "cell_type": "code",
   "execution_count": 19,
   "id": "f433c730-5bba-4f5f-af92-1d9b01384056",
   "metadata": {},
   "outputs": [],
   "source": [
    "# Create labelled dataset\n",
    "# (anchor, positive) =>  1,1,1,1,1\n",
    "# (anchor, negative) => 0,0,0,0,0"
   ]
  },
  {
   "cell_type": "code",
   "execution_count": 20,
   "id": "b7b17a73-385a-4326-8d46-2070510e2ece",
   "metadata": {},
   "outputs": [],
   "source": [
    "positives = tf.data.Dataset.zip((anchor, positive, tf.data.Dataset.from_tensor_slices(tf.ones(len(anchor)))))\n",
    "negatives = tf.data.Dataset.zip((anchor, negative, tf.data.Dataset.from_tensor_slices(tf.zeros(len(anchor)))))\n",
    "data = positives.concatenate(negatives)"
   ]
  },
  {
   "cell_type": "code",
   "execution_count": 21,
   "id": "40a924fe-ba19-4545-846f-b04e3141982a",
   "metadata": {},
   "outputs": [],
   "source": [
    "samples = data.as_numpy_iterator()"
   ]
  },
  {
   "cell_type": "code",
   "execution_count": 22,
   "id": "923e3db5-1f2f-46a4-85d8-e007dac9b9f3",
   "metadata": {},
   "outputs": [],
   "source": [
    "example = samples.next()"
   ]
  },
  {
   "cell_type": "code",
   "execution_count": 23,
   "id": "91196653-4e4a-442f-b61a-97d57ebd2bfa",
   "metadata": {},
   "outputs": [
    {
     "data": {
      "text/plain": [
       "(b'data/anchor/ce015df4-d2a2-11ee-944e-563466da705a.jpg',\n",
       " b'data/positive/0511cc70-d2a3-11ee-ab5a-563466da705a.jpg',\n",
       " 1.0)"
      ]
     },
     "execution_count": 23,
     "metadata": {},
     "output_type": "execute_result"
    }
   ],
   "source": [
    "example"
   ]
  },
  {
   "cell_type": "code",
   "execution_count": 24,
   "id": "a3c78c86-4131-4e18-85df-bf21c3a41a04",
   "metadata": {},
   "outputs": [],
   "source": [
    "# Build Train and Test Partition\n",
    "def preprocess_twin(input_img, validation_img, label):\n",
    "     return (preprocess(input_img), preprocess(validation_img), label)"
   ]
  },
  {
   "cell_type": "code",
   "execution_count": 25,
   "id": "8a8174a3-82cd-4d01-9cd6-2b9dbbb0e9fc",
   "metadata": {},
   "outputs": [
    {
     "data": {
      "text/plain": [
       "(<tf.Tensor: shape=(105, 105, 3), dtype=float32, numpy=\n",
       " array([[[0.5466898 , 0.48786628, 0.40551332],\n",
       "         [0.52021474, 0.46139124, 0.37959853],\n",
       "         [0.5354631 , 0.47663957, 0.40212977],\n",
       "         ...,\n",
       "         [0.5511672 , 0.49234363, 0.41783383],\n",
       "         [0.5368614 , 0.47803786, 0.40352806],\n",
       "         [0.5637722 , 0.5049487 , 0.43043885]],\n",
       " \n",
       "        [[0.53540754, 0.47658402, 0.39423105],\n",
       "         [0.5475191 , 0.4886955 , 0.40742302],\n",
       "         [0.5464586 , 0.48763508, 0.41312528],\n",
       "         ...,\n",
       "         [0.5502669 , 0.49144334, 0.41693354],\n",
       "         [0.5563226 , 0.49749902, 0.42298922],\n",
       "         [0.54360414, 0.4847806 , 0.4102708 ]],\n",
       " \n",
       "        [[0.5483105 , 0.48948693, 0.407134  ],\n",
       "         [0.5540149 , 0.49519145, 0.42068163],\n",
       "         [0.5459562 , 0.48713264, 0.41262284],\n",
       "         ...,\n",
       "         [0.5535748 , 0.49475121, 0.42024142],\n",
       "         [0.54699886, 0.4881753 , 0.4136655 ],\n",
       "         [0.55508876, 0.4962652 , 0.4217554 ]],\n",
       " \n",
       "        ...,\n",
       " \n",
       "        [[0.75970834, 0.73225737, 0.62245345],\n",
       "         [0.77270246, 0.7452515 , 0.6360077 ],\n",
       "         [0.77120405, 0.7437531 , 0.6417923 ],\n",
       "         ...,\n",
       "         [0.74509805, 0.6392157 , 0.8078432 ],\n",
       "         [0.76455927, 0.6586769 , 0.82002145],\n",
       "         [0.8286428 , 0.726682  , 0.87719554]],\n",
       " \n",
       "        [[0.7601175 , 0.7326665 , 0.6228626 ],\n",
       "         [0.76218486, 0.7347339 , 0.62549025],\n",
       "         [0.7760638 , 0.7486128 , 0.64665204],\n",
       "         ...,\n",
       "         [0.7514873 , 0.64560497, 0.80669606],\n",
       "         [0.8148661 , 0.7089838 , 0.8697681 ],\n",
       "         [0.85674274, 0.75478196, 0.89988   ]],\n",
       " \n",
       "        [[0.7599463 , 0.7324953 , 0.62269133],\n",
       "         [0.77414966, 0.7466987 , 0.63745505],\n",
       "         [0.78161716, 0.7541662 , 0.6522054 ],\n",
       "         ...,\n",
       "         [0.81780064, 0.71406585, 0.8705551 ],\n",
       "         [0.87943184, 0.77747107, 0.928158  ],\n",
       "         [0.8398716 , 0.73791075, 0.88300884]]], dtype=float32)>,\n",
       " <tf.Tensor: shape=(105, 105, 3), dtype=float32, numpy=\n",
       " array([[[0.6000045 , 0.48235744, 0.3749811 ],\n",
       "         [0.6239696 , 0.50268114, 0.38027215],\n",
       "         [0.6468988 , 0.5239296 , 0.38452718],\n",
       "         ...,\n",
       "         [0.54603845, 0.47937173, 0.4087835 ],\n",
       "         [0.5432373 , 0.47657064, 0.4059824 ],\n",
       "         [0.5497622 , 0.48309547, 0.41250724]],\n",
       " \n",
       "        [[0.52230227, 0.40465525, 0.29727897],\n",
       "         [0.5968388 , 0.48255304, 0.36462587],\n",
       "         [0.6110044 , 0.49307728, 0.36058426],\n",
       "         ...,\n",
       "         [0.55834335, 0.49167666, 0.42108843],\n",
       "         [0.5600441 , 0.4933774 , 0.42278916],\n",
       "         [0.53109246, 0.4644258 , 0.39383757]],\n",
       " \n",
       "        [[0.41549286, 0.30261883, 0.20053133],\n",
       "         [0.49781916, 0.3869548 , 0.2713619 ],\n",
       "         [0.5209906 , 0.40119606, 0.2892446 ],\n",
       "         ...,\n",
       "         [0.56106   , 0.49439338, 0.42380515],\n",
       "         [0.5587702 , 0.49210355, 0.42151532],\n",
       "         [0.56511277, 0.49844608, 0.42785785]],\n",
       " \n",
       "        ...,\n",
       " \n",
       "        [[0.7690943 , 0.7298786 , 0.6275443 ],\n",
       "         [0.7718554 , 0.73946244, 0.639149  ],\n",
       "         [0.7725491 , 0.74509805, 0.6431373 ],\n",
       "         ...,\n",
       "         [0.84056073, 0.7511672 , 0.85307246],\n",
       "         [0.83037895, 0.7452515 , 0.84917307],\n",
       "         [0.83426714, 0.74994224, 0.85144734]],\n",
       " \n",
       "        [[0.76451254, 0.73622125, 0.6266974 ],\n",
       "         [0.7725491 , 0.74509805, 0.63585436],\n",
       "         [0.7761905 , 0.74873954, 0.63949585],\n",
       "         ...,\n",
       "         [0.8450647 , 0.75157404, 0.86666673],\n",
       "         [0.83585435, 0.7456583 , 0.8591037 ],\n",
       "         [0.8246499 , 0.7344538 , 0.8478992 ]],\n",
       " \n",
       "        [[0.76012856, 0.7326775 , 0.6228736 ],\n",
       "         [0.77283585, 0.7453849 , 0.63558096],\n",
       "         [0.7803922 , 0.7564893 , 0.64491135],\n",
       "         ...,\n",
       "         [0.8267974 , 0.7287582 , 0.8542484 ],\n",
       "         [0.8150327 , 0.72063494, 0.8461251 ],\n",
       "         [0.8147526 , 0.72063494, 0.8461251 ]]], dtype=float32)>,\n",
       " 1.0)"
      ]
     },
     "execution_count": 25,
     "metadata": {},
     "output_type": "execute_result"
    }
   ],
   "source": [
    "preprocess_twin(*example)"
   ]
  },
  {
   "cell_type": "code",
   "execution_count": 26,
   "id": "46309a32-d3cf-4211-8b37-17cc4cc8100b",
   "metadata": {},
   "outputs": [],
   "source": [
    "# Build dataLoader pipeline\n",
    "data = data.map(preprocess_twin)\n",
    "data = data.cache()\n",
    "data = data.shuffle(buffer_size=1024)"
   ]
  },
  {
   "cell_type": "code",
   "execution_count": 27,
   "id": "4dfd36aa-5409-4d1c-b59f-43d5b7689ddd",
   "metadata": {},
   "outputs": [],
   "source": [
    "# Training partition\n",
    "train_data = data.take(round(len(data)*.7))\n",
    "train_data = train_data.batch(16)\n",
    "train_data = train_data.prefetch(8)"
   ]
  },
  {
   "cell_type": "code",
   "execution_count": 28,
   "id": "ad352880-afbd-42f7-8fbd-9543d81bc089",
   "metadata": {},
   "outputs": [
    {
     "data": {
      "text/plain": [
       "<_ShuffleDataset element_spec=(TensorSpec(shape=(105, 105, None), dtype=tf.float32, name=None), TensorSpec(shape=(105, 105, None), dtype=tf.float32, name=None), TensorSpec(shape=(), dtype=tf.float32, name=None))>"
      ]
     },
     "execution_count": 28,
     "metadata": {},
     "output_type": "execute_result"
    }
   ],
   "source": [
    "data"
   ]
  },
  {
   "cell_type": "code",
   "execution_count": 29,
   "id": "77e18f4d-c8c5-482b-819e-6398961c6d98",
   "metadata": {},
   "outputs": [],
   "source": [
    "train_samples = train_data.as_numpy_iterator()"
   ]
  },
  {
   "cell_type": "code",
   "execution_count": 30,
   "id": "37428626-a2e5-45dd-9fa8-41286852e909",
   "metadata": {},
   "outputs": [],
   "source": [
    "train_sample = train_samples.next()"
   ]
  },
  {
   "cell_type": "code",
   "execution_count": 31,
   "id": "b983bf94-4442-432e-a15e-093c68236f5f",
   "metadata": {},
   "outputs": [
    {
     "data": {
      "text/plain": [
       "16"
      ]
     },
     "execution_count": 31,
     "metadata": {},
     "output_type": "execute_result"
    }
   ],
   "source": [
    "len(train_sample[0])"
   ]
  },
  {
   "cell_type": "code",
   "execution_count": 32,
   "id": "e67e5993-0abb-4c72-8fbc-63c852894594",
   "metadata": {},
   "outputs": [],
   "source": [
    "# Testing partition\n",
    "test_data = data.skip(round(len(data)*.7))\n",
    "test_data = test_data.take(round(len(data)*.3))\n",
    "test_data = test_data.batch(16)\n",
    "test_data = test_data.prefetch(8)"
   ]
  },
  {
   "cell_type": "code",
   "execution_count": 33,
   "id": "60f2b119-bd31-4ac2-b060-4046733956a5",
   "metadata": {},
   "outputs": [],
   "source": [
    "inp = Input(shape=(105,105,3), name='input_image')"
   ]
  },
  {
   "cell_type": "code",
   "execution_count": 34,
   "id": "f132bf29-5746-4e8a-a9fb-1b685bdaf991",
   "metadata": {},
   "outputs": [],
   "source": [
    "c1 = Conv2D(64, (10,10), activation='relu')(inp)"
   ]
  },
  {
   "cell_type": "code",
   "execution_count": 35,
   "id": "981cfad9-26ea-4c73-aa3e-0b4f3f663173",
   "metadata": {},
   "outputs": [],
   "source": [
    "m1 = MaxPooling2D(64,(2,2), padding='same')(c1)"
   ]
  },
  {
   "cell_type": "code",
   "execution_count": 36,
   "id": "4c0edaf2-e0dc-4a5a-b22f-1a85a333dbe3",
   "metadata": {},
   "outputs": [],
   "source": [
    "c2 = Conv2D(128, (7,7), activation='relu')(m1)\n",
    "m2 = MaxPooling2D(64,(2,2), padding='same')(c2)"
   ]
  },
  {
   "cell_type": "code",
   "execution_count": 37,
   "id": "d7622534-ac8d-40e9-b938-4f4752db1c0d",
   "metadata": {},
   "outputs": [],
   "source": [
    "c3 = Conv2D(128, (4,4), activation='relu')(m2)\n",
    "m3 = MaxPooling2D(64,(2,2), padding='same')(c3)"
   ]
  },
  {
   "cell_type": "code",
   "execution_count": 38,
   "id": "5314fa50-cc8b-4bad-b7e5-fbf0f0c1c0bc",
   "metadata": {},
   "outputs": [],
   "source": [
    "c4 = Conv2D(256, (4,4), activation='relu')(m3)\n",
    "f1 = Flatten()(c4)\n",
    "d1 = Dense(4096, activation='sigmoid')(f1)"
   ]
  },
  {
   "cell_type": "code",
   "execution_count": 39,
   "id": "2f81cc28-6d73-4198-9546-2fac7dece618",
   "metadata": {},
   "outputs": [],
   "source": [
    "mod = Model(inputs=[inp], outputs=[d1], name='embedding')"
   ]
  },
  {
   "cell_type": "code",
   "execution_count": 40,
   "id": "dce62af7-2162-4f00-9a85-96f157ad9f9a",
   "metadata": {},
   "outputs": [
    {
     "name": "stdout",
     "output_type": "stream",
     "text": [
      "Model: \"embedding\"\n",
      "_________________________________________________________________\n",
      " Layer (type)                Output Shape              Param #   \n",
      "=================================================================\n",
      " input_image (InputLayer)    [(None, 105, 105, 3)]     0         \n",
      "                                                                 \n",
      " conv2d (Conv2D)             (None, 96, 96, 64)        19264     \n",
      "                                                                 \n",
      " max_pooling2d (MaxPooling2  (None, 48, 48, 64)        0         \n",
      " D)                                                              \n",
      "                                                                 \n",
      " conv2d_1 (Conv2D)           (None, 42, 42, 128)       401536    \n",
      "                                                                 \n",
      " max_pooling2d_1 (MaxPoolin  (None, 21, 21, 128)       0         \n",
      " g2D)                                                            \n",
      "                                                                 \n",
      " conv2d_2 (Conv2D)           (None, 18, 18, 128)       262272    \n",
      "                                                                 \n",
      " max_pooling2d_2 (MaxPoolin  (None, 9, 9, 128)         0         \n",
      " g2D)                                                            \n",
      "                                                                 \n",
      " conv2d_3 (Conv2D)           (None, 6, 6, 256)         524544    \n",
      "                                                                 \n",
      " flatten (Flatten)           (None, 9216)              0         \n",
      "                                                                 \n",
      " dense (Dense)               (None, 4096)              37752832  \n",
      "                                                                 \n",
      "=================================================================\n",
      "Total params: 38960448 (148.62 MB)\n",
      "Trainable params: 38960448 (148.62 MB)\n",
      "Non-trainable params: 0 (0.00 Byte)\n",
      "_________________________________________________________________\n"
     ]
    }
   ],
   "source": [
    "mod.summary()"
   ]
  },
  {
   "cell_type": "code",
   "execution_count": 41,
   "id": "b0f3e2b4-e93f-4e3d-85d1-41849aa75773",
   "metadata": {},
   "outputs": [],
   "source": [
    "# Build embedding layer\n",
    "def make_embedding():\n",
    "    inp = Input(shape=(105,105,3), name='input_image')\n",
    "\n",
    "    # First block\n",
    "    c1 = Conv2D(64, (10,10), activation='relu')(inp)\n",
    "    m1 = MaxPooling2D(64,(2,2), padding='same')(c1)\n",
    "\n",
    "    # Second block\n",
    "    c2 = Conv2D(128, (7,7), activation='relu')(m1)\n",
    "    m2 = MaxPooling2D(64,(2,2), padding='same')(c2)\n",
    "\n",
    "    # Third block\n",
    "    c3 = Conv2D(128, (4,4), activation='relu')(m2)\n",
    "    m3 = MaxPooling2D(64,(2,2), padding='same')(c3)\n",
    "\n",
    "    # Final embedding block\n",
    "    c4 = Conv2D(256, (4,4), activation='relu')(m3)\n",
    "    f1 = Flatten()(c4)\n",
    "    d1 = Dense(4096, activation='sigmoid')(f1)\n",
    "    \n",
    "    return Model(inputs=[inp], outputs=[d1], name='embedding')\n"
   ]
  },
  {
   "cell_type": "code",
   "execution_count": 42,
   "id": "2aaebc10-1bbd-4bfc-9eb4-c2ecbb73ca7e",
   "metadata": {},
   "outputs": [],
   "source": [
    "embedding = make_embedding()"
   ]
  },
  {
   "cell_type": "code",
   "execution_count": 43,
   "id": "b3202097-0b10-49c8-9b1e-64a0b6fdd884",
   "metadata": {},
   "outputs": [
    {
     "name": "stdout",
     "output_type": "stream",
     "text": [
      "Model: \"embedding\"\n",
      "_________________________________________________________________\n",
      " Layer (type)                Output Shape              Param #   \n",
      "=================================================================\n",
      " input_image (InputLayer)    [(None, 105, 105, 3)]     0         \n",
      "                                                                 \n",
      " conv2d_4 (Conv2D)           (None, 96, 96, 64)        19264     \n",
      "                                                                 \n",
      " max_pooling2d_3 (MaxPoolin  (None, 48, 48, 64)        0         \n",
      " g2D)                                                            \n",
      "                                                                 \n",
      " conv2d_5 (Conv2D)           (None, 42, 42, 128)       401536    \n",
      "                                                                 \n",
      " max_pooling2d_4 (MaxPoolin  (None, 21, 21, 128)       0         \n",
      " g2D)                                                            \n",
      "                                                                 \n",
      " conv2d_6 (Conv2D)           (None, 18, 18, 128)       262272    \n",
      "                                                                 \n",
      " max_pooling2d_5 (MaxPoolin  (None, 9, 9, 128)         0         \n",
      " g2D)                                                            \n",
      "                                                                 \n",
      " conv2d_7 (Conv2D)           (None, 6, 6, 256)         524544    \n",
      "                                                                 \n",
      " flatten_1 (Flatten)         (None, 9216)              0         \n",
      "                                                                 \n",
      " dense_1 (Dense)             (None, 4096)              37752832  \n",
      "                                                                 \n",
      "=================================================================\n",
      "Total params: 38960448 (148.62 MB)\n",
      "Trainable params: 38960448 (148.62 MB)\n",
      "Non-trainable params: 0 (0.00 Byte)\n",
      "_________________________________________________________________\n"
     ]
    }
   ],
   "source": [
    "embedding.summary()"
   ]
  },
  {
   "cell_type": "code",
   "execution_count": 44,
   "id": "d68a7c31-567f-4935-bfba-4e5d963adb5f",
   "metadata": {},
   "outputs": [],
   "source": [
    "# Build distance Layer\n",
    "# Siamese L1 Distance class\n",
    "class L1Dist(Layer):\n",
    "\n",
    "    # Init inheritance\n",
    "    def __init__(self, **kwargs):\n",
    "        super().__init__()\n",
    "        \n",
    "    # Compare similarity\n",
    "    def call(self, input_embedding, validation_embedding):\n",
    "        return tf.math.abs(input_embedding - validation_embedding)"
   ]
  },
  {
   "cell_type": "code",
   "execution_count": 45,
   "id": "806888c8-297f-4f81-86db-4e3e5936943a",
   "metadata": {},
   "outputs": [],
   "source": [
    "l1 = L1Dist()"
   ]
  },
  {
   "cell_type": "code",
   "execution_count": 46,
   "id": "261981e4-6017-4a56-8447-e01f8f14afd4",
   "metadata": {},
   "outputs": [],
   "source": [
    "#l1(anchor_embedding, validation_embedding)"
   ]
  },
  {
   "cell_type": "code",
   "execution_count": 47,
   "id": "70969111-5f08-420c-b249-b5ee3ad461a2",
   "metadata": {},
   "outputs": [],
   "source": [
    "input_image = Input(name='input_img', shape=(105,105,3))\n",
    "validation_image = Input(name='validation_img', shape=(105,105,3))"
   ]
  },
  {
   "cell_type": "code",
   "execution_count": 48,
   "id": "4e3d0e51-a1b6-48dd-94b5-8611e90a6041",
   "metadata": {},
   "outputs": [],
   "source": [
    "inp_embedding = embedding(input_image)\n",
    "val_embedding = embedding(validation_image)"
   ]
  },
  {
   "cell_type": "code",
   "execution_count": 49,
   "id": "2c7e40a5-1291-49ab-8550-0970e8551826",
   "metadata": {},
   "outputs": [],
   "source": [
    "siamese_layer = L1Dist()"
   ]
  },
  {
   "cell_type": "code",
   "execution_count": 50,
   "id": "1b81e0ca-c13c-4fd9-8e8a-067f00169028",
   "metadata": {},
   "outputs": [],
   "source": [
    "distances = siamese_layer(inp_embedding, val_embedding)"
   ]
  },
  {
   "cell_type": "code",
   "execution_count": 51,
   "id": "9800c2dc-32e8-4312-bff3-f1f4215093a5",
   "metadata": {},
   "outputs": [],
   "source": [
    "classifier = Dense(1, activation='sigmoid')(distances)"
   ]
  },
  {
   "cell_type": "code",
   "execution_count": 52,
   "id": "f5144cb1-4a5e-4d0f-b6ea-f5847ec74c6c",
   "metadata": {},
   "outputs": [
    {
     "data": {
      "text/plain": [
       "<KerasTensor: shape=(None, 1) dtype=float32 (created by layer 'dense_2')>"
      ]
     },
     "execution_count": 52,
     "metadata": {},
     "output_type": "execute_result"
    }
   ],
   "source": [
    "classifier"
   ]
  },
  {
   "cell_type": "code",
   "execution_count": 53,
   "id": "5aa01874-561d-495c-9a77-1fe7ab9cdac3",
   "metadata": {},
   "outputs": [],
   "source": [
    "siamese_network = Model(inputs=[input_image, validation_image], outputs=classifier, name='SiameseNetwork')"
   ]
  },
  {
   "cell_type": "code",
   "execution_count": 54,
   "id": "2eefe3ec-7364-4801-8df8-dd5734af62a6",
   "metadata": {},
   "outputs": [
    {
     "name": "stdout",
     "output_type": "stream",
     "text": [
      "Model: \"SiameseNetwork\"\n",
      "__________________________________________________________________________________________________\n",
      " Layer (type)                Output Shape                 Param #   Connected to                  \n",
      "==================================================================================================\n",
      " input_img (InputLayer)      [(None, 105, 105, 3)]        0         []                            \n",
      "                                                                                                  \n",
      " validation_img (InputLayer  [(None, 105, 105, 3)]        0         []                            \n",
      " )                                                                                                \n",
      "                                                                                                  \n",
      " embedding (Functional)      (None, 4096)                 3896044   ['input_img[0][0]',           \n",
      "                                                          8          'validation_img[0][0]']      \n",
      "                                                                                                  \n",
      " l1_dist_1 (L1Dist)          (None, 4096)                 0         ['embedding[0][0]',           \n",
      "                                                                     'embedding[1][0]']           \n",
      "                                                                                                  \n",
      " dense_2 (Dense)             (None, 1)                    4097      ['l1_dist_1[0][0]']           \n",
      "                                                                                                  \n",
      "==================================================================================================\n",
      "Total params: 38964545 (148.64 MB)\n",
      "Trainable params: 38964545 (148.64 MB)\n",
      "Non-trainable params: 0 (0.00 Byte)\n",
      "__________________________________________________________________________________________________\n"
     ]
    }
   ],
   "source": [
    "siamese_network.summary()"
   ]
  },
  {
   "cell_type": "code",
   "execution_count": 55,
   "id": "79b2d901-b131-42e7-bc4f-456d4c093ee1",
   "metadata": {},
   "outputs": [],
   "source": [
    "def make_siamese_model():\n",
    "\n",
    "    # Anchor image inputs in network\n",
    "    input_image = Input(name='input_img', shape=(105,105,3))\n",
    "    # Validation image in network\n",
    "    validation_image = Input(name='validation_img', shape=(105,105,3))\n",
    "\n",
    "    # Combine siamese distance components\n",
    "    siamese_layer = L1Dist()\n",
    "    siamese_layer._name = 'distance'\n",
    "    distances = siamese_layer(embedding(input_image), embedding(validation_image))\n",
    "\n",
    "    # Classificaiton layer\n",
    "    classifier = Dense(1, activation='sigmoid')(distances)\n",
    "\n",
    "    return Model(inputs=[input_image, validation_image], outputs=classifier, name='SiameseNetwork')"
   ]
  },
  {
   "cell_type": "code",
   "execution_count": 56,
   "id": "c01afc15-f402-49be-baa9-7eb41cf026da",
   "metadata": {},
   "outputs": [],
   "source": [
    "siamese_model = make_siamese_model()"
   ]
  },
  {
   "cell_type": "code",
   "execution_count": 57,
   "id": "87f30e60-ded4-4b9a-9748-a285993f9f80",
   "metadata": {},
   "outputs": [
    {
     "name": "stdout",
     "output_type": "stream",
     "text": [
      "Model: \"SiameseNetwork\"\n",
      "__________________________________________________________________________________________________\n",
      " Layer (type)                Output Shape                 Param #   Connected to                  \n",
      "==================================================================================================\n",
      " input_img (InputLayer)      [(None, 105, 105, 3)]        0         []                            \n",
      "                                                                                                  \n",
      " validation_img (InputLayer  [(None, 105, 105, 3)]        0         []                            \n",
      " )                                                                                                \n",
      "                                                                                                  \n",
      " embedding (Functional)      (None, 4096)                 3896044   ['input_img[0][0]',           \n",
      "                                                          8          'validation_img[0][0]']      \n",
      "                                                                                                  \n",
      " distance (L1Dist)           (None, 4096)                 0         ['embedding[2][0]',           \n",
      "                                                                     'embedding[3][0]']           \n",
      "                                                                                                  \n",
      " dense_3 (Dense)             (None, 1)                    4097      ['distance[0][0]']            \n",
      "                                                                                                  \n",
      "==================================================================================================\n",
      "Total params: 38964545 (148.64 MB)\n",
      "Trainable params: 38964545 (148.64 MB)\n",
      "Non-trainable params: 0 (0.00 Byte)\n",
      "__________________________________________________________________________________________________\n"
     ]
    }
   ],
   "source": [
    "siamese_model.summary()"
   ]
  },
  {
   "cell_type": "code",
   "execution_count": 58,
   "id": "7e9f91c2-20cb-4330-9b29-d186a2634016",
   "metadata": {},
   "outputs": [],
   "source": [
    "#Training"
   ]
  },
  {
   "cell_type": "code",
   "execution_count": 59,
   "id": "434c7f35-c7d7-4d37-b1c7-138324946232",
   "metadata": {},
   "outputs": [],
   "source": [
    "# Set up Loss and Optimizer\n",
    "binary_cross_loss = tf.losses.BinaryCrossentropy()"
   ]
  },
  {
   "cell_type": "code",
   "execution_count": 60,
   "id": "903ba478-03b9-40b3-8171-32a9a87baeb6",
   "metadata": {},
   "outputs": [],
   "source": [
    "# Define optimizer\n",
    "opt = tf.keras.optimizers.legacy.Adam(1e-4)"
   ]
  },
  {
   "cell_type": "code",
   "execution_count": 61,
   "id": "e1cf7987-7c78-46a6-ae05-21fb155d7e42",
   "metadata": {},
   "outputs": [],
   "source": [
    "# Establish checkpoints\n",
    "checkpoint_dir = './training.checkpoints'\n",
    "checkpoint_prefix = os.path.join(checkpoint_dir, 'ckpt')\n",
    "checkpoint = tf.train.Checkpoint(opt=opt, siamese_model=siamese_model)"
   ]
  },
  {
   "cell_type": "code",
   "execution_count": 62,
   "id": "0461fc3a-855e-46d7-86d8-aec36d60c011",
   "metadata": {},
   "outputs": [],
   "source": [
    "# Build train step function\n",
    "@tf.function\n",
    "def train_step(batch):\n",
    "    with tf.device('/cpu:0'):\n",
    "        with tf.GradientTape() as tape:\n",
    "            # Get anchor and positive/negative image\n",
    "            X = batch[:2]\n",
    "            # Get label\n",
    "            y = batch[2]\n",
    "\n",
    "            # Forward pass\n",
    "            yhat = siamese_model(X, training=True)\n",
    "            #Calculate loss\n",
    "            loss = binary_cross_loss(y, yhat)\n",
    "        tf.print('loss:', loss)\n",
    "\n",
    "        # Calculate gradients\n",
    "        grad = tape.gradient(loss, siamese_model.trainable_variables)\n",
    "        # Calculate updated weights and apply to siamese model\n",
    "        opt.apply_gradients(zip(grad, siamese_model.trainable_variables))\n",
    "        # Return loss\n",
    "        return loss\n",
    "    "
   ]
  },
  {
   "cell_type": "code",
   "execution_count": 63,
   "id": "4b0881d8-0968-41ed-aa8c-a154a2fabad2",
   "metadata": {},
   "outputs": [],
   "source": [
    "# Build training \n",
    "def train(data, EPOCHS):\n",
    "    \n",
    "    # Loop through epochs\n",
    "    for epoch in range(1, EPOCHS+1):\n",
    "        print('\\n Epoch {}/{}'.format(epoch, EPOCHS))\n",
    "        progbar = tf.keras.utils.Progbar(len(data))\n",
    "        \n",
    "        # Loop through each batch\n",
    "        for idx, batch in enumerate(data):\n",
    "            # Run train step\n",
    "            train_step(batch)\n",
    "            progbar.update(idx+1)\n",
    "            \n",
    "        # Save checkpoints\n",
    "        if epoch % 10 == 0:\n",
    "            checkpoint.save(file_prefix=checkpoint_prefix)\n",
    "    \n",
    "            \n",
    "        "
   ]
  },
  {
   "cell_type": "code",
   "execution_count": 64,
   "id": "d26b457d-bcee-447a-a894-3e56a3a82da0",
   "metadata": {},
   "outputs": [],
   "source": [
    "#Train the model\n",
    "EPOCHS = 50"
   ]
  },
  {
   "cell_type": "code",
   "execution_count": 65,
   "id": "50f85695-1988-4c35-942c-bec115d98320",
   "metadata": {
    "scrolled": true
   },
   "outputs": [
    {
     "name": "stdout",
     "output_type": "stream",
     "text": [
      "\n",
      " Epoch 1/50\n"
     ]
    },
    {
     "name": "stderr",
     "output_type": "stream",
     "text": [
      "2024-02-28 13:13:31.487069: I tensorflow/core/grappler/optimizers/custom_graph_optimizer_registry.cc:117] Plugin optimizer for device_type GPU is enabled.\n"
     ]
    },
    {
     "name": "stdout",
     "output_type": "stream",
     "text": [
      "loss: 0.692224503\n",
      "1/9 [==>...........................] - ETA: 31sloss: 0.683272958\n",
      "2/9 [=====>........................] - ETA: 23sloss: 0.655148387\n",
      "3/9 [=========>....................] - ETA: 20sloss: 0.599188209\n",
      "4/9 [============>.................] - ETA: 16sloss: 0.596341848\n",
      "5/9 [===============>..............] - ETA: 13sloss: 0.594272614\n",
      "6/9 [===================>..........] - ETA: 10sloss: 0.466712445\n",
      "7/9 [======================>.......] - ETA: 6s loss: 0.27029857\n",
      "8/9 [=========================>....] - ETA: 3sloss: 0.223459587\n",
      "9/9 [==============================] - 31s 3s/step\n",
      "\n",
      " Epoch 2/50\n",
      "loss: 0.425366133\n",
      "1/9 [==>...........................] - ETA: 26sloss: 0.355311036\n",
      "2/9 [=====>........................] - ETA: 24sloss: 0.163754076\n",
      "3/9 [=========>....................] - ETA: 20sloss: 0.349698097\n",
      "4/9 [============>.................] - ETA: 16sloss: 0.260380775\n",
      "5/9 [===============>..............] - ETA: 13sloss: 0.221484244\n",
      "6/9 [===================>..........] - ETA: 9s loss: 0.249948159\n",
      "7/9 [======================>.......] - ETA: 6sloss: 0.210644186\n",
      "8/9 [=========================>....] - ETA: 3sloss: 0.2757\n",
      "9/9 [==============================] - 28s 3s/step\n",
      "\n",
      " Epoch 3/50\n",
      "loss: 0.238960326\n",
      "1/9 [==>...........................] - ETA: 24sloss: 0.319543153\n",
      "2/9 [=====>........................] - ETA: 23sloss: 0.26664117\n",
      "3/9 [=========>....................] - ETA: 20sloss: 0.197194785\n",
      "4/9 [============>.................] - ETA: 17sloss: 0.0848915875\n",
      "5/9 [===============>..............] - ETA: 13sloss: 0.253672957\n",
      "6/9 [===================>..........] - ETA: 10sloss: 0.248320341\n",
      "7/9 [======================>.......] - ETA: 7s loss: 0.151031762\n",
      "8/9 [=========================>....] - ETA: 3sloss: 0.561276376\n",
      "9/9 [==============================] - 31s 3s/step\n",
      "\n",
      " Epoch 4/50\n",
      "loss: 0.0243172962\n",
      "1/9 [==>...........................] - ETA: 25sloss: 0.120532751\n",
      "2/9 [=====>........................] - ETA: 22sloss: 0.16230543\n",
      "3/9 [=========>....................] - ETA: 19sloss: 0.250396788\n",
      "4/9 [============>.................] - ETA: 16sloss: 0.121720046\n",
      "5/9 [===============>..............] - ETA: 12sloss: 0.124765754\n",
      "6/9 [===================>..........] - ETA: 9s loss: 0.357221514\n",
      "7/9 [======================>.......] - ETA: 6sloss: 0.107587226\n",
      "8/9 [=========================>....] - ETA: 3sloss: 0.0468471944\n",
      "9/9 [==============================] - 28s 3s/step\n",
      "\n",
      " Epoch 5/50\n",
      "loss: 0.456667\n",
      "1/9 [==>...........................] - ETA: 25sloss: 0.0347664505\n",
      "2/9 [=====>........................] - ETA: 22sloss: 0.115516044\n",
      "3/9 [=========>....................] - ETA: 19sloss: 0.265812844\n",
      "4/9 [============>.................] - ETA: 16sloss: 0.0854758769\n",
      "5/9 [===============>..............] - ETA: 13sloss: 0.137849584\n",
      "6/9 [===================>..........] - ETA: 9s loss: 0.0351984277\n",
      "7/9 [======================>.......] - ETA: 6sloss: 0.078315489\n",
      "8/9 [=========================>....] - ETA: 3sloss: 0.127599239\n",
      "9/9 [==============================] - 29s 3s/step\n",
      "\n",
      " Epoch 6/50\n",
      "loss: 0.0611542463\n",
      "1/9 [==>...........................] - ETA: 25sloss: 0.206278637\n",
      "2/9 [=====>........................] - ETA: 22sloss: 0.0732261\n",
      "3/9 [=========>....................] - ETA: 19sloss: 0.021251943\n",
      "4/9 [============>.................] - ETA: 16sloss: 0.0571709536\n",
      "5/9 [===============>..............] - ETA: 12sloss: 0.0568086728\n",
      "6/9 [===================>..........] - ETA: 9s loss: 0.0732114837\n",
      "7/9 [======================>.......] - ETA: 6sloss: 0.0949983895\n",
      "8/9 [=========================>....] - ETA: 3sloss: 0.122931182\n",
      "9/9 [==============================] - 28s 3s/step\n",
      "\n",
      " Epoch 7/50\n",
      "loss: 0.127754956\n",
      "1/9 [==>...........................] - ETA: 25sloss: 0.133755252\n",
      "2/9 [=====>........................] - ETA: 22sloss: 0.10581293\n",
      "3/9 [=========>....................] - ETA: 19sloss: 0.0231432356\n",
      "4/9 [============>.................] - ETA: 16sloss: 0.0476553142\n",
      "5/9 [===============>..............] - ETA: 12sloss: 0.0854554921\n",
      "6/9 [===================>..........] - ETA: 9s loss: 0.0775526464\n",
      "7/9 [======================>.......] - ETA: 6sloss: 0.0058722\n",
      "8/9 [=========================>....] - ETA: 3sloss: 0.136118039\n",
      "9/9 [==============================] - 29s 3s/step\n",
      "\n",
      " Epoch 8/50\n",
      "loss: 0.0392253697\n",
      "1/9 [==>...........................] - ETA: 26sloss: 0.0619937815\n",
      "2/9 [=====>........................] - ETA: 22sloss: 0.113421172\n",
      "3/9 [=========>....................] - ETA: 19sloss: 0.0970216617\n",
      "4/9 [============>.................] - ETA: 16sloss: 0.0238027256\n",
      "5/9 [===============>..............] - ETA: 13sloss: 0.00981836393\n",
      "6/9 [===================>..........] - ETA: 9s loss: 0.0792144239\n",
      "7/9 [======================>.......] - ETA: 6sloss: 0.0206167195\n",
      "8/9 [=========================>....] - ETA: 3sloss: 0.0156968813\n",
      "9/9 [==============================] - 29s 3s/step\n",
      "\n",
      " Epoch 9/50\n",
      "loss: 0.00268872082\n",
      "1/9 [==>...........................] - ETA: 25sloss: 0.00638775527\n",
      "2/9 [=====>........................] - ETA: 23sloss: 0.0634716898\n",
      "3/9 [=========>....................] - ETA: 20sloss: 0.0115763107\n",
      "4/9 [============>.................] - ETA: 17sloss: 0.0560879186\n",
      "5/9 [===============>..............] - ETA: 13sloss: 0.033362817\n",
      "6/9 [===================>..........] - ETA: 10sloss: 0.0227856208\n",
      "7/9 [======================>.......] - ETA: 6s loss: 0.00677759293\n",
      "8/9 [=========================>....] - ETA: 3sloss: 0.0349567384\n",
      "9/9 [==============================] - 29s 3s/step\n",
      "\n",
      " Epoch 10/50\n",
      "loss: 0.0100828083\n",
      "1/9 [==>...........................] - ETA: 23sloss: 0.0160557106\n",
      "2/9 [=====>........................] - ETA: 21sloss: 0.0354893729\n",
      "3/9 [=========>....................] - ETA: 18sloss: 0.00150791905\n",
      "4/9 [============>.................] - ETA: 15sloss: 0.0107611921\n",
      "5/9 [===============>..............] - ETA: 12sloss: 0.00115635945\n",
      "6/9 [===================>..........] - ETA: 9s loss: 0.033808317\n",
      "7/9 [======================>.......] - ETA: 6sloss: 0.00381814479\n",
      "8/9 [=========================>....] - ETA: 3sloss: 0.00907601\n",
      "9/9 [==============================] - 28s 3s/step\n",
      "\n",
      " Epoch 11/50\n",
      "loss: 0.00955927186\n",
      "1/9 [==>...........................] - ETA: 25sloss: 0.0154934246\n",
      "2/9 [=====>........................] - ETA: 22sloss: 0.0209835209\n",
      "3/9 [=========>....................] - ETA: 19sloss: 0.000948031433\n",
      "4/9 [============>.................] - ETA: 16sloss: 0.00634259265\n",
      "5/9 [===============>..............] - ETA: 12sloss: 0.043967139\n",
      "6/9 [===================>..........] - ETA: 9s loss: 0.0401415303\n",
      "7/9 [======================>.......] - ETA: 6sloss: 0.00584358629\n",
      "8/9 [=========================>....] - ETA: 3sloss: 0.00725488691\n",
      "9/9 [==============================] - 28s 3s/step\n",
      "\n",
      " Epoch 12/50\n",
      "loss: 0.0123353731\n",
      "1/9 [==>...........................] - ETA: 27sloss: 0.0284583867\n",
      "2/9 [=====>........................] - ETA: 26sloss: 0.127283618\n",
      "3/9 [=========>....................] - ETA: 22sloss: 0.00140576146\n",
      "4/9 [============>.................] - ETA: 17sloss: 0.0251126457\n",
      "5/9 [===============>..............] - ETA: 14sloss: 0.0257882178\n",
      "6/9 [===================>..........] - ETA: 10sloss: 0.0585793331\n",
      "7/9 [======================>.......] - ETA: 7s loss: 0.00308755017\n",
      "8/9 [=========================>....] - ETA: 3sloss: 0.0123792477\n",
      "9/9 [==============================] - 31s 3s/step\n",
      "\n",
      " Epoch 13/50\n",
      "loss: 0.0152057204\n",
      "1/9 [==>...........................] - ETA: 27sloss: 0.0432458483\n",
      "2/9 [=====>........................] - ETA: 23sloss: 0.0368363746\n",
      "3/9 [=========>....................] - ETA: 20sloss: 0.0451839529\n",
      "4/9 [============>.................] - ETA: 16sloss: 0.0386850238\n",
      "5/9 [===============>..............] - ETA: 13sloss: 0.0338759385\n",
      "6/9 [===================>..........] - ETA: 9s loss: 0.0346058123\n",
      "7/9 [======================>.......] - ETA: 6sloss: 0.0498734601\n",
      "8/9 [=========================>....] - ETA: 3sloss: 0.0105297239\n",
      "9/9 [==============================] - 29s 3s/step\n",
      "\n",
      " Epoch 14/50\n",
      "loss: 0.0238039978\n",
      "1/9 [==>...........................] - ETA: 24sloss: 0.0231927205\n",
      "2/9 [=====>........................] - ETA: 21sloss: 0.012915859\n",
      "3/9 [=========>....................] - ETA: 18sloss: 0.0275136754\n",
      "4/9 [============>.................] - ETA: 15sloss: 0.0060773\n",
      "5/9 [===============>..............] - ETA: 12sloss: 0.00270836288\n",
      "6/9 [===================>..........] - ETA: 9s loss: 0.00163993239\n",
      "7/9 [======================>.......] - ETA: 6sloss: 0.0371542946\n",
      "8/9 [=========================>....] - ETA: 3sloss: 0.00272180606\n",
      "9/9 [==============================] - 28s 3s/step\n",
      "\n",
      " Epoch 15/50\n",
      "loss: 0.0292579718\n",
      "1/9 [==>...........................] - ETA: 26sloss: 0.0057976665\n",
      "2/9 [=====>........................] - ETA: 22sloss: 0.00129523757\n",
      "3/9 [=========>....................] - ETA: 20sloss: 0.00711090909\n",
      "4/9 [============>.................] - ETA: 16sloss: 0.00329357013\n",
      "5/9 [===============>..............] - ETA: 13sloss: 0.00389278936\n",
      "6/9 [===================>..........] - ETA: 9s loss: 0.00121708843\n",
      "7/9 [======================>.......] - ETA: 6sloss: 0.00135144382\n",
      "8/9 [=========================>....] - ETA: 3sloss: 0.0042820368\n",
      "9/9 [==============================] - 29s 3s/step\n",
      "\n",
      " Epoch 16/50\n",
      "loss: 0.00625428557\n",
      "1/9 [==>...........................] - ETA: 28sloss: 0.000682563055\n",
      "2/9 [=====>........................] - ETA: 23sloss: 0.00121348794\n",
      "3/9 [=========>....................] - ETA: 19sloss: 0.00112939661\n",
      "4/9 [============>.................] - ETA: 16sloss: 0.00275682821\n",
      "5/9 [===============>..............] - ETA: 13sloss: 0.00167793268\n",
      "6/9 [===================>..........] - ETA: 9s loss: 0.000921963598\n",
      "7/9 [======================>.......] - ETA: 6sloss: 0.00333758118\n",
      "8/9 [=========================>....] - ETA: 3sloss: 0.00189743191\n",
      "9/9 [==============================] - 29s 3s/step\n",
      "\n",
      " Epoch 17/50\n",
      "loss: 0.00092751073\n",
      "1/9 [==>...........................] - ETA: 25sloss: 0.0032312423\n",
      "2/9 [=====>........................] - ETA: 22sloss: 0.00579917105\n",
      "3/9 [=========>....................] - ETA: 19sloss: 0.000882584543\n",
      "4/9 [============>.................] - ETA: 16sloss: 0.000566824805\n",
      "5/9 [===============>..............] - ETA: 13sloss: 0.000994812697\n",
      "6/9 [===================>..........] - ETA: 9s loss: 0.00109553861\n",
      "7/9 [======================>.......] - ETA: 6sloss: 0.0116264829\n",
      "8/9 [=========================>....] - ETA: 3sloss: 0.000791437633\n",
      "9/9 [==============================] - 28s 3s/step\n",
      "\n",
      " Epoch 18/50\n",
      "loss: 0.000148550098\n",
      "1/9 [==>...........................] - ETA: 26sloss: 0.00393306417\n",
      "2/9 [=====>........................] - ETA: 22sloss: 0.000785932527\n",
      "3/9 [=========>....................] - ETA: 19sloss: 0.00176682754\n",
      "4/9 [============>.................] - ETA: 16sloss: 0.00235238229\n",
      "5/9 [===============>..............] - ETA: 13sloss: 0.000132725341\n",
      "6/9 [===================>..........] - ETA: 9s loss: 0.000170808184\n",
      "7/9 [======================>.......] - ETA: 6sloss: 0.00824649632\n",
      "8/9 [=========================>....] - ETA: 3sloss: 0.000786936784\n",
      "9/9 [==============================] - 29s 3s/step\n",
      "\n",
      " Epoch 19/50\n",
      "loss: 0.000898476574\n",
      "1/9 [==>...........................] - ETA: 27sloss: 0.00206372235\n",
      "2/9 [=====>........................] - ETA: 22sloss: 0.000303761801\n",
      "3/9 [=========>....................] - ETA: 19sloss: 0.000233757833\n",
      "4/9 [============>.................] - ETA: 16sloss: 0.00074456085\n",
      "5/9 [===============>..............] - ETA: 13sloss: 0.000298145984\n",
      "6/9 [===================>..........] - ETA: 9s loss: 0.000543004717\n",
      "7/9 [======================>.......] - ETA: 6sloss: 3.53372088e-05\n",
      "8/9 [=========================>....] - ETA: 3sloss: 7.25709651e-06\n",
      "9/9 [==============================] - 29s 3s/step\n",
      "\n",
      " Epoch 20/50\n",
      "loss: 0.000417457893\n",
      "1/9 [==>...........................] - ETA: 26sloss: 0.000340714\n",
      "2/9 [=====>........................] - ETA: 23sloss: 0.000186527104\n",
      "3/9 [=========>....................] - ETA: 19sloss: 0.000216573462\n",
      "4/9 [============>.................] - ETA: 16sloss: 0.0012233759\n",
      "5/9 [===============>..............] - ETA: 13sloss: 3.78252953e-05\n",
      "6/9 [===================>..........] - ETA: 10sloss: 0.000463972043\n",
      "7/9 [======================>.......] - ETA: 6s loss: 0.00042778108\n",
      "8/9 [=========================>....] - ETA: 3sloss: 0.0018816347\n",
      "9/9 [==============================] - 30s 3s/step\n",
      "\n",
      " Epoch 21/50\n",
      "loss: 0.00066583039\n",
      "1/9 [==>...........................] - ETA: 25sloss: 9.96084127e-05\n",
      "2/9 [=====>........................] - ETA: 23sloss: 0.00261238287\n",
      "3/9 [=========>....................] - ETA: 19sloss: 0.000680827128\n",
      "4/9 [============>.................] - ETA: 16sloss: 0.000539223722\n",
      "5/9 [===============>..............] - ETA: 13sloss: 0.00286971312\n",
      "6/9 [===================>..........] - ETA: 9s loss: 0.000663365936\n",
      "7/9 [======================>.......] - ETA: 6sloss: 0.000417135132\n",
      "8/9 [=========================>....] - ETA: 3sloss: 0.000425309554\n",
      "9/9 [==============================] - 29s 3s/step\n",
      "\n",
      " Epoch 22/50\n",
      "loss: 0.00141839194\n",
      "1/9 [==>...........................] - ETA: 26sloss: 0.00125237252\n",
      "2/9 [=====>........................] - ETA: 23sloss: 0.00210415828\n",
      "3/9 [=========>....................] - ETA: 19sloss: 0.000419503165\n",
      "4/9 [============>.................] - ETA: 16sloss: 0.000551304547\n",
      "5/9 [===============>..............] - ETA: 12sloss: 0.000120482044\n",
      "6/9 [===================>..........] - ETA: 9s loss: 0.000427205814\n",
      "7/9 [======================>.......] - ETA: 6sloss: 0.000112141432\n",
      "8/9 [=========================>....] - ETA: 3sloss: 0.000743130862\n",
      "9/9 [==============================] - 29s 3s/step\n",
      "\n",
      " Epoch 23/50\n",
      "loss: 0.000497659319\n",
      "1/9 [==>...........................] - ETA: 26sloss: 0.000144437741\n",
      "2/9 [=====>........................] - ETA: 22sloss: 0.000167244842\n",
      "3/9 [=========>....................] - ETA: 19sloss: 0.000205348144\n",
      "4/9 [============>.................] - ETA: 16sloss: 0.000611100055\n",
      "5/9 [===============>..............] - ETA: 12sloss: 0.000806554162\n",
      "6/9 [===================>..........] - ETA: 9s loss: 0.000213840511\n",
      "7/9 [======================>.......] - ETA: 6sloss: 0.00203341688\n",
      "8/9 [=========================>....] - ETA: 3sloss: 0.000729482446\n",
      "9/9 [==============================] - 29s 3s/step\n",
      "\n",
      " Epoch 24/50\n",
      "loss: 0.00023141579\n",
      "1/9 [==>...........................] - ETA: 25sloss: 0.000326035981\n",
      "2/9 [=====>........................] - ETA: 22sloss: 0.000257272244\n",
      "3/9 [=========>....................] - ETA: 22sloss: 0.00139875582\n",
      "4/9 [============>.................] - ETA: 18sloss: 2.11879051e-05\n",
      "5/9 [===============>..............] - ETA: 14sloss: 0.000357956073\n",
      "6/9 [===================>..........] - ETA: 11sloss: 0.00013673956\n",
      "7/9 [======================>.......] - ETA: 7s loss: 0.0012088404\n",
      "8/9 [=========================>....] - ETA: 3sloss: 0.000129013963\n",
      "9/9 [==============================] - 31s 4s/step\n",
      "\n",
      " Epoch 25/50\n",
      "loss: 0.000636260316\n",
      "1/9 [==>...........................] - ETA: 25sloss: 8.81946326e-05\n",
      "2/9 [=====>........................] - ETA: 26sloss: 0.000212700455\n",
      "3/9 [=========>....................] - ETA: 21sloss: 0.000450589141\n",
      "4/9 [============>.................] - ETA: 18sloss: 0.000622368185\n",
      "5/9 [===============>..............] - ETA: 14sloss: 0.00114444876\n",
      "6/9 [===================>..........] - ETA: 10sloss: 0.000328248105\n",
      "7/9 [======================>.......] - ETA: 7s loss: 0.000226978\n",
      "8/9 [=========================>....] - ETA: 3sloss: 0.00058339251\n",
      "9/9 [==============================] - 31s 3s/step\n",
      "\n",
      " Epoch 26/50\n",
      "loss: 5.68361429e-05\n",
      "1/9 [==>...........................] - ETA: 28sloss: 0.000524780946\n",
      "2/9 [=====>........................] - ETA: 23sloss: 0.000106955034\n",
      "3/9 [=========>....................] - ETA: 19sloss: 0.00010854195\n",
      "4/9 [============>.................] - ETA: 16sloss: 0.000142078876\n",
      "5/9 [===============>..............] - ETA: 12sloss: 0.000289794116\n",
      "6/9 [===================>..........] - ETA: 9s loss: 0.000462884316\n",
      "7/9 [======================>.......] - ETA: 6sloss: 0.000913803233\n",
      "8/9 [=========================>....] - ETA: 3sloss: 0.000335291174\n",
      "9/9 [==============================] - 29s 3s/step\n",
      "\n",
      " Epoch 27/50\n",
      "loss: 0.000260137749\n",
      "1/9 [==>...........................] - ETA: 25sloss: 0.000718040741\n",
      "2/9 [=====>........................] - ETA: 21sloss: 0.000232725637\n",
      "3/9 [=========>....................] - ETA: 18sloss: 0.000180100338\n",
      "4/9 [============>.................] - ETA: 15sloss: 8.41115761e-05\n",
      "5/9 [===============>..............] - ETA: 12sloss: 1.2390803e-05\n",
      "6/9 [===================>..........] - ETA: 9s loss: 0.000139424243\n",
      "7/9 [======================>.......] - ETA: 6sloss: 0.000347214343\n",
      "8/9 [=========================>....] - ETA: 3sloss: 0.000473202323\n",
      "9/9 [==============================] - 27s 3s/step\n",
      "\n",
      " Epoch 28/50\n",
      "loss: 0.000135003967\n",
      "1/9 [==>...........................] - ETA: 24sloss: 1.61912449e-05\n",
      "2/9 [=====>........................] - ETA: 20sloss: 0.000148905849\n",
      "3/9 [=========>....................] - ETA: 17sloss: 0.000117782969\n",
      "4/9 [============>.................] - ETA: 14sloss: 6.95050112e-05\n",
      "5/9 [===============>..............] - ETA: 11sloss: 0.000434913149\n",
      "6/9 [===================>..........] - ETA: 8s loss: 0.000114126517\n",
      "7/9 [======================>.......] - ETA: 5sloss: 0.000156889859\n",
      "8/9 [=========================>....] - ETA: 2sloss: 0.000408128457\n",
      "9/9 [==============================] - 26s 3s/step\n",
      "\n",
      " Epoch 29/50\n",
      "loss: 0.000208397556\n",
      "1/9 [==>...........................] - ETA: 23sloss: 5.45354851e-05\n",
      "2/9 [=====>........................] - ETA: 20sloss: 0.000329547067\n",
      "3/9 [=========>....................] - ETA: 17sloss: 1.15857006e-06\n",
      "4/9 [============>.................] - ETA: 15sloss: 0.000127884559\n",
      "5/9 [===============>..............] - ETA: 12sloss: 0.000150327367\n",
      "6/9 [===================>..........] - ETA: 9s loss: 6.12936783e-05\n",
      "7/9 [======================>.......] - ETA: 6sloss: 0.00014587614\n",
      "8/9 [=========================>....] - ETA: 3sloss: 0.000101656471\n",
      "9/9 [==============================] - 27s 3s/step\n",
      "\n",
      " Epoch 30/50\n",
      "loss: 0.000278710068\n",
      "1/9 [==>...........................] - ETA: 24sloss: 0.000206099721\n",
      "2/9 [=====>........................] - ETA: 20sloss: 6.22839434e-05\n",
      "3/9 [=========>....................] - ETA: 17sloss: 0.00047933028\n",
      "4/9 [============>.................] - ETA: 14sloss: 1.0930441e-05\n",
      "5/9 [===============>..............] - ETA: 11sloss: 2.71493591e-05\n",
      "6/9 [===================>..........] - ETA: 8s loss: 0.000102207341\n",
      "7/9 [======================>.......] - ETA: 5sloss: 7.0677117e-05\n",
      "8/9 [=========================>....] - ETA: 3sloss: 2.76898299e-05\n",
      "9/9 [==============================] - 27s 3s/step\n",
      "\n",
      " Epoch 31/50\n",
      "loss: 0.000167083548\n",
      "1/9 [==>...........................] - ETA: 23sloss: 0.000312958233\n",
      "2/9 [=====>........................] - ETA: 21sloss: 2.85497918e-05\n",
      "3/9 [=========>....................] - ETA: 18sloss: 0.000155383037\n",
      "4/9 [============>.................] - ETA: 15sloss: 0.000714195368\n",
      "5/9 [===============>..............] - ETA: 12sloss: 9.26011417e-05\n",
      "6/9 [===================>..........] - ETA: 9s loss: 0.000164900033\n",
      "7/9 [======================>.......] - ETA: 6sloss: 0.000110060224\n",
      "8/9 [=========================>....] - ETA: 3sloss: 2.02727915e-05\n",
      "9/9 [==============================] - 27s 3s/step\n",
      "\n",
      " Epoch 32/50\n",
      "loss: 0.000719977717\n",
      "1/9 [==>...........................] - ETA: 23sloss: 6.21454237e-05\n",
      "2/9 [=====>........................] - ETA: 20sloss: 0.000118967975\n",
      "3/9 [=========>....................] - ETA: 17sloss: 0.000127612293\n",
      "4/9 [============>.................] - ETA: 14sloss: 0.000524109404\n",
      "5/9 [===============>..............] - ETA: 11sloss: 0.000407295942\n",
      "6/9 [===================>..........] - ETA: 8s loss: 0.0001202071\n",
      "7/9 [======================>.......] - ETA: 5sloss: 0.000257224048\n",
      "8/9 [=========================>....] - ETA: 2sloss: 3.68158908e-05\n",
      "9/9 [==============================] - 26s 3s/step\n",
      "\n",
      " Epoch 33/50\n",
      "loss: 0.000356253295\n",
      "1/9 [==>...........................] - ETA: 24sloss: 6.89454318e-05\n",
      "2/9 [=====>........................] - ETA: 21sloss: 0.000195824308\n",
      "3/9 [=========>....................] - ETA: 17sloss: 7.63207718e-05\n",
      "4/9 [============>.................] - ETA: 14sloss: 0.000237890141\n",
      "5/9 [===============>..............] - ETA: 11sloss: 6.93906259e-05\n",
      "6/9 [===================>..........] - ETA: 8s loss: 0.000149152562\n",
      "7/9 [======================>.......] - ETA: 5sloss: 0.000147846789\n",
      "8/9 [=========================>....] - ETA: 2sloss: 9.40895188e-05\n",
      "9/9 [==============================] - 26s 3s/step\n",
      "\n",
      " Epoch 34/50\n",
      "loss: 5.85858361e-05\n",
      "1/9 [==>...........................] - ETA: 24sloss: 0.000128956424\n",
      "2/9 [=====>........................] - ETA: 20sloss: 0.000126258208\n",
      "3/9 [=========>....................] - ETA: 17sloss: 0.000109484979\n",
      "4/9 [============>.................] - ETA: 14sloss: 0.000151006476\n",
      "5/9 [===============>..............] - ETA: 12sloss: 0.00017431064\n",
      "6/9 [===================>..........] - ETA: 9s loss: 0.000213792984\n",
      "7/9 [======================>.......] - ETA: 6sloss: 9.87776511e-05\n",
      "8/9 [=========================>....] - ETA: 3sloss: 0.000232582548\n",
      "9/9 [==============================] - 27s 3s/step\n",
      "\n",
      " Epoch 35/50\n",
      "loss: 0.000195203174\n",
      "1/9 [==>...........................] - ETA: 24sloss: 4.89375598e-05\n",
      "2/9 [=====>........................] - ETA: 21sloss: 2.12956602e-05\n",
      "3/9 [=========>....................] - ETA: 18sloss: 8.99566949e-05\n",
      "4/9 [============>.................] - ETA: 15sloss: 1.99802816e-05\n",
      "5/9 [===============>..............] - ETA: 12sloss: 0.0002289275\n",
      "6/9 [===================>..........] - ETA: 9s loss: 5.13694467e-05\n",
      "7/9 [======================>.......] - ETA: 6sloss: 0.0001978168\n",
      "8/9 [=========================>....] - ETA: 3sloss: 0.000250095734\n",
      "9/9 [==============================] - 27s 3s/step\n",
      "\n",
      " Epoch 36/50\n",
      "loss: 0.000138717776\n",
      "1/9 [==>...........................] - ETA: 24sloss: 0.00050261477\n",
      "2/9 [=====>........................] - ETA: 20sloss: 5.83802212e-05\n",
      "3/9 [=========>....................] - ETA: 17sloss: 7.46241e-05\n",
      "4/9 [============>.................] - ETA: 14sloss: 0.00017558\n",
      "5/9 [===============>..............] - ETA: 11sloss: 0.000114175375\n",
      "6/9 [===================>..........] - ETA: 8s loss: 0.000234763589\n",
      "7/9 [======================>.......] - ETA: 5sloss: 0.000130461267\n",
      "8/9 [=========================>....] - ETA: 2sloss: 0.000197989051\n",
      "9/9 [==============================] - 26s 3s/step\n",
      "\n",
      " Epoch 37/50\n",
      "loss: 8.65784386e-05\n",
      "1/9 [==>...........................] - ETA: 23sloss: 0.000498826441\n",
      "2/9 [=====>........................] - ETA: 21sloss: 6.92906667e-07\n",
      "3/9 [=========>....................] - ETA: 18sloss: 1.37849229e-05\n",
      "4/9 [============>.................] - ETA: 15sloss: 8.07685428e-05\n",
      "5/9 [===============>..............] - ETA: 12sloss: 0.000348234869\n",
      "6/9 [===================>..........] - ETA: 9s loss: 0.000107379106\n",
      "7/9 [======================>.......] - ETA: 6sloss: 0.000168234357\n",
      "8/9 [=========================>....] - ETA: 3sloss: 4.33136802e-06\n",
      "9/9 [==============================] - 27s 3s/step\n",
      "\n",
      " Epoch 38/50\n",
      "loss: 9.74593695e-06\n",
      "1/9 [==>...........................] - ETA: 23sloss: 4.00830031e-05\n",
      "2/9 [=====>........................] - ETA: 20sloss: 0.000192466454\n",
      "3/9 [=========>....................] - ETA: 18sloss: 2.00173854e-05\n",
      "4/9 [============>.................] - ETA: 15sloss: 0.000101568119\n",
      "5/9 [===============>..............] - ETA: 11sloss: 9.85538791e-05\n",
      "6/9 [===================>..........] - ETA: 9s loss: 3.28228707e-05\n",
      "7/9 [======================>.......] - ETA: 6sloss: 4.58342693e-05\n",
      "8/9 [=========================>....] - ETA: 3sloss: 0.000430671877\n",
      "9/9 [==============================] - 26s 3s/step\n",
      "\n",
      " Epoch 39/50\n",
      "loss: 6.05724344e-05\n",
      "1/9 [==>...........................] - ETA: 23sloss: 5.06903452e-05\n",
      "2/9 [=====>........................] - ETA: 20sloss: 0.000449781423\n",
      "3/9 [=========>....................] - ETA: 17sloss: 7.34497153e-05\n",
      "4/9 [============>.................] - ETA: 14sloss: 7.00841192e-05\n",
      "5/9 [===============>..............] - ETA: 11sloss: 7.14559865e-05\n",
      "6/9 [===================>..........] - ETA: 8s loss: 3.33009266e-05\n",
      "7/9 [======================>.......] - ETA: 5sloss: 4.19933313e-05\n",
      "8/9 [=========================>....] - ETA: 2sloss: 6.72555107e-05\n",
      "9/9 [==============================] - 26s 3s/step\n",
      "\n",
      " Epoch 40/50\n",
      "loss: 4.85197343e-05\n",
      "1/9 [==>...........................] - ETA: 23sloss: 2.35675761e-05\n",
      "2/9 [=====>........................] - ETA: 20sloss: 5.68368087e-05\n",
      "3/9 [=========>....................] - ETA: 18sloss: 0.000134279311\n",
      "4/9 [============>.................] - ETA: 14sloss: 7.49984538e-05\n",
      "5/9 [===============>..............] - ETA: 11sloss: 8.94835903e-05\n",
      "6/9 [===================>..........] - ETA: 8s loss: 3.93216251e-05\n",
      "7/9 [======================>.......] - ETA: 5sloss: 0.000220811344\n",
      "8/9 [=========================>....] - ETA: 2sloss: 8.76205959e-05\n",
      "9/9 [==============================] - 26s 3s/step\n",
      "\n",
      " Epoch 41/50\n",
      "loss: 6.50904767e-05\n",
      "1/9 [==>...........................] - ETA: 23sloss: 0.000343079388\n",
      "2/9 [=====>........................] - ETA: 20sloss: 0.000125632738\n",
      "3/9 [=========>....................] - ETA: 18sloss: 5.97090402e-05\n",
      "4/9 [============>.................] - ETA: 15sloss: 6.72548413e-05\n",
      "5/9 [===============>..............] - ETA: 12sloss: 0.000191816973\n",
      "6/9 [===================>..........] - ETA: 9s loss: 6.52561357e-05\n",
      "7/9 [======================>.......] - ETA: 6sloss: 5.06232609e-05\n",
      "8/9 [=========================>....] - ETA: 3sloss: 6.32057054e-05\n",
      "9/9 [==============================] - 26s 3s/step\n",
      "\n",
      " Epoch 42/50\n",
      "loss: 2.81840694e-05\n",
      "1/9 [==>...........................] - ETA: 24sloss: 5.38172026e-05\n",
      "2/9 [=====>........................] - ETA: 20sloss: 9.87039311e-05\n",
      "3/9 [=========>....................] - ETA: 18sloss: 1.78971513e-05\n",
      "4/9 [============>.................] - ETA: 15sloss: 7.84554722e-05\n",
      "5/9 [===============>..............] - ETA: 12sloss: 0.000138156858\n",
      "6/9 [===================>..........] - ETA: 9s loss: 1.4901163e-08\n",
      "7/9 [======================>.......] - ETA: 6sloss: 0.000172377535\n",
      "8/9 [=========================>....] - ETA: 3sloss: 2.48353075e-07\n",
      "9/9 [==============================] - 27s 3s/step\n",
      "\n",
      " Epoch 43/50\n",
      "loss: 4.84730044e-05\n",
      "1/9 [==>...........................] - ETA: 23sloss: 8.37099215e-05\n",
      "2/9 [=====>........................] - ETA: 20sloss: 5.53149403e-05\n",
      "3/9 [=========>....................] - ETA: 17sloss: 4.51220367e-05\n",
      "4/9 [============>.................] - ETA: 15sloss: 0.00013556164\n",
      "5/9 [===============>..............] - ETA: 12sloss: 3.18892694e-06\n",
      "6/9 [===================>..........] - ETA: 9s loss: 0.000106082567\n",
      "7/9 [======================>.......] - ETA: 6sloss: 8.98491489e-05\n",
      "8/9 [=========================>....] - ETA: 3sloss: 5.98019542e-05\n",
      "9/9 [==============================] - 26s 3s/step\n",
      "\n",
      " Epoch 44/50\n",
      "loss: 7.15642382e-05\n",
      "1/9 [==>...........................] - ETA: 24sloss: 6.90790694e-05\n",
      "2/9 [=====>........................] - ETA: 21sloss: 0.000158650058\n",
      "3/9 [=========>....................] - ETA: 18sloss: 2.11014012e-05\n",
      "4/9 [============>.................] - ETA: 15sloss: 0.00038672355\n",
      "5/9 [===============>..............] - ETA: 11sloss: 0.00010421819\n",
      "6/9 [===================>..........] - ETA: 8s loss: 7.67413326e-07\n",
      "7/9 [======================>.......] - ETA: 5sloss: 7.14332855e-05\n",
      "8/9 [=========================>....] - ETA: 2sloss: 8.4369356e-05\n",
      "9/9 [==============================] - 27s 3s/step\n",
      "\n",
      " Epoch 45/50\n",
      "loss: 4.9744136e-05\n",
      "1/9 [==>...........................] - ETA: 24sloss: 3.13812416e-05\n",
      "2/9 [=====>........................] - ETA: 21sloss: 1.31956949e-05\n",
      "3/9 [=========>....................] - ETA: 18sloss: 6.97153737e-05\n",
      "4/9 [============>.................] - ETA: 14sloss: 7.49302708e-05\n",
      "5/9 [===============>..............] - ETA: 11sloss: 0.000232639635\n",
      "6/9 [===================>..........] - ETA: 8s loss: 0.000281935208\n",
      "7/9 [======================>.......] - ETA: 5sloss: 2.06028035e-05\n",
      "8/9 [=========================>....] - ETA: 2sloss: 4.98193112e-05\n",
      "9/9 [==============================] - 27s 3s/step\n",
      "\n",
      " Epoch 46/50\n",
      "loss: 3.25955589e-05\n",
      "1/9 [==>...........................] - ETA: 24sloss: 6.1970466e-05\n",
      "2/9 [=====>........................] - ETA: 21sloss: 7.48959e-05\n",
      "3/9 [=========>....................] - ETA: 18sloss: 2.14598549e-05\n",
      "4/9 [============>.................] - ETA: 15sloss: 0.000245583593\n",
      "5/9 [===============>..............] - ETA: 12sloss: 6.07595139e-05\n",
      "6/9 [===================>..........] - ETA: 9s loss: 7.76481684e-05\n",
      "7/9 [======================>.......] - ETA: 6sloss: 6.1787272e-05\n",
      "8/9 [=========================>....] - ETA: 3sloss: 8.13424631e-05\n",
      "9/9 [==============================] - 27s 3s/step\n",
      "\n",
      " Epoch 47/50\n",
      "loss: 3.37133824e-05\n",
      "1/9 [==>...........................] - ETA: 23sloss: 4.03829563e-06\n",
      "2/9 [=====>........................] - ETA: 21sloss: 9.45901047e-06\n",
      "3/9 [=========>....................] - ETA: 18sloss: 7.63963471e-05\n",
      "4/9 [============>.................] - ETA: 15sloss: 3.66576501e-06\n",
      "5/9 [===============>..............] - ETA: 12sloss: 2.77629333e-05\n",
      "6/9 [===================>..........] - ETA: 9s loss: 4.92752879e-05\n",
      "7/9 [======================>.......] - ETA: 6sloss: 0.000265293085\n",
      "8/9 [=========================>....] - ETA: 3sloss: 1.08931126e-05\n",
      "9/9 [==============================] - 27s 3s/step\n",
      "\n",
      " Epoch 48/50\n",
      "loss: 1.28647489e-05\n",
      "1/9 [==>...........................] - ETA: 24sloss: 5.52339552e-05\n",
      "2/9 [=====>........................] - ETA: 21sloss: 7.84154254e-05\n",
      "3/9 [=========>....................] - ETA: 17sloss: 0.00011104453\n",
      "4/9 [============>.................] - ETA: 14sloss: 8.01395581e-05\n",
      "5/9 [===============>..............] - ETA: 12sloss: 8.44990791e-05\n",
      "6/9 [===================>..........] - ETA: 9s loss: 1.65896636e-05\n",
      "7/9 [======================>.......] - ETA: 6sloss: 5.68607175e-05\n",
      "8/9 [=========================>....] - ETA: 3sloss: 1.83781125e-07\n",
      "9/9 [==============================] - 27s 3s/step\n",
      "\n",
      " Epoch 49/50\n",
      "loss: 5.33719503e-05\n",
      "1/9 [==>...........................] - ETA: 24sloss: 7.2951414e-05\n",
      "2/9 [=====>........................] - ETA: 20sloss: 0.000213932159\n",
      "3/9 [=========>....................] - ETA: 17sloss: 1.5378946e-05\n",
      "4/9 [============>.................] - ETA: 15sloss: 8.84690453e-05\n",
      "5/9 [===============>..............] - ETA: 12sloss: 1.98871876e-05\n",
      "6/9 [===================>..........] - ETA: 9s loss: 4.94737e-06\n",
      "7/9 [======================>.......] - ETA: 6sloss: 0.000170781917\n",
      "8/9 [=========================>....] - ETA: 3sloss: 6.86120547e-05\n",
      "9/9 [==============================] - 27s 3s/step\n",
      "\n",
      " Epoch 50/50\n",
      "loss: 7.64585639e-05\n",
      "1/9 [==>...........................] - ETA: 24sloss: 4.29941319e-05\n",
      "2/9 [=====>........................] - ETA: 20sloss: 2.77431755e-05\n",
      "3/9 [=========>....................] - ETA: 18sloss: 6.94544287e-05\n",
      "4/9 [============>.................] - ETA: 15sloss: 5.65707705e-05\n",
      "5/9 [===============>..............] - ETA: 12sloss: 6.83999133e-06\n",
      "6/9 [===================>..........] - ETA: 9s loss: 7.0780743e-07\n",
      "7/9 [======================>.......] - ETA: 6sloss: 0.000186620338\n",
      "8/9 [=========================>....] - ETA: 3sloss: 6.90534725e-05\n",
      "9/9 [==============================] - 27s 3s/step\n"
     ]
    }
   ],
   "source": [
    "train(train_data, EPOCHS)"
   ]
  },
  {
   "cell_type": "code",
   "execution_count": 66,
   "id": "e93c33fd-8ddc-4c42-b58c-49c5e220f0e3",
   "metadata": {},
   "outputs": [],
   "source": [
    "# Evaluate Model\n",
    "# Import metric calculations\n",
    "# Precision -> proportion of positive identifications were correct; Recall -> proportion of actual positives correctly identified\n",
    "from tensorflow.keras.metrics import Precision, Recall"
   ]
  },
  {
   "cell_type": "code",
   "execution_count": 67,
   "id": "9bb2365b-a6f0-4989-b7e2-91ddd6b0836d",
   "metadata": {},
   "outputs": [],
   "source": [
    "#Make Predictions\n",
    "# Get a batch of test data\n",
    "test_input, test_val, y_true = test_data.as_numpy_iterator().next()"
   ]
  },
  {
   "cell_type": "code",
   "execution_count": 68,
   "id": "4ff54517-20a4-454c-8d44-c011300a7b24",
   "metadata": {},
   "outputs": [
    {
     "name": "stdout",
     "output_type": "stream",
     "text": [
      "1/1 [==============================] - 0s 145ms/step\n"
     ]
    },
    {
     "data": {
      "text/plain": [
       "array([[9.9993920e-01],\n",
       "       [9.9772400e-01],\n",
       "       [1.0000000e+00],\n",
       "       [6.8863248e-12],\n",
       "       [9.7088466e-15],\n",
       "       [2.5353004e-16],\n",
       "       [9.9999905e-01],\n",
       "       [1.0000000e+00],\n",
       "       [1.0000000e+00],\n",
       "       [9.9999964e-01],\n",
       "       [1.0000000e+00],\n",
       "       [7.8530550e-11],\n",
       "       [1.0000000e+00],\n",
       "       [4.0691508e-12],\n",
       "       [2.3036829e-10],\n",
       "       [1.0000000e+00]], dtype=float32)"
      ]
     },
     "execution_count": 68,
     "metadata": {},
     "output_type": "execute_result"
    }
   ],
   "source": [
    "# Make predictions\n",
    "y_hat = siamese_model.predict([test_input, test_val])\n",
    "y_hat"
   ]
  },
  {
   "cell_type": "code",
   "execution_count": 69,
   "id": "9e7983bf-2291-417b-9b3b-97de0abae064",
   "metadata": {},
   "outputs": [
    {
     "data": {
      "text/plain": [
       "[1, 1, 1, 0, 0, 0, 1, 1, 1, 1, 1, 0, 1, 0, 0, 1]"
      ]
     },
     "execution_count": 69,
     "metadata": {},
     "output_type": "execute_result"
    }
   ],
   "source": [
    "# Post processing the results, covert to either 0 or 1\n",
    "[1 if prediction > 0.5 else 0 for prediction in y_hat]"
   ]
  },
  {
   "cell_type": "code",
   "execution_count": 70,
   "id": "87725f90-1400-44b2-b417-59103a241060",
   "metadata": {},
   "outputs": [
    {
     "data": {
      "text/plain": [
       "array([1., 1., 1., 0., 0., 0., 1., 1., 1., 1., 1., 0., 1., 0., 0., 1.],\n",
       "      dtype=float32)"
      ]
     },
     "execution_count": 70,
     "metadata": {},
     "output_type": "execute_result"
    }
   ],
   "source": [
    "y_true"
   ]
  },
  {
   "cell_type": "code",
   "execution_count": 71,
   "id": "34a46f6b-a78b-4886-a27e-d6a1cfbb7fda",
   "metadata": {},
   "outputs": [
    {
     "data": {
      "text/plain": [
       "1.0"
      ]
     },
     "execution_count": 71,
     "metadata": {},
     "output_type": "execute_result"
    }
   ],
   "source": [
    "# Calculate metrics\n",
    "# Creating a metric object\n",
    "m = Recall()\n",
    "\n",
    "# Calculating the recall value\n",
    "m.update_state(y_true, y_hat)\n",
    "\n",
    "#Return Recall Result\n",
    "m.result().numpy()\n"
   ]
  },
  {
   "cell_type": "code",
   "execution_count": 72,
   "id": "63f1ebe7-d19b-4e8b-8919-470de974d372",
   "metadata": {},
   "outputs": [
    {
     "data": {
      "text/plain": [
       "1.0"
      ]
     },
     "execution_count": 72,
     "metadata": {},
     "output_type": "execute_result"
    }
   ],
   "source": [
    "# Creating a metric object\n",
    "m = Precision()\n",
    "\n",
    "# Calculating the recall value\n",
    "m.update_state(y_true, y_hat)\n",
    "\n",
    "#Return Recall Result\n",
    "m.result().numpy()"
   ]
  },
  {
   "cell_type": "code",
   "execution_count": 73,
   "id": "34ec20b7-5706-4715-ba3c-9162a845fd8d",
   "metadata": {
    "jp-MarkdownHeadingCollapsed": true
   },
   "outputs": [
    {
     "data": {
      "image/png": "[encoded data removed]",
      "text/plain": [
       "<Figure size 1000x800 with 2 Axes>"
      ]
     },
     "metadata": {},
     "output_type": "display_data"
    }
   ],
   "source": [
    "# Visualize Results\n",
    "# Set plot size\n",
    "plt.figure(figsize=(10,8))\n",
    "# Set first subplot\n",
    "plt.subplot(1,2,1)\n",
    "# Switch the indexes to see compared images (match to yhat and y_true indexes  as seen in above predictions and post-processing to see where they were validated or not)\n",
    "plt.imshow(test_input[0])\n",
    "plt.subplot(1,2,2)\n",
    "# Switch the indexes to see compared images (match to yhat and y_true indexes  as seen in above predictions and post-processing to see where they were validated or not)\n",
    "plt.imshow(test_val[0])\n",
    "# Render\n",
    "plt.show()"
   ]
  },
  {
   "cell_type": "code",
   "execution_count": 74,
   "id": "6c06fb6c-1395-4f24-83f6-9459d197d8b1",
   "metadata": {},
   "outputs": [
    {
     "name": "stdout",
     "output_type": "stream",
     "text": [
      "WARNING:tensorflow:Compiled the loaded model, but the compiled metrics have yet to be built. `model.compile_metrics` will be empty until you train or evaluate the model.\n"
     ]
    },
    {
     "name": "stderr",
     "output_type": "stream",
     "text": [
      "/Users/gabrielschull/anaconda3/envs/facialrecognition/lib/python3.10/site-packages/keras/src/engine/training.py:3079: UserWarning: You are saving your model as an HDF5 file via `model.save()`. This file format is considered legacy. We recommend using instead the native Keras format, e.g. `model.save('my_model.keras')`.\n",
      "  saving_api.save_model(\n"
     ]
    }
   ],
   "source": [
    " # Save Model\n",
    "siamese_model.save('siamesemodel.h5')"
   ]
  },
  {
   "cell_type": "code",
   "execution_count": 75,
   "id": "da103d50-e213-4149-8647-17d90e578684",
   "metadata": {},
   "outputs": [
    {
     "name": "stdout",
     "output_type": "stream",
     "text": [
      "WARNING:tensorflow:No training configuration found in the save file, so the model was *not* compiled. Compile it manually.\n"
     ]
    }
   ],
   "source": [
    "# Reload Model\n",
    "model = tf.keras.models.load_model('siamesemodel.h5', \n",
    "                                   custom_objects={'L1Dist':L1Dist, 'BinaryCrossentropy': tf.losses.BinaryCrossentropy})"
   ]
  },
  {
   "cell_type": "code",
   "execution_count": 76,
   "id": "c93022fe-2f76-4d59-9b32-091d9d57ebeb",
   "metadata": {},
   "outputs": [
    {
     "name": "stdout",
     "output_type": "stream",
     "text": [
      "1/1 [==============================] - 0s 60ms/step\n"
     ]
    },
    {
     "data": {
      "text/plain": [
       "array([[9.9993920e-01],\n",
       "       [9.9772400e-01],\n",
       "       [1.0000000e+00],\n",
       "       [6.8863248e-12],\n",
       "       [9.7088466e-15],\n",
       "       [2.5353004e-16],\n",
       "       [9.9999905e-01],\n",
       "       [1.0000000e+00],\n",
       "       [1.0000000e+00],\n",
       "       [9.9999964e-01],\n",
       "       [1.0000000e+00],\n",
       "       [7.8530550e-11],\n",
       "       [1.0000000e+00],\n",
       "       [4.0691508e-12],\n",
       "       [2.3036829e-10],\n",
       "       [1.0000000e+00]], dtype=float32)"
      ]
     },
     "execution_count": 76,
     "metadata": {},
     "output_type": "execute_result"
    }
   ],
   "source": [
    "# Predictions with reloaded model\n",
    "model.predict([test_input, test_val])"
   ]
  },
  {
   "cell_type": "code",
   "execution_count": 77,
   "id": "b915adfb-da95-4773-9e2d-c6fc3b98f69e",
   "metadata": {},
   "outputs": [
    {
     "name": "stdout",
     "output_type": "stream",
     "text": [
      "Model: \"SiameseNetwork\"\n",
      "__________________________________________________________________________________________________\n",
      " Layer (type)                Output Shape                 Param #   Connected to                  \n",
      "==================================================================================================\n",
      " input_img (InputLayer)      [(None, 105, 105, 3)]        0         []                            \n",
      "                                                                                                  \n",
      " validation_img (InputLayer  [(None, 105, 105, 3)]        0         []                            \n",
      " )                                                                                                \n",
      "                                                                                                  \n",
      " embedding (Functional)      (None, 4096)                 3896044   ['input_img[0][0]',           \n",
      "                                                          8          'validation_img[0][0]']      \n",
      "                                                                                                  \n",
      " l1_dist_3 (L1Dist)          (None, 4096)                 0         ['embedding[0][0]',           \n",
      "                                                                     'embedding[1][0]']           \n",
      "                                                                                                  \n",
      " dense_3 (Dense)             (None, 1)                    4097      ['l1_dist_3[0][0]']           \n",
      "                                                                                                  \n",
      "==================================================================================================\n",
      "Total params: 38964545 (148.64 MB)\n",
      "Trainable params: 38964545 (148.64 MB)\n",
      "Non-trainable params: 0 (0.00 Byte)\n",
      "__________________________________________________________________________________________________\n"
     ]
    }
   ],
   "source": [
    "# Model Summary\n",
    "model.summary()"
   ]
  },
  {
   "cell_type": "code",
   "execution_count": 103,
   "id": "71a489a2-816d-488e-b6b5-db6896da427e",
   "metadata": {},
   "outputs": [
    {
     "data": {
      "text/plain": [
       "['08d2f532-d2a3-11ee-ab5a-563466da705a.jpg',\n",
       " '0bbd9edc-d2a3-11ee-ab5a-563466da705a.jpg',\n",
       " '06c70ba2-d2a3-11ee-ab5a-563466da705a.jpg',\n",
       " '0af79a66-d2a3-11ee-ab5a-563466da705a.jpg',\n",
       " '9f9d33fe-d5ac-11ee-af86-563466da705a.jpg',\n",
       " 'f7857930-d2a2-11ee-ab5a-563466da705a.jpg',\n",
       " '8dd22fae-d5ab-11ee-bce5-563466da705a.jpg',\n",
       " '0a503424-d2a3-11ee-ab5a-563466da705a.jpg',\n",
       " '08ec8fce-d2a3-11ee-ab5a-563466da705a.jpg',\n",
       " '0b2432a2-d5ae-11ee-ac8b-563466da705a.jpg',\n",
       " '.DS_Store',\n",
       " '1a12bfee-d5af-11ee-be5e-563466da705a.jpg',\n",
       " '03db2c98-d2a3-11ee-ab5a-563466da705a.jpg',\n",
       " '0ab5d2a2-d2a3-11ee-ab5a-563466da705a.jpg',\n",
       " '09c12770-d2a3-11ee-ab5a-563466da705a.jpg',\n",
       " '040e0866-d2a3-11ee-ab5a-563466da705a.jpg',\n",
       " '06e5b638-d2a3-11ee-ab5a-563466da705a.jpg',\n",
       " 'f449a110-d2a2-11ee-ab5a-563466da705a.jpg',\n",
       " '0bf032e8-d2a3-11ee-ab5a-563466da705a.jpg',\n",
       " '0b57a5a0-d2a3-11ee-ab5a-563466da705a.jpg',\n",
       " '0ba4faa8-d2a3-11ee-ab5a-563466da705a.jpg',\n",
       " '09f48b24-d2a3-11ee-ab5a-563466da705a.jpg',\n",
       " '05c930ae-d2a3-11ee-ab5a-563466da705a.jpg',\n",
       " '0adee0de-d2a3-11ee-ab5a-563466da705a.jpg',\n",
       " 'f7493236-d2a2-11ee-ab5a-563466da705a.jpg',\n",
       " '09ea8cfa-d2a3-11ee-ab5a-563466da705a.jpg',\n",
       " 'f525e404-d2a2-11ee-ab5a-563466da705a.jpg',\n",
       " '09b79908-d2a3-11ee-ab5a-563466da705a.jpg',\n",
       " '0bd8034e-d2a3-11ee-ab5a-563466da705a.jpg',\n",
       " '7b24d6d2-d5a5-11ee-b4ac-563466da705a.jpg',\n",
       " '07d9f39c-d2a3-11ee-ab5a-563466da705a.jpg',\n",
       " '0aabcd02-d2a3-11ee-ab5a-563466da705a.jpg',\n",
       " '09db83e0-d2a3-11ee-ab5a-563466da705a.jpg',\n",
       " '08b96496-d2a3-11ee-ab5a-563466da705a.jpg',\n",
       " 'f7533074-d2a2-11ee-ab5a-563466da705a.jpg',\n",
       " 'f420cbbe-d2a2-11ee-ab5a-563466da705a.jpg',\n",
       " '03bd027c-d2a3-11ee-ab5a-563466da705a.jpg',\n",
       " 'f8056140-d2a2-11ee-ab5a-563466da705a.jpg',\n",
       " 'f8141500-d2a2-11ee-ab5a-563466da705a.jpg',\n",
       " 'f462c5a0-d2a2-11ee-ab5a-563466da705a.jpg',\n",
       " '05f12f82-d2a3-11ee-ab5a-563466da705a.jpg',\n",
       " '0ae8c41e-d2a3-11ee-ab5a-563466da705a.jpg',\n",
       " '09d088e6-d2a3-11ee-ab5a-563466da705a.jpg',\n",
       " '0acf7054-d2a3-11ee-ab5a-563466da705a.jpg',\n",
       " '04e9610e-d2a3-11ee-ab5a-563466da705a.jpg',\n",
       " '05aa414e-d2a3-11ee-ab5a-563466da705a.jpg',\n",
       " '07a6fcf8-d2a3-11ee-ab5a-563466da705a.jpg',\n",
       " '0b723348-d2a3-11ee-ab5a-563466da705a.jpg',\n",
       " '13bc3fa0-d4ea-11ee-a90d-563466da705a.jpg',\n",
       " '04cf8b26-d2a3-11ee-ab5a-563466da705a.jpg',\n",
       " 'f8377702-d2a2-11ee-ab5a-563466da705a.jpg',\n",
       " '0b1ba60e-d2a3-11ee-ab5a-563466da705a.jpg',\n",
       " '0b8abb5c-d2a3-11ee-ab5a-563466da705a.jpg',\n",
       " '2d5416a0-d5ac-11ee-95a8-563466da705a.jpg',\n",
       " '041e01e4-d2a3-11ee-ab5a-563466da705a.jpg',\n",
       " '07f36642-d2a3-11ee-ab5a-563466da705a.jpg',\n",
       " '07bfb978-d2a3-11ee-ab5a-563466da705a.jpg',\n",
       " '0ac54f3e-d2a3-11ee-ab5a-563466da705a.jpg',\n",
       " '06ad663e-d2a3-11ee-ab5a-563466da705a.jpg',\n",
       " '03f4bd66-d2a3-11ee-ab5a-563466da705a.jpg',\n",
       " '04b0c8da-d2a3-11ee-ab5a-563466da705a.jpg',\n",
       " 'f439d0b4-d2a2-11ee-ab5a-563466da705a.jpg',\n",
       " '0b0157fe-d2a3-11ee-ab5a-563466da705a.jpg',\n",
       " 'f505b29c-d2a2-11ee-ab5a-563466da705a.jpg',\n",
       " 'f7110942-d2a2-11ee-ab5a-563466da705a.jpg',\n",
       " '0b3a0edc-d2a3-11ee-ab5a-563466da705a.jpg',\n",
       " '09a87572-d2a3-11ee-ab5a-563466da705a.jpg',\n",
       " '06fed1b8-d2a3-11ee-ab5a-563466da705a.jpg',\n",
       " 'f5152024-d2a2-11ee-ab5a-563466da705a.jpg']"
      ]
     },
     "execution_count": 103,
     "metadata": {},
     "output_type": "execute_result"
    }
   ],
   "source": [
    "os.listdir(os.path.join('application_data', 'verification_images'))"
   ]
  },
  {
   "cell_type": "code",
   "execution_count": 105,
   "id": "a5c9935b-0441-4a1a-a794-927701c4db67",
   "metadata": {},
   "outputs": [
    {
     "data": {
      "text/plain": [
       "'application_data/input_image/input_image.jpg'"
      ]
     },
     "execution_count": 105,
     "metadata": {},
     "output_type": "execute_result"
    }
   ],
   "source": [
    "os.path.join('application_data', 'input_image', 'input_image.jpg')"
   ]
  },
  {
   "cell_type": "code",
   "execution_count": 131,
   "id": "61e1d40a-e0ad-4e91-984f-d79f314f41d7",
   "metadata": {
    "scrolled": true
   },
   "outputs": [
    {
     "name": "stdout",
     "output_type": "stream",
     "text": [
      "application_data/verification_images/08d2f532-d2a3-11ee-ab5a-563466da705a.jpg\n",
      "application_data/verification_images/0bbd9edc-d2a3-11ee-ab5a-563466da705a.jpg\n",
      "application_data/verification_images/06c70ba2-d2a3-11ee-ab5a-563466da705a.jpg\n",
      "application_data/verification_images/0af79a66-d2a3-11ee-ab5a-563466da705a.jpg\n",
      "application_data/verification_images/9f9d33fe-d5ac-11ee-af86-563466da705a.jpg\n",
      "application_data/verification_images/f7857930-d2a2-11ee-ab5a-563466da705a.jpg\n",
      "application_data/verification_images/8dd22fae-d5ab-11ee-bce5-563466da705a.jpg\n",
      "application_data/verification_images/0a503424-d2a3-11ee-ab5a-563466da705a.jpg\n",
      "application_data/verification_images/08ec8fce-d2a3-11ee-ab5a-563466da705a.jpg\n",
      "application_data/verification_images/0b2432a2-d5ae-11ee-ac8b-563466da705a.jpg\n",
      "application_data/verification_images/.DS_Store\n",
      "application_data/verification_images/1a12bfee-d5af-11ee-be5e-563466da705a.jpg\n",
      "application_data/verification_images/03db2c98-d2a3-11ee-ab5a-563466da705a.jpg\n",
      "application_data/verification_images/0ab5d2a2-d2a3-11ee-ab5a-563466da705a.jpg\n",
      "application_data/verification_images/09c12770-d2a3-11ee-ab5a-563466da705a.jpg\n",
      "application_data/verification_images/040e0866-d2a3-11ee-ab5a-563466da705a.jpg\n",
      "application_data/verification_images/06e5b638-d2a3-11ee-ab5a-563466da705a.jpg\n",
      "application_data/verification_images/f449a110-d2a2-11ee-ab5a-563466da705a.jpg\n",
      "application_data/verification_images/0bf032e8-d2a3-11ee-ab5a-563466da705a.jpg\n",
      "application_data/verification_images/0b57a5a0-d2a3-11ee-ab5a-563466da705a.jpg\n",
      "application_data/verification_images/0ba4faa8-d2a3-11ee-ab5a-563466da705a.jpg\n",
      "application_data/verification_images/09f48b24-d2a3-11ee-ab5a-563466da705a.jpg\n",
      "application_data/verification_images/05c930ae-d2a3-11ee-ab5a-563466da705a.jpg\n",
      "application_data/verification_images/0adee0de-d2a3-11ee-ab5a-563466da705a.jpg\n",
      "application_data/verification_images/f7493236-d2a2-11ee-ab5a-563466da705a.jpg\n",
      "application_data/verification_images/09ea8cfa-d2a3-11ee-ab5a-563466da705a.jpg\n",
      "application_data/verification_images/f525e404-d2a2-11ee-ab5a-563466da705a.jpg\n",
      "application_data/verification_images/09b79908-d2a3-11ee-ab5a-563466da705a.jpg\n",
      "application_data/verification_images/0bd8034e-d2a3-11ee-ab5a-563466da705a.jpg\n",
      "application_data/verification_images/7b24d6d2-d5a5-11ee-b4ac-563466da705a.jpg\n",
      "application_data/verification_images/07d9f39c-d2a3-11ee-ab5a-563466da705a.jpg\n",
      "application_data/verification_images/0aabcd02-d2a3-11ee-ab5a-563466da705a.jpg\n",
      "application_data/verification_images/09db83e0-d2a3-11ee-ab5a-563466da705a.jpg\n",
      "application_data/verification_images/08b96496-d2a3-11ee-ab5a-563466da705a.jpg\n",
      "application_data/verification_images/f7533074-d2a2-11ee-ab5a-563466da705a.jpg\n",
      "application_data/verification_images/f420cbbe-d2a2-11ee-ab5a-563466da705a.jpg\n",
      "application_data/verification_images/03bd027c-d2a3-11ee-ab5a-563466da705a.jpg\n",
      "application_data/verification_images/f8056140-d2a2-11ee-ab5a-563466da705a.jpg\n",
      "application_data/verification_images/f8141500-d2a2-11ee-ab5a-563466da705a.jpg\n",
      "application_data/verification_images/f462c5a0-d2a2-11ee-ab5a-563466da705a.jpg\n",
      "application_data/verification_images/05f12f82-d2a3-11ee-ab5a-563466da705a.jpg\n",
      "application_data/verification_images/0ae8c41e-d2a3-11ee-ab5a-563466da705a.jpg\n",
      "application_data/verification_images/09d088e6-d2a3-11ee-ab5a-563466da705a.jpg\n",
      "application_data/verification_images/0acf7054-d2a3-11ee-ab5a-563466da705a.jpg\n",
      "application_data/verification_images/04e9610e-d2a3-11ee-ab5a-563466da705a.jpg\n",
      "application_data/verification_images/05aa414e-d2a3-11ee-ab5a-563466da705a.jpg\n",
      "application_data/verification_images/07a6fcf8-d2a3-11ee-ab5a-563466da705a.jpg\n",
      "application_data/verification_images/0b723348-d2a3-11ee-ab5a-563466da705a.jpg\n",
      "application_data/verification_images/13bc3fa0-d4ea-11ee-a90d-563466da705a.jpg\n",
      "application_data/verification_images/04cf8b26-d2a3-11ee-ab5a-563466da705a.jpg\n",
      "application_data/verification_images/f8377702-d2a2-11ee-ab5a-563466da705a.jpg\n",
      "application_data/verification_images/0b1ba60e-d2a3-11ee-ab5a-563466da705a.jpg\n",
      "application_data/verification_images/0b8abb5c-d2a3-11ee-ab5a-563466da705a.jpg\n",
      "application_data/verification_images/2d5416a0-d5ac-11ee-95a8-563466da705a.jpg\n",
      "application_data/verification_images/041e01e4-d2a3-11ee-ab5a-563466da705a.jpg\n",
      "application_data/verification_images/07f36642-d2a3-11ee-ab5a-563466da705a.jpg\n",
      "application_data/verification_images/07bfb978-d2a3-11ee-ab5a-563466da705a.jpg\n",
      "application_data/verification_images/0ac54f3e-d2a3-11ee-ab5a-563466da705a.jpg\n",
      "application_data/verification_images/06ad663e-d2a3-11ee-ab5a-563466da705a.jpg\n",
      "application_data/verification_images/03f4bd66-d2a3-11ee-ab5a-563466da705a.jpg\n",
      "application_data/verification_images/04b0c8da-d2a3-11ee-ab5a-563466da705a.jpg\n",
      "application_data/verification_images/f439d0b4-d2a2-11ee-ab5a-563466da705a.jpg\n",
      "application_data/verification_images/0b0157fe-d2a3-11ee-ab5a-563466da705a.jpg\n",
      "application_data/verification_images/f505b29c-d2a2-11ee-ab5a-563466da705a.jpg\n",
      "application_data/verification_images/f7110942-d2a2-11ee-ab5a-563466da705a.jpg\n",
      "application_data/verification_images/0b3a0edc-d2a3-11ee-ab5a-563466da705a.jpg\n",
      "application_data/verification_images/09a87572-d2a3-11ee-ab5a-563466da705a.jpg\n",
      "application_data/verification_images/06fed1b8-d2a3-11ee-ab5a-563466da705a.jpg\n",
      "application_data/verification_images/f5152024-d2a2-11ee-ab5a-563466da705a.jpg\n"
     ]
    }
   ],
   "source": [
    "for image in os.listdir(os.path.join('application_data', 'verification_images')):\n",
    "    validation_img = os.path.join('application_data','verification_images', image)\n",
    "    print(validation_img)"
   ]
  },
  {
   "cell_type": "code",
   "execution_count": 154,
   "id": "6d7f145f-9142-4e71-a396-653fb57fc79a",
   "metadata": {},
   "outputs": [],
   "source": [
    "# Real Time Test\n",
    "# Verification function\n",
    "\n",
    "def verify(model, detection_threshold, verification_threshold):\n",
    "    results = []\n",
    "    verification_images_path = os.path.join('application_data', 'verification_images')\n",
    "    # Filter for .jpg and .jpeg files only\n",
    "    image_files = [f for f in os.listdir(verification_images_path) if f.endswith(('.jpg', '.jpeg'))]\n",
    "\n",
    "    for image in image_files:\n",
    "        input_img_path = os.path.join('application_data', 'input_image', 'input_image.jpg')\n",
    "        input_img = preprocess(input_img_path)\n",
    "\n",
    "        validation_img_path = os.path.join('application_data', 'verification_images', image)\n",
    "        validation_img = preprocess(validation_img_path)\n",
    "\n",
    "        # Make Predictions\n",
    "        result = model.predict(list(np.expand_dims([input_img, validation_img], axis=1)))\n",
    "        results.append(result)\n",
    "\n",
    "    # Calculate verification based on detection threshold\n",
    "    detection = np.sum(np.array(results) > detection_threshold)\n",
    "    verification = detection / len(image_files)  # Use filtered list length for accuracy\n",
    "    verified = verification > verification_threshold\n",
    "\n",
    "    return results, verified\n"
   ]
  },
  {
   "cell_type": "code",
   "execution_count": 156,
   "id": "72dcc8c2-3536-4971-8a5b-f36b9cce8419",
   "metadata": {},
   "outputs": [
    {
     "data": {
      "text/plain": [
       "-1"
      ]
     },
     "execution_count": 156,
     "metadata": {},
     "output_type": "execute_result"
    }
   ],
   "source": [
    "# OpenCV Real Time Verification\n",
    "\n",
    "cap = cv2.VideoCapture(0)\n",
    "while cap.isOpened():\n",
    "    ret, frame = cap.read()\n",
    "\n",
    "    #cut down to 250x250px frame\n",
    "    frame = frame[250:250+250,475:475+250,:]\n",
    "\n",
    "    cv2.imshow('Verification', frame)\n",
    "\n",
    "    # Verification trigger\n",
    "    if cv2.waitKey(10) & 0xFF == ord('v'):\n",
    "        # Save input image to application_data/input_image folder\n",
    "        cv2.imwrite(os.path.join('application_data', 'input_image', 'input_image.jpg'),frame)\n",
    "        # Verification\n",
    "        results, verified = verify(model, 0.9, 0.7)\n",
    "        print(verified)\n",
    "    \n",
    "    if cv2.waitKey(10) & 0xFF == ord('q'):\n",
    "        break\n",
    "        \n",
    "cap.release()\n",
    "cv2.destroyAllWindows()\n",
    "cv2.waitKey(1)"
   ]
  },
  {
   "cell_type": "code",
   "execution_count": null,
   "id": "a50d600a-42ba-428e-9197-2897d2e64d56",
   "metadata": {},
   "outputs": [],
   "source": []
  }
 ],
 "metadata": {
  "kernelspec": {
   "display_name": "Python (facialrecognition)",
   "language": "python",
   "name": "facialrecognition"
  },
  "language_info": {
   "codemirror_mode": {
    "name": "ipython",
    "version": 3
   },
   "file_extension": ".py",
   "mimetype": "text/x-python",
   "name": "python",
   "nbconvert_exporter": "python",
   "pygments_lexer": "ipython3",
   "version": "3.10.13"
  }
 },
 "nbformat": 4,
 "nbformat_minor": 5
}
