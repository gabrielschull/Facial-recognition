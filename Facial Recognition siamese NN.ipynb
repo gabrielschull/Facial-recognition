{
 "cells": [
  {
   "cell_type": "markdown",
   "id": "38f71bb0-36a4-401a-8e10-ce32cba3e46c",
   "metadata": {},
   "source": [
    "#Install Dependencies"
   ]
  },
  {
   "cell_type": "code",
   "execution_count": 1,
   "id": "3e73cecf-066f-4cc4-9126-123c985b8510",
   "metadata": {
    "scrolled": true
   },
   "outputs": [
    {
     "name": "stdout",
     "output_type": "stream",
     "text": [
      "Requirement already satisfied: tensorflow==2.14 in /Users/gabrielschull/anaconda3/envs/facialrecognition/lib/python3.10/site-packages (2.14.0)\n",
      "Requirement already satisfied: tensorflow-metal==1.1 in /Users/gabrielschull/anaconda3/envs/facialrecognition/lib/python3.10/site-packages (1.1.0)\n",
      "Requirement already satisfied: opencv-python-headless in /Users/gabrielschull/anaconda3/envs/facialrecognition/lib/python3.10/site-packages (4.9.0.80)\n",
      "Requirement already satisfied: matplotlib in /Users/gabrielschull/anaconda3/envs/facialrecognition/lib/python3.10/site-packages (3.8.3)\n",
      "Requirement already satisfied: tensorflow-macos==2.14.0 in /Users/gabrielschull/anaconda3/envs/facialrecognition/lib/python3.10/site-packages (from tensorflow==2.14) (2.14.0)\n",
      "Requirement already satisfied: wheel~=0.35 in /Users/gabrielschull/anaconda3/envs/facialrecognition/lib/python3.10/site-packages (from tensorflow-metal==1.1) (0.41.2)\n",
      "Requirement already satisfied: six>=1.15.0 in /Users/gabrielschull/anaconda3/envs/facialrecognition/lib/python3.10/site-packages (from tensorflow-metal==1.1) (1.15.0)\n",
      "Requirement already satisfied: absl-py>=1.0.0 in /Users/gabrielschull/anaconda3/envs/facialrecognition/lib/python3.10/site-packages (from tensorflow-macos==2.14.0->tensorflow==2.14) (2.1.0)\n",
      "Requirement already satisfied: astunparse>=1.6.0 in /Users/gabrielschull/anaconda3/envs/facialrecognition/lib/python3.10/site-packages (from tensorflow-macos==2.14.0->tensorflow==2.14) (1.6.3)\n",
      "Requirement already satisfied: flatbuffers>=23.5.26 in /Users/gabrielschull/anaconda3/envs/facialrecognition/lib/python3.10/site-packages (from tensorflow-macos==2.14.0->tensorflow==2.14) (23.5.26)\n",
      "Requirement already satisfied: gast!=0.5.0,!=0.5.1,!=0.5.2,>=0.2.1 in /Users/gabrielschull/anaconda3/envs/facialrecognition/lib/python3.10/site-packages (from tensorflow-macos==2.14.0->tensorflow==2.14) (0.4.0)\n",
      "Requirement already satisfied: google-pasta>=0.1.1 in /Users/gabrielschull/anaconda3/envs/facialrecognition/lib/python3.10/site-packages (from tensorflow-macos==2.14.0->tensorflow==2.14) (0.2.0)\n",
      "Requirement already satisfied: h5py>=2.9.0 in /Users/gabrielschull/anaconda3/envs/facialrecognition/lib/python3.10/site-packages (from tensorflow-macos==2.14.0->tensorflow==2.14) (3.10.0)\n",
      "Requirement already satisfied: libclang>=13.0.0 in /Users/gabrielschull/anaconda3/envs/facialrecognition/lib/python3.10/site-packages (from tensorflow-macos==2.14.0->tensorflow==2.14) (16.0.6)\n",
      "Requirement already satisfied: ml-dtypes==0.2.0 in /Users/gabrielschull/anaconda3/envs/facialrecognition/lib/python3.10/site-packages (from tensorflow-macos==2.14.0->tensorflow==2.14) (0.2.0)\n",
      "Requirement already satisfied: numpy>=1.23.5 in /Users/gabrielschull/anaconda3/envs/facialrecognition/lib/python3.10/site-packages (from tensorflow-macos==2.14.0->tensorflow==2.14) (1.26.4)\n",
      "Requirement already satisfied: opt-einsum>=2.3.2 in /Users/gabrielschull/anaconda3/envs/facialrecognition/lib/python3.10/site-packages (from tensorflow-macos==2.14.0->tensorflow==2.14) (3.3.0)\n",
      "Requirement already satisfied: packaging in /Users/gabrielschull/anaconda3/envs/facialrecognition/lib/python3.10/site-packages (from tensorflow-macos==2.14.0->tensorflow==2.14) (23.1)\n",
      "Requirement already satisfied: protobuf!=4.21.0,!=4.21.1,!=4.21.2,!=4.21.3,!=4.21.4,!=4.21.5,<5.0.0dev,>=3.20.3 in /Users/gabrielschull/anaconda3/envs/facialrecognition/lib/python3.10/site-packages (from tensorflow-macos==2.14.0->tensorflow==2.14) (4.25.3)\n",
      "Requirement already satisfied: setuptools in /Users/gabrielschull/anaconda3/envs/facialrecognition/lib/python3.10/site-packages (from tensorflow-macos==2.14.0->tensorflow==2.14) (68.2.2)\n",
      "Requirement already satisfied: termcolor>=1.1.0 in /Users/gabrielschull/anaconda3/envs/facialrecognition/lib/python3.10/site-packages (from tensorflow-macos==2.14.0->tensorflow==2.14) (2.4.0)\n",
      "Requirement already satisfied: typing-extensions>=3.6.6 in /Users/gabrielschull/anaconda3/envs/facialrecognition/lib/python3.10/site-packages (from tensorflow-macos==2.14.0->tensorflow==2.14) (4.9.0)\n",
      "Requirement already satisfied: wrapt<1.15,>=1.11.0 in /Users/gabrielschull/anaconda3/envs/facialrecognition/lib/python3.10/site-packages (from tensorflow-macos==2.14.0->tensorflow==2.14) (1.14.1)\n",
      "Requirement already satisfied: tensorflow-io-gcs-filesystem>=0.23.1 in /Users/gabrielschull/anaconda3/envs/facialrecognition/lib/python3.10/site-packages (from tensorflow-macos==2.14.0->tensorflow==2.14) (0.36.0)\n",
      "Requirement already satisfied: grpcio<2.0,>=1.24.3 in /Users/gabrielschull/anaconda3/envs/facialrecognition/lib/python3.10/site-packages (from tensorflow-macos==2.14.0->tensorflow==2.14) (1.62.0)\n",
      "Requirement already satisfied: tensorboard<2.15,>=2.14 in /Users/gabrielschull/anaconda3/envs/facialrecognition/lib/python3.10/site-packages (from tensorflow-macos==2.14.0->tensorflow==2.14) (2.14.1)\n",
      "Requirement already satisfied: tensorflow-estimator<2.15,>=2.14.0 in /Users/gabrielschull/anaconda3/envs/facialrecognition/lib/python3.10/site-packages (from tensorflow-macos==2.14.0->tensorflow==2.14) (2.14.0)\n",
      "Requirement already satisfied: keras<2.15,>=2.14.0 in /Users/gabrielschull/anaconda3/envs/facialrecognition/lib/python3.10/site-packages (from tensorflow-macos==2.14.0->tensorflow==2.14) (2.14.0)\n",
      "Requirement already satisfied: contourpy>=1.0.1 in /Users/gabrielschull/anaconda3/envs/facialrecognition/lib/python3.10/site-packages (from matplotlib) (1.2.0)\n",
      "Requirement already satisfied: cycler>=0.10 in /Users/gabrielschull/anaconda3/envs/facialrecognition/lib/python3.10/site-packages (from matplotlib) (0.12.1)\n",
      "Requirement already satisfied: fonttools>=4.22.0 in /Users/gabrielschull/anaconda3/envs/facialrecognition/lib/python3.10/site-packages (from matplotlib) (4.49.0)\n",
      "Requirement already satisfied: kiwisolver>=1.3.1 in /Users/gabrielschull/anaconda3/envs/facialrecognition/lib/python3.10/site-packages (from matplotlib) (1.4.5)\n",
      "Requirement already satisfied: pillow>=8 in /Users/gabrielschull/anaconda3/envs/facialrecognition/lib/python3.10/site-packages (from matplotlib) (10.2.0)\n",
      "Requirement already satisfied: pyparsing>=2.3.1 in /Users/gabrielschull/anaconda3/envs/facialrecognition/lib/python3.10/site-packages (from matplotlib) (3.1.1)\n",
      "Requirement already satisfied: python-dateutil>=2.7 in /Users/gabrielschull/anaconda3/envs/facialrecognition/lib/python3.10/site-packages (from matplotlib) (2.8.2)\n",
      "Requirement already satisfied: google-auth<3,>=1.6.3 in /Users/gabrielschull/anaconda3/envs/facialrecognition/lib/python3.10/site-packages (from tensorboard<2.15,>=2.14->tensorflow-macos==2.14.0->tensorflow==2.14) (2.28.1)\n",
      "Requirement already satisfied: google-auth-oauthlib<1.1,>=0.5 in /Users/gabrielschull/anaconda3/envs/facialrecognition/lib/python3.10/site-packages (from tensorboard<2.15,>=2.14->tensorflow-macos==2.14.0->tensorflow==2.14) (1.0.0)\n",
      "Requirement already satisfied: markdown>=2.6.8 in /Users/gabrielschull/anaconda3/envs/facialrecognition/lib/python3.10/site-packages (from tensorboard<2.15,>=2.14->tensorflow-macos==2.14.0->tensorflow==2.14) (3.5.2)\n",
      "Requirement already satisfied: requests<3,>=2.21.0 in /Users/gabrielschull/anaconda3/envs/facialrecognition/lib/python3.10/site-packages (from tensorboard<2.15,>=2.14->tensorflow-macos==2.14.0->tensorflow==2.14) (2.31.0)\n",
      "Requirement already satisfied: tensorboard-data-server<0.8.0,>=0.7.0 in /Users/gabrielschull/anaconda3/envs/facialrecognition/lib/python3.10/site-packages (from tensorboard<2.15,>=2.14->tensorflow-macos==2.14.0->tensorflow==2.14) (0.7.2)\n",
      "Requirement already satisfied: werkzeug>=1.0.1 in /Users/gabrielschull/anaconda3/envs/facialrecognition/lib/python3.10/site-packages (from tensorboard<2.15,>=2.14->tensorflow-macos==2.14.0->tensorflow==2.14) (3.0.1)\n",
      "Requirement already satisfied: cachetools<6.0,>=2.0.0 in /Users/gabrielschull/anaconda3/envs/facialrecognition/lib/python3.10/site-packages (from google-auth<3,>=1.6.3->tensorboard<2.15,>=2.14->tensorflow-macos==2.14.0->tensorflow==2.14) (5.3.2)\n",
      "Requirement already satisfied: pyasn1-modules>=0.2.1 in /Users/gabrielschull/anaconda3/envs/facialrecognition/lib/python3.10/site-packages (from google-auth<3,>=1.6.3->tensorboard<2.15,>=2.14->tensorflow-macos==2.14.0->tensorflow==2.14) (0.3.0)\n",
      "Requirement already satisfied: rsa<5,>=3.1.4 in /Users/gabrielschull/anaconda3/envs/facialrecognition/lib/python3.10/site-packages (from google-auth<3,>=1.6.3->tensorboard<2.15,>=2.14->tensorflow-macos==2.14.0->tensorflow==2.14) (4.9)\n",
      "Requirement already satisfied: requests-oauthlib>=0.7.0 in /Users/gabrielschull/anaconda3/envs/facialrecognition/lib/python3.10/site-packages (from google-auth-oauthlib<1.1,>=0.5->tensorboard<2.15,>=2.14->tensorflow-macos==2.14.0->tensorflow==2.14) (1.3.1)\n",
      "Requirement already satisfied: charset-normalizer<4,>=2 in /Users/gabrielschull/anaconda3/envs/facialrecognition/lib/python3.10/site-packages (from requests<3,>=2.21.0->tensorboard<2.15,>=2.14->tensorflow-macos==2.14.0->tensorflow==2.14) (3.3.2)\n",
      "Requirement already satisfied: idna<4,>=2.5 in /Users/gabrielschull/anaconda3/envs/facialrecognition/lib/python3.10/site-packages (from requests<3,>=2.21.0->tensorboard<2.15,>=2.14->tensorflow-macos==2.14.0->tensorflow==2.14) (3.6)\n",
      "Requirement already satisfied: urllib3<3,>=1.21.1 in /Users/gabrielschull/anaconda3/envs/facialrecognition/lib/python3.10/site-packages (from requests<3,>=2.21.0->tensorboard<2.15,>=2.14->tensorflow-macos==2.14.0->tensorflow==2.14) (2.2.1)\n",
      "Requirement already satisfied: certifi>=2017.4.17 in /Users/gabrielschull/anaconda3/envs/facialrecognition/lib/python3.10/site-packages (from requests<3,>=2.21.0->tensorboard<2.15,>=2.14->tensorflow-macos==2.14.0->tensorflow==2.14) (2024.2.2)\n",
      "Requirement already satisfied: MarkupSafe>=2.1.1 in /Users/gabrielschull/anaconda3/envs/facialrecognition/lib/python3.10/site-packages (from werkzeug>=1.0.1->tensorboard<2.15,>=2.14->tensorflow-macos==2.14.0->tensorflow==2.14) (2.1.5)\n",
      "Requirement already satisfied: pyasn1<0.6.0,>=0.4.6 in /Users/gabrielschull/anaconda3/envs/facialrecognition/lib/python3.10/site-packages (from pyasn1-modules>=0.2.1->google-auth<3,>=1.6.3->tensorboard<2.15,>=2.14->tensorflow-macos==2.14.0->tensorflow==2.14) (0.5.1)\n",
      "Requirement already satisfied: oauthlib>=3.0.0 in /Users/gabrielschull/anaconda3/envs/facialrecognition/lib/python3.10/site-packages (from requests-oauthlib>=0.7.0->google-auth-oauthlib<1.1,>=0.5->tensorboard<2.15,>=2.14->tensorflow-macos==2.14.0->tensorflow==2.14) (3.2.2)\n"
     ]
    }
   ],
   "source": [
    "!pip install tensorflow==2.14 tensorflow-metal==1.1 opencv-python-headless matplotlib"
   ]
  },
  {
   "cell_type": "code",
   "execution_count": 2,
   "id": "33574ad1-70b4-4b2c-b38c-dbf522f957a7",
   "metadata": {},
   "outputs": [
    {
     "name": "stdout",
     "output_type": "stream",
     "text": [
      "/Users/gabrielschull/anaconda3/envs/facialrecognition/bin/python\n"
     ]
    }
   ],
   "source": [
    "import sys\n",
    "print(sys.executable)"
   ]
  },
  {
   "cell_type": "code",
   "execution_count": 3,
   "id": "63584d24-aa83-4347-bfbe-dde9e01fb21a",
   "metadata": {},
   "outputs": [],
   "source": [
    "#import standard dependencies\n",
    "import cv2\n",
    "import os\n",
    "import random\n",
    "import numpy as np\n",
    "from matplotlib import pyplot as plt\n"
   ]
  },
  {
   "cell_type": "code",
   "execution_count": 4,
   "id": "149ee4c0-2323-43d4-9740-7170f0e15343",
   "metadata": {},
   "outputs": [],
   "source": [
    "#import tensorflow dependencies\n",
    "from tensorflow.keras.models import Model\n",
    "from tensorflow.keras.layers import Layer, Conv2D, Dense, MaxPooling2D, Input, Flatten\n",
    "import tensorflow as tf"
   ]
  },
  {
   "cell_type": "code",
   "execution_count": 5,
   "id": "50ac52a1-d8f1-463f-a068-5b150c18ba1e",
   "metadata": {},
   "outputs": [
    {
     "name": "stdout",
     "output_type": "stream",
     "text": [
      "Num GPUs Available:  1\n"
     ]
    }
   ],
   "source": [
    "#Set GPU Memory Consumption Growth to avoid OOM errors -> wrong tensorflow version for this, not necessary though\n",
    "gpus = print(\"Num GPUs Available: \", len(tf.config.list_physical_devices('GPU')))\n",
    "\n",
    "gpus = tf.config.experimental.list_physical_devices('GPU')\n",
    "for gpu in gpus:\n",
    "    tf.config.experimental.set_memory_growth(gpu, True)"
   ]
  },
  {
   "cell_type": "code",
   "execution_count": 6,
   "id": "4a27e082-476c-4f1d-934f-c7dde0b52e7f",
   "metadata": {},
   "outputs": [],
   "source": [
    "#Setup paths\n",
    "POS_PATH = os.path.join('data', 'positive')\n",
    "NEG_PATH = os.path.join('data', 'negative')\n",
    "ANC_PATH = os.path.join('data', 'anchor')"
   ]
  },
  {
   "cell_type": "code",
   "execution_count": 7,
   "id": "bd02a0ff-8dde-4e18-9e83-04e690c50687",
   "metadata": {},
   "outputs": [],
   "source": [
    "#Make dirs\n",
    "#os.makedirs(POS_PATH)\n",
    "#os.makedirs(NEG_PATH)\n",
    "#os.makedirs(ANC_PATH)"
   ]
  },
  {
   "cell_type": "code",
   "execution_count": 8,
   "id": "52ef90d4-b11c-4d93-b8b6-13342abbd39a",
   "metadata": {},
   "outputs": [],
   "source": [
    "#Collecting labelled faces in the wild dataset at http://vis-www.cs.umass.edu/lfw/ (as gzipped tar file)"
   ]
  },
  {
   "cell_type": "code",
   "execution_count": 9,
   "id": "2831084c-cc2b-4174-b245-dcad866832ac",
   "metadata": {},
   "outputs": [],
   "source": [
    "#uncompress Tar Labelled Faces in the Wild dataser\n",
    "#!tar -xf lfw.tar"
   ]
  },
  {
   "cell_type": "code",
   "execution_count": 10,
   "id": "f75d41a8-4947-4850-a50e-b8f292038e7d",
   "metadata": {},
   "outputs": [],
   "source": [
    "# Move lfw imgs to the following repo data/negative\n",
    "#for directory in os.listdir('lfw'):\n",
    "   # for file in os.listdir(os.path.join('lfw', directory)):\n",
    "       # EX_PATH = os.path.join('lfw', directory, file)\n",
    "       # NEW_PATH = os.path.join(NEG_PATH, file)\n",
    "       # os.replace(EX_PATH, NEW_PATH)\n",
    "    "
   ]
  },
  {
   "cell_type": "code",
   "execution_count": 11,
   "id": "03008aa1-b77d-4914-bc4a-3abfcf794b33",
   "metadata": {},
   "outputs": [],
   "source": [
    "import uuid"
   ]
  },
  {
   "cell_type": "code",
   "execution_count": 12,
   "id": "c81cad31-de90-48e6-9f61-cafd78040c43",
   "metadata": {},
   "outputs": [],
   "source": [
    "#Collect positive and anchor classes\n",
    "\n",
    "# cap = cv2.VideoCapture(0) #Establish a connection to the webcam\n",
    "# while cap.isOpened():\n",
    "#     ret, frame = cap.read() \n",
    "    \n",
    "#     #cut down to 250x250px frame\n",
    "#     frame = frame[250:250+250,475:475+250,:]\n",
    "\n",
    "#     key = cv2.waitKey(1) & 0XFF\n",
    "\n",
    "#     #collect anchors\n",
    "#     if key == ord('a'):\n",
    "#         #create unique filepath\n",
    "#         imgname = os.path.join(ANC_PATH, '{}.jpg'.format(uuid.uuid1()))\n",
    "#         #write out anchor image\n",
    "#         cv2.imwrite(imgname, frame)\n",
    "#         break\n",
    "\n",
    "#     #collect positives\n",
    "#     if key == ord('p'):\n",
    "#         #create unique filepath\n",
    "#         imgname = os.path.join(POS_PATH, '{}.jpg'.format(uuid.uuid1()))\n",
    "#         #write out positive image\n",
    "#         cv2.imwrite(imgname, frame)\n",
    "#         break\n",
    "        \n",
    "        \n",
    "#     #show image back to screen\n",
    "#     cv2.imshow('Image Collection', frame)\n",
    "\n",
    "#     #breaking if q hit on keyboard after 1 ms\n",
    "#     if key == ord('q'):\n",
    "#         break\n",
    "# #release webcam & close the image show frame\n",
    "# cap.release()\n",
    "# cv2.destroyAllWindows()\n",
    "# cv2.waitKey(1)"
   ]
  },
  {
   "cell_type": "code",
   "execution_count": 13,
   "id": "a0f70a19-b7df-4a07-8fcd-06b0bdf93379",
   "metadata": {
    "scrolled": true
   },
   "outputs": [],
   "source": [
    "#plt.imshow(frame)"
   ]
  },
  {
   "cell_type": "code",
   "execution_count": 14,
   "id": "d83c1983-f36e-4df8-82ff-453f240380e1",
   "metadata": {},
   "outputs": [
    {
     "name": "stderr",
     "output_type": "stream",
     "text": [
      "2024-02-28 11:46:02.901060: I metal_plugin/src/device/metal_device.cc:1154] Metal device set to: Apple M2\n",
      "2024-02-28 11:46:02.901077: I metal_plugin/src/device/metal_device.cc:296] systemMemory: 8.00 GB\n",
      "2024-02-28 11:46:02.901080: I metal_plugin/src/device/metal_device.cc:313] maxCacheSize: 2.67 GB\n",
      "2024-02-28 11:46:02.901104: I tensorflow/core/common_runtime/pluggable_device/pluggable_device_factory.cc:306] Could not identify NUMA node of platform GPU ID 0, defaulting to 0. Your kernel may not have been built with NUMA support.\n",
      "2024-02-28 11:46:02.901118: I tensorflow/core/common_runtime/pluggable_device/pluggable_device_factory.cc:272] Created TensorFlow device (/job:localhost/replica:0/task:0/device:GPU:0 with 0 MB memory) -> physical PluggableDevice (device: 0, name: METAL, pci bus id: <undefined>)\n"
     ]
    }
   ],
   "source": [
    "#Load and preprocess Images\n",
    "# get image directories\n",
    "anchor = tf.data.Dataset.list_files(ANC_PATH+'/*.jpg').take(100)\n",
    "positive = tf.data.Dataset.list_files(POS_PATH+'/*.jpg').take(100)\n",
    "negative = tf.data.Dataset.list_files(NEG_PATH+'/*.jpg').take(100)"
   ]
  },
  {
   "cell_type": "code",
   "execution_count": 15,
   "id": "92d5cef7-4b64-453c-8da9-0b60e30fb42c",
   "metadata": {},
   "outputs": [],
   "source": [
    "dir_test = anchor.as_numpy_iterator()"
   ]
  },
  {
   "cell_type": "code",
   "execution_count": 16,
   "id": "4958157c-0c42-4f76-a6dd-db2812f79edb",
   "metadata": {},
   "outputs": [
    {
     "name": "stdout",
     "output_type": "stream",
     "text": [
      "b'data/anchor/cdce0b20-d2a2-11ee-944e-563466da705a.jpg'\n"
     ]
    }
   ],
   "source": [
    "print(dir_test.next())"
   ]
  },
  {
   "cell_type": "code",
   "execution_count": 17,
   "id": "87f3b69d-1e98-45e5-982f-f01fd14a9a18",
   "metadata": {},
   "outputs": [],
   "source": [
    "#Preprocessing - scale and resize\n",
    "\n",
    "def preprocess(file_path):\n",
    "\n",
    "    # read in image from file path\n",
    "    byte_img = tf.io.read_file(file_path)\n",
    "    # load in the image\n",
    "    img = tf.io.decode_jpeg(byte_img)\n",
    "    # preprocessing steps - resize image to be 105x105x3\n",
    "    img = tf.image.resize(img, (105,105))\n",
    "    # scale image to be between 0 and 1\n",
    "    img = img / 255.0\n",
    "\n",
    "    \n",
    "    return img"
   ]
  },
  {
   "cell_type": "code",
   "execution_count": 18,
   "id": "953c918b-cfd0-473f-a6b4-b0da0eb99897",
   "metadata": {
    "scrolled": true
   },
   "outputs": [],
   "source": [
    "#dataset.map(preprocess)"
   ]
  },
  {
   "cell_type": "code",
   "execution_count": 19,
   "id": "f433c730-5bba-4f5f-af92-1d9b01384056",
   "metadata": {},
   "outputs": [],
   "source": [
    "# Create labelled dataset\n",
    "# (anchor, positive) =>  1,1,1,1,1\n",
    "# (anchor, negative) => 0,0,0,0,0"
   ]
  },
  {
   "cell_type": "code",
   "execution_count": 20,
   "id": "b7b17a73-385a-4326-8d46-2070510e2ece",
   "metadata": {},
   "outputs": [],
   "source": [
    "positives = tf.data.Dataset.zip((anchor, positive, tf.data.Dataset.from_tensor_slices(tf.ones(len(anchor)))))\n",
    "negatives = tf.data.Dataset.zip((anchor, negative, tf.data.Dataset.from_tensor_slices(tf.zeros(len(anchor)))))\n",
    "data = positives.concatenate(negatives)"
   ]
  },
  {
   "cell_type": "code",
   "execution_count": 21,
   "id": "40a924fe-ba19-4545-846f-b04e3141982a",
   "metadata": {},
   "outputs": [],
   "source": [
    "samples = data.as_numpy_iterator()"
   ]
  },
  {
   "cell_type": "code",
   "execution_count": 22,
   "id": "923e3db5-1f2f-46a4-85d8-e007dac9b9f3",
   "metadata": {},
   "outputs": [],
   "source": [
    "example = samples.next()"
   ]
  },
  {
   "cell_type": "code",
   "execution_count": 23,
   "id": "91196653-4e4a-442f-b61a-97d57ebd2bfa",
   "metadata": {},
   "outputs": [
    {
     "data": {
      "text/plain": [
       "(b'data/anchor/8d97d5ae-d2a2-11ee-aa4a-563466da705a.jpg',\n",
       " b'data/positive/f3a1d386-d2a2-11ee-ab5a-563466da705a.jpg',\n",
       " 1.0)"
      ]
     },
     "execution_count": 23,
     "metadata": {},
     "output_type": "execute_result"
    }
   ],
   "source": [
    "example"
   ]
  },
  {
   "cell_type": "code",
   "execution_count": 24,
   "id": "a3c78c86-4131-4e18-85df-bf21c3a41a04",
   "metadata": {},
   "outputs": [],
   "source": [
    "# Build Train and Test Partition\n",
    "def preprocess_twin(input_img, validation_img, label):\n",
    "     return (preprocess(input_img), preprocess(validation_img), label)"
   ]
  },
  {
   "cell_type": "code",
   "execution_count": 25,
   "id": "8a8174a3-82cd-4d01-9cd6-2b9dbbb0e9fc",
   "metadata": {},
   "outputs": [
    {
     "data": {
      "text/plain": [
       "(<tf.Tensor: shape=(105, 105, 3), dtype=float32, numpy=\n",
       " array([[[0.5467832 , 0.48795965, 0.39776355],\n",
       "         [0.53582776, 0.47728428, 0.38624784],\n",
       "         [0.51959676, 0.47001693, 0.36450806],\n",
       "         ...,\n",
       "         [0.52576584, 0.4669423 , 0.38458937],\n",
       "         [0.53760177, 0.47877818, 0.39642525],\n",
       "         [0.5092437 , 0.4504202 , 0.36806726]],\n",
       " \n",
       "        [[0.5368815 , 0.47805792, 0.38786185],\n",
       "         [0.55470186, 0.49615848, 0.40512207],\n",
       "         [0.52873147, 0.47737765, 0.37541685],\n",
       "         ...,\n",
       "         [0.49924642, 0.4404229 , 0.35863015],\n",
       "         [0.5089436 , 0.45012006, 0.36832735],\n",
       "         [0.48161268, 0.42278916, 0.34099644]],\n",
       " \n",
       "        [[0.5453515 , 0.48652798, 0.3963319 ],\n",
       "         [0.5184874 , 0.46019745, 0.36941445],\n",
       "         [0.52648175, 0.47707087, 0.37865815],\n",
       "         ...,\n",
       "         [0.4792339 , 0.42041036, 0.34590057],\n",
       "         [0.4694745 , 0.41065097, 0.33614114],\n",
       "         [0.48676363, 0.4279401 , 0.3534303 ]],\n",
       " \n",
       "        ...,\n",
       " \n",
       "        [[0.79144335, 0.75222766, 0.6463453 ],\n",
       "         [0.78671473, 0.7508604 , 0.637415  ],\n",
       "         [0.79060733, 0.74569607, 0.6394402 ],\n",
       "         ...,\n",
       "         [0.7670779 , 0.6611956 , 0.7890023 ],\n",
       "         [0.7785915 , 0.6727091 , 0.8061092 ],\n",
       "         [0.78077686, 0.6748945 , 0.8121494 ]],\n",
       " \n",
       "        [[0.79371756, 0.7545019 , 0.64861953],\n",
       "         [0.79579836, 0.759944  , 0.6464987 ],\n",
       "         [0.7972923 , 0.752381  , 0.64612514],\n",
       "         ...,\n",
       "         [0.762465  , 0.6565826 , 0.7899827 ],\n",
       "         [0.7540216 , 0.64813924, 0.7853542 ],\n",
       "         [0.7848807 , 0.66807395, 0.8089703 ]],\n",
       " \n",
       "        [[0.7981304 , 0.7589147 , 0.65303236],\n",
       "         [0.7951515 , 0.7592971 , 0.64585173],\n",
       "         [0.80636036, 0.7632231 , 0.6534192 ],\n",
       "         ...,\n",
       "         [0.76041085, 0.6545285 , 0.7917834 ],\n",
       "         [0.7402428 , 0.62343603, 0.7643324 ],\n",
       "         [0.77861816, 0.6609711 , 0.80214757]]], dtype=float32)>,\n",
       " <tf.Tensor: shape=(105, 105, 3), dtype=float32, numpy=\n",
       " array([[[0.54359525, 0.47692856, 0.3984972 ],\n",
       "         [0.5340003 , 0.4673336 , 0.38890225],\n",
       "         [0.52000356, 0.45333692, 0.37490553],\n",
       "         ...,\n",
       "         [0.52782446, 0.4611578 , 0.39056957],\n",
       "         [0.5346339 , 0.4679672 , 0.39737898],\n",
       "         [0.5248344 , 0.45816773, 0.3875795 ]],\n",
       " \n",
       "        [[0.52698416, 0.4605976 , 0.3813259 ],\n",
       "         [0.5222889 , 0.45590237, 0.37663066],\n",
       "         [0.5188009 , 0.45228758, 0.37339604],\n",
       "         ...,\n",
       "         [0.54070956, 0.47404292, 0.40345466],\n",
       "         [0.5372549 , 0.47058827, 0.40000004],\n",
       "         [0.52204216, 0.45537552, 0.3847873 ]],\n",
       " \n",
       "        [[0.5272643 , 0.46451917, 0.370775  ],\n",
       "         [0.5367614 , 0.47401628, 0.3838202 ],\n",
       "         [0.52737767, 0.46366104, 0.37637946],\n",
       "         ...,\n",
       "         [0.55058914, 0.48392248, 0.40978613],\n",
       "         [0.53952914, 0.4728625 , 0.3987262 ],\n",
       "         [0.53840876, 0.47174206, 0.39760575]],\n",
       " \n",
       "        ...,\n",
       " \n",
       "        [[0.75863683, 0.71942115, 0.6213819 ],\n",
       "         [0.7551487 , 0.715933  , 0.6178938 ],\n",
       "         [0.7656774 , 0.7264617 , 0.6248744 ],\n",
       "         ...,\n",
       "         [0.7935375 , 0.7033414 , 0.77038157],\n",
       "         [0.7925571 , 0.70236105, 0.7694012 ],\n",
       "         [0.79964876, 0.7094526 , 0.77649283]],\n",
       " \n",
       "        [[0.7644258 , 0.72521013, 0.6271709 ],\n",
       "         [0.7607844 , 0.72156864, 0.6162465 ],\n",
       "         [0.7684741 , 0.7292584 , 0.6236828 ],\n",
       "         ...,\n",
       "         [0.7828798 , 0.68904227, 0.77475655],\n",
       "         [0.7809524 , 0.6868547 , 0.779852  ],\n",
       "         [0.79326403, 0.6992331 , 0.7903629 ]],\n",
       " \n",
       "        [[0.75957054, 0.72035486, 0.6144725 ],\n",
       "         [0.7624717 , 0.723256  , 0.61737365],\n",
       "         [0.76041085, 0.7265173 , 0.6188609 ],\n",
       "         ...,\n",
       "         [0.7864613 , 0.6845005 , 0.7825397 ],\n",
       "         [0.78262645, 0.6806657 , 0.7787049 ],\n",
       "         [0.7783403 , 0.6763795 , 0.7744187 ]]], dtype=float32)>,\n",
       " 1.0)"
      ]
     },
     "execution_count": 25,
     "metadata": {},
     "output_type": "execute_result"
    }
   ],
   "source": [
    "preprocess_twin(*example)"
   ]
  },
  {
   "cell_type": "code",
   "execution_count": 26,
   "id": "46309a32-d3cf-4211-8b37-17cc4cc8100b",
   "metadata": {},
   "outputs": [],
   "source": [
    "# Build dataLoader pipeline\n",
    "data = data.map(preprocess_twin)\n",
    "data = data.cache()\n",
    "data = data.shuffle(buffer_size=1024)"
   ]
  },
  {
   "cell_type": "code",
   "execution_count": 27,
   "id": "4dfd36aa-5409-4d1c-b59f-43d5b7689ddd",
   "metadata": {},
   "outputs": [],
   "source": [
    "# Training partition\n",
    "train_data = data.take(round(len(data)*.7))\n",
    "train_data = train_data.batch(16)\n",
    "train_data = train_data.prefetch(8)"
   ]
  },
  {
   "cell_type": "code",
   "execution_count": 28,
   "id": "ad352880-afbd-42f7-8fbd-9543d81bc089",
   "metadata": {},
   "outputs": [
    {
     "data": {
      "text/plain": [
       "<_ShuffleDataset element_spec=(TensorSpec(shape=(105, 105, None), dtype=tf.float32, name=None), TensorSpec(shape=(105, 105, None), dtype=tf.float32, name=None), TensorSpec(shape=(), dtype=tf.float32, name=None))>"
      ]
     },
     "execution_count": 28,
     "metadata": {},
     "output_type": "execute_result"
    }
   ],
   "source": [
    "data"
   ]
  },
  {
   "cell_type": "code",
   "execution_count": 29,
   "id": "77e18f4d-c8c5-482b-819e-6398961c6d98",
   "metadata": {},
   "outputs": [],
   "source": [
    "train_samples = train_data.as_numpy_iterator()"
   ]
  },
  {
   "cell_type": "code",
   "execution_count": 30,
   "id": "37428626-a2e5-45dd-9fa8-41286852e909",
   "metadata": {},
   "outputs": [],
   "source": [
    "train_sample = train_samples.next()"
   ]
  },
  {
   "cell_type": "code",
   "execution_count": 31,
   "id": "b983bf94-4442-432e-a15e-093c68236f5f",
   "metadata": {},
   "outputs": [
    {
     "data": {
      "text/plain": [
       "16"
      ]
     },
     "execution_count": 31,
     "metadata": {},
     "output_type": "execute_result"
    }
   ],
   "source": [
    "len(train_sample[0])"
   ]
  },
  {
   "cell_type": "code",
   "execution_count": 32,
   "id": "e67e5993-0abb-4c72-8fbc-63c852894594",
   "metadata": {},
   "outputs": [],
   "source": [
    "# Testing partition\n",
    "test_data = data.skip(round(len(data)*.7))\n",
    "test_data = test_data.take(round(len(data)*.3))\n",
    "test_data = test_data.batch(16)\n",
    "test_data = test_data.prefetch(8)"
   ]
  },
  {
   "cell_type": "code",
   "execution_count": 33,
   "id": "60f2b119-bd31-4ac2-b060-4046733956a5",
   "metadata": {},
   "outputs": [],
   "source": [
    "inp = Input(shape=(105,105,3), name='input_image')"
   ]
  },
  {
   "cell_type": "code",
   "execution_count": 34,
   "id": "f132bf29-5746-4e8a-a9fb-1b685bdaf991",
   "metadata": {},
   "outputs": [],
   "source": [
    "c1 = Conv2D(64, (10,10), activation='relu')(inp)"
   ]
  },
  {
   "cell_type": "code",
   "execution_count": 35,
   "id": "981cfad9-26ea-4c73-aa3e-0b4f3f663173",
   "metadata": {},
   "outputs": [],
   "source": [
    "m1 = MaxPooling2D(64,(2,2), padding='same')(c1)"
   ]
  },
  {
   "cell_type": "code",
   "execution_count": 36,
   "id": "4c0edaf2-e0dc-4a5a-b22f-1a85a333dbe3",
   "metadata": {},
   "outputs": [],
   "source": [
    "c2 = Conv2D(128, (7,7), activation='relu')(m1)\n",
    "m2 = MaxPooling2D(64,(2,2), padding='same')(c2)"
   ]
  },
  {
   "cell_type": "code",
   "execution_count": 37,
   "id": "d7622534-ac8d-40e9-b938-4f4752db1c0d",
   "metadata": {},
   "outputs": [],
   "source": [
    "c3 = Conv2D(128, (4,4), activation='relu')(m2)\n",
    "m3 = MaxPooling2D(64,(2,2), padding='same')(c3)"
   ]
  },
  {
   "cell_type": "code",
   "execution_count": 38,
   "id": "5314fa50-cc8b-4bad-b7e5-fbf0f0c1c0bc",
   "metadata": {},
   "outputs": [],
   "source": [
    "c4 = Conv2D(256, (4,4), activation='relu')(m3)\n",
    "f1 = Flatten()(c4)\n",
    "d1 = Dense(4096, activation='sigmoid')(f1)"
   ]
  },
  {
   "cell_type": "code",
   "execution_count": 39,
   "id": "2f81cc28-6d73-4198-9546-2fac7dece618",
   "metadata": {},
   "outputs": [],
   "source": [
    "mod = Model(inputs=[inp], outputs=[d1], name='embedding')"
   ]
  },
  {
   "cell_type": "code",
   "execution_count": 40,
   "id": "dce62af7-2162-4f00-9a85-96f157ad9f9a",
   "metadata": {},
   "outputs": [
    {
     "name": "stdout",
     "output_type": "stream",
     "text": [
      "Model: \"embedding\"\n",
      "_________________________________________________________________\n",
      " Layer (type)                Output Shape              Param #   \n",
      "=================================================================\n",
      " input_image (InputLayer)    [(None, 105, 105, 3)]     0         \n",
      "                                                                 \n",
      " conv2d (Conv2D)             (None, 96, 96, 64)        19264     \n",
      "                                                                 \n",
      " max_pooling2d (MaxPooling2  (None, 48, 48, 64)        0         \n",
      " D)                                                              \n",
      "                                                                 \n",
      " conv2d_1 (Conv2D)           (None, 42, 42, 128)       401536    \n",
      "                                                                 \n",
      " max_pooling2d_1 (MaxPoolin  (None, 21, 21, 128)       0         \n",
      " g2D)                                                            \n",
      "                                                                 \n",
      " conv2d_2 (Conv2D)           (None, 18, 18, 128)       262272    \n",
      "                                                                 \n",
      " max_pooling2d_2 (MaxPoolin  (None, 9, 9, 128)         0         \n",
      " g2D)                                                            \n",
      "                                                                 \n",
      " conv2d_3 (Conv2D)           (None, 6, 6, 256)         524544    \n",
      "                                                                 \n",
      " flatten (Flatten)           (None, 9216)              0         \n",
      "                                                                 \n",
      " dense (Dense)               (None, 4096)              37752832  \n",
      "                                                                 \n",
      "=================================================================\n",
      "Total params: 38960448 (148.62 MB)\n",
      "Trainable params: 38960448 (148.62 MB)\n",
      "Non-trainable params: 0 (0.00 Byte)\n",
      "_________________________________________________________________\n"
     ]
    }
   ],
   "source": [
    "mod.summary()"
   ]
  },
  {
   "cell_type": "code",
   "execution_count": 41,
   "id": "b0f3e2b4-e93f-4e3d-85d1-41849aa75773",
   "metadata": {},
   "outputs": [],
   "source": [
    "# Build embedding layer\n",
    "def make_embedding():\n",
    "    inp = Input(shape=(105,105,3), name='input_image')\n",
    "\n",
    "    # First block\n",
    "    c1 = Conv2D(64, (10,10), activation='relu')(inp)\n",
    "    m1 = MaxPooling2D(64,(2,2), padding='same')(c1)\n",
    "\n",
    "    # Second block\n",
    "    c2 = Conv2D(128, (7,7), activation='relu')(m1)\n",
    "    m2 = MaxPooling2D(64,(2,2), padding='same')(c2)\n",
    "\n",
    "    # Third block\n",
    "    c3 = Conv2D(128, (4,4), activation='relu')(m2)\n",
    "    m3 = MaxPooling2D(64,(2,2), padding='same')(c3)\n",
    "\n",
    "    # Final embedding block\n",
    "    c4 = Conv2D(256, (4,4), activation='relu')(m3)\n",
    "    f1 = Flatten()(c4)\n",
    "    d1 = Dense(4096, activation='sigmoid')(f1)\n",
    "    \n",
    "    return Model(inputs=[inp], outputs=[d1], name='embedding')\n"
   ]
  },
  {
   "cell_type": "code",
   "execution_count": 42,
   "id": "2aaebc10-1bbd-4bfc-9eb4-c2ecbb73ca7e",
   "metadata": {},
   "outputs": [],
   "source": [
    "embedding = make_embedding()"
   ]
  },
  {
   "cell_type": "code",
   "execution_count": 43,
   "id": "b3202097-0b10-49c8-9b1e-64a0b6fdd884",
   "metadata": {},
   "outputs": [
    {
     "name": "stdout",
     "output_type": "stream",
     "text": [
      "Model: \"embedding\"\n",
      "_________________________________________________________________\n",
      " Layer (type)                Output Shape              Param #   \n",
      "=================================================================\n",
      " input_image (InputLayer)    [(None, 105, 105, 3)]     0         \n",
      "                                                                 \n",
      " conv2d_4 (Conv2D)           (None, 96, 96, 64)        19264     \n",
      "                                                                 \n",
      " max_pooling2d_3 (MaxPoolin  (None, 48, 48, 64)        0         \n",
      " g2D)                                                            \n",
      "                                                                 \n",
      " conv2d_5 (Conv2D)           (None, 42, 42, 128)       401536    \n",
      "                                                                 \n",
      " max_pooling2d_4 (MaxPoolin  (None, 21, 21, 128)       0         \n",
      " g2D)                                                            \n",
      "                                                                 \n",
      " conv2d_6 (Conv2D)           (None, 18, 18, 128)       262272    \n",
      "                                                                 \n",
      " max_pooling2d_5 (MaxPoolin  (None, 9, 9, 128)         0         \n",
      " g2D)                                                            \n",
      "                                                                 \n",
      " conv2d_7 (Conv2D)           (None, 6, 6, 256)         524544    \n",
      "                                                                 \n",
      " flatten_1 (Flatten)         (None, 9216)              0         \n",
      "                                                                 \n",
      " dense_1 (Dense)             (None, 4096)              37752832  \n",
      "                                                                 \n",
      "=================================================================\n",
      "Total params: 38960448 (148.62 MB)\n",
      "Trainable params: 38960448 (148.62 MB)\n",
      "Non-trainable params: 0 (0.00 Byte)\n",
      "_________________________________________________________________\n"
     ]
    }
   ],
   "source": [
    "embedding.summary()"
   ]
  },
  {
   "cell_type": "code",
   "execution_count": 44,
   "id": "d68a7c31-567f-4935-bfba-4e5d963adb5f",
   "metadata": {},
   "outputs": [],
   "source": [
    "# Build distance Layer\n",
    "# Siamese L1 Distance class\n",
    "class L1Dist(Layer):\n",
    "\n",
    "    # Init inheritance\n",
    "    def __init__(self, **kwargs):\n",
    "        super().__init__()\n",
    "        \n",
    "    # Compare similarity\n",
    "    def call(self, input_embedding, validation_embedding):\n",
    "        return tf.math.abs(input_embedding - validation_embedding)"
   ]
  },
  {
   "cell_type": "code",
   "execution_count": 45,
   "id": "806888c8-297f-4f81-86db-4e3e5936943a",
   "metadata": {},
   "outputs": [],
   "source": [
    "l1 = L1Dist()"
   ]
  },
  {
   "cell_type": "code",
   "execution_count": 46,
   "id": "261981e4-6017-4a56-8447-e01f8f14afd4",
   "metadata": {},
   "outputs": [],
   "source": [
    "#l1(anchor_embedding, validation_embedding)"
   ]
  },
  {
   "cell_type": "code",
   "execution_count": 47,
   "id": "70969111-5f08-420c-b249-b5ee3ad461a2",
   "metadata": {},
   "outputs": [],
   "source": [
    "input_image = Input(name='input_img', shape=(105,105,3))\n",
    "validation_image = Input(name='validation_img', shape=(105,105,3))"
   ]
  },
  {
   "cell_type": "code",
   "execution_count": 48,
   "id": "4e3d0e51-a1b6-48dd-94b5-8611e90a6041",
   "metadata": {},
   "outputs": [],
   "source": [
    "inp_embedding = embedding(input_image)\n",
    "val_embedding = embedding(validation_image)"
   ]
  },
  {
   "cell_type": "code",
   "execution_count": 49,
   "id": "2c7e40a5-1291-49ab-8550-0970e8551826",
   "metadata": {},
   "outputs": [],
   "source": [
    "siamese_layer = L1Dist()"
   ]
  },
  {
   "cell_type": "code",
   "execution_count": 50,
   "id": "1b81e0ca-c13c-4fd9-8e8a-067f00169028",
   "metadata": {},
   "outputs": [],
   "source": [
    "distances = siamese_layer(inp_embedding, val_embedding)"
   ]
  },
  {
   "cell_type": "code",
   "execution_count": 51,
   "id": "9800c2dc-32e8-4312-bff3-f1f4215093a5",
   "metadata": {},
   "outputs": [],
   "source": [
    "classifier = Dense(1, activation='sigmoid')(distances)"
   ]
  },
  {
   "cell_type": "code",
   "execution_count": 52,
   "id": "f5144cb1-4a5e-4d0f-b6ea-f5847ec74c6c",
   "metadata": {},
   "outputs": [
    {
     "data": {
      "text/plain": [
       "<KerasTensor: shape=(None, 1) dtype=float32 (created by layer 'dense_2')>"
      ]
     },
     "execution_count": 52,
     "metadata": {},
     "output_type": "execute_result"
    }
   ],
   "source": [
    "classifier"
   ]
  },
  {
   "cell_type": "code",
   "execution_count": 53,
   "id": "5aa01874-561d-495c-9a77-1fe7ab9cdac3",
   "metadata": {},
   "outputs": [],
   "source": [
    "siamese_network = Model(inputs=[input_image, validation_image], outputs=classifier, name='SiameseNetwork')"
   ]
  },
  {
   "cell_type": "code",
   "execution_count": 54,
   "id": "2eefe3ec-7364-4801-8df8-dd5734af62a6",
   "metadata": {},
   "outputs": [
    {
     "name": "stdout",
     "output_type": "stream",
     "text": [
      "Model: \"SiameseNetwork\"\n",
      "__________________________________________________________________________________________________\n",
      " Layer (type)                Output Shape                 Param #   Connected to                  \n",
      "==================================================================================================\n",
      " input_img (InputLayer)      [(None, 105, 105, 3)]        0         []                            \n",
      "                                                                                                  \n",
      " validation_img (InputLayer  [(None, 105, 105, 3)]        0         []                            \n",
      " )                                                                                                \n",
      "                                                                                                  \n",
      " embedding (Functional)      (None, 4096)                 3896044   ['input_img[0][0]',           \n",
      "                                                          8          'validation_img[0][0]']      \n",
      "                                                                                                  \n",
      " l1_dist_1 (L1Dist)          (None, 4096)                 0         ['embedding[0][0]',           \n",
      "                                                                     'embedding[1][0]']           \n",
      "                                                                                                  \n",
      " dense_2 (Dense)             (None, 1)                    4097      ['l1_dist_1[0][0]']           \n",
      "                                                                                                  \n",
      "==================================================================================================\n",
      "Total params: 38964545 (148.64 MB)\n",
      "Trainable params: 38964545 (148.64 MB)\n",
      "Non-trainable params: 0 (0.00 Byte)\n",
      "__________________________________________________________________________________________________\n"
     ]
    }
   ],
   "source": [
    "siamese_network.summary()"
   ]
  },
  {
   "cell_type": "code",
   "execution_count": 55,
   "id": "79b2d901-b131-42e7-bc4f-456d4c093ee1",
   "metadata": {},
   "outputs": [],
   "source": [
    "def make_siamese_model():\n",
    "\n",
    "    # Anchor image inputs in network\n",
    "    input_image = Input(name='input_img', shape=(105,105,3))\n",
    "    # Validation image in network\n",
    "    validation_image = Input(name='validation_img', shape=(105,105,3))\n",
    "\n",
    "    # Combine siamese distance components\n",
    "    siamese_layer = L1Dist()\n",
    "    siamese_layer._name = 'distance'\n",
    "    distances = siamese_layer(embedding(input_image), embedding(validation_image))\n",
    "\n",
    "    # Classificaiton layer\n",
    "    classifier = Dense(1, activation='sigmoid')(distances)\n",
    "\n",
    "    return Model(inputs=[input_image, validation_image], outputs=classifier, name='SiameseNetwork')"
   ]
  },
  {
   "cell_type": "code",
   "execution_count": 56,
   "id": "c01afc15-f402-49be-baa9-7eb41cf026da",
   "metadata": {},
   "outputs": [],
   "source": [
    "siamese_model = make_siamese_model()"
   ]
  },
  {
   "cell_type": "code",
   "execution_count": 57,
   "id": "87f30e60-ded4-4b9a-9748-a285993f9f80",
   "metadata": {},
   "outputs": [
    {
     "name": "stdout",
     "output_type": "stream",
     "text": [
      "Model: \"SiameseNetwork\"\n",
      "__________________________________________________________________________________________________\n",
      " Layer (type)                Output Shape                 Param #   Connected to                  \n",
      "==================================================================================================\n",
      " input_img (InputLayer)      [(None, 105, 105, 3)]        0         []                            \n",
      "                                                                                                  \n",
      " validation_img (InputLayer  [(None, 105, 105, 3)]        0         []                            \n",
      " )                                                                                                \n",
      "                                                                                                  \n",
      " embedding (Functional)      (None, 4096)                 3896044   ['input_img[0][0]',           \n",
      "                                                          8          'validation_img[0][0]']      \n",
      "                                                                                                  \n",
      " distance (L1Dist)           (None, 4096)                 0         ['embedding[2][0]',           \n",
      "                                                                     'embedding[3][0]']           \n",
      "                                                                                                  \n",
      " dense_3 (Dense)             (None, 1)                    4097      ['distance[0][0]']            \n",
      "                                                                                                  \n",
      "==================================================================================================\n",
      "Total params: 38964545 (148.64 MB)\n",
      "Trainable params: 38964545 (148.64 MB)\n",
      "Non-trainable params: 0 (0.00 Byte)\n",
      "__________________________________________________________________________________________________\n"
     ]
    }
   ],
   "source": [
    "siamese_model.summary()"
   ]
  },
  {
   "cell_type": "code",
   "execution_count": 58,
   "id": "7e9f91c2-20cb-4330-9b29-d186a2634016",
   "metadata": {},
   "outputs": [],
   "source": [
    "#Training"
   ]
  },
  {
   "cell_type": "code",
   "execution_count": 59,
   "id": "434c7f35-c7d7-4d37-b1c7-138324946232",
   "metadata": {},
   "outputs": [],
   "source": [
    "# Set up Loss and Optimizer\n",
    "binary_cross_loss = tf.losses.BinaryCrossentropy()"
   ]
  },
  {
   "cell_type": "code",
   "execution_count": 60,
   "id": "903ba478-03b9-40b3-8171-32a9a87baeb6",
   "metadata": {},
   "outputs": [],
   "source": [
    "# Define optimizer\n",
    "opt = tf.keras.optimizers.legacy.Adam(1e-4)"
   ]
  },
  {
   "cell_type": "code",
   "execution_count": 61,
   "id": "e1cf7987-7c78-46a6-ae05-21fb155d7e42",
   "metadata": {},
   "outputs": [],
   "source": [
    "# Establish checkpoints\n",
    "checkpoint_dir = './training.checkpoints'\n",
    "checkpoint_prefix = os.path.join(checkpoint_dir, 'ckpt')\n",
    "checkpoint = tf.train.Checkpoint(opt=opt, siamese_model=siamese_model)"
   ]
  },
  {
   "cell_type": "code",
   "execution_count": 62,
   "id": "0461fc3a-855e-46d7-86d8-aec36d60c011",
   "metadata": {},
   "outputs": [],
   "source": [
    "# Build train step function\n",
    "@tf.function\n",
    "def train_step(batch):\n",
    "    with tf.device('/cpu:0'):\n",
    "        with tf.GradientTape() as tape:\n",
    "            # Get anchor and positive/negative image\n",
    "            X = batch[:2]\n",
    "            # Get label\n",
    "            y = batch[2]\n",
    "\n",
    "            # Forward pass\n",
    "            yhat = siamese_model(X, training=True)\n",
    "            #Calculate loss\n",
    "            loss = binary_cross_loss(y, yhat)\n",
    "        tf.print('loss:', loss)\n",
    "\n",
    "        # Calculate gradients\n",
    "        grad = tape.gradient(loss, siamese_model.trainable_variables)\n",
    "        # Calculate updated weights and apply to siamese model\n",
    "        opt.apply_gradients(zip(grad, siamese_model.trainable_variables))\n",
    "        # Return loss\n",
    "        return loss\n",
    "    "
   ]
  },
  {
   "cell_type": "code",
   "execution_count": 63,
   "id": "4b0881d8-0968-41ed-aa8c-a154a2fabad2",
   "metadata": {},
   "outputs": [],
   "source": [
    "# Build training \n",
    "def train(data, EPOCHS):\n",
    "    \n",
    "    # Loop through epochs\n",
    "    for epoch in range(1, EPOCHS+1):\n",
    "        print('\\n Epoch {}/{}'.format(epoch, EPOCHS))\n",
    "        progbar = tf.keras.utils.Progbar(len(data))\n",
    "        \n",
    "        # Loop through each batch\n",
    "        for idx, batch in enumerate(data):\n",
    "            # Run train step\n",
    "            train_step(batch)\n",
    "            progbar.update(idx+1)\n",
    "            \n",
    "        # Save checkpoints\n",
    "        if epoch % 10 == 0:\n",
    "            checkpoint.save(file_prefix=checkpoint_prefix)\n",
    "    \n",
    "            \n",
    "        "
   ]
  },
  {
   "cell_type": "code",
   "execution_count": 64,
   "id": "d26b457d-bcee-447a-a894-3e56a3a82da0",
   "metadata": {},
   "outputs": [],
   "source": [
    "#Train the model\n",
    "EPOCHS = 50"
   ]
  },
  {
   "cell_type": "code",
   "execution_count": 65,
   "id": "50f85695-1988-4c35-942c-bec115d98320",
   "metadata": {
    "scrolled": true
   },
   "outputs": [
    {
     "name": "stdout",
     "output_type": "stream",
     "text": [
      "\n",
      " Epoch 1/50\n"
     ]
    },
    {
     "name": "stderr",
     "output_type": "stream",
     "text": [
      "2024-02-28 11:46:03.741045: I tensorflow/core/grappler/optimizers/custom_graph_optimizer_registry.cc:117] Plugin optimizer for device_type GPU is enabled.\n"
     ]
    },
    {
     "name": "stdout",
     "output_type": "stream",
     "text": [
      "loss: 0.693596363\n",
      "1/9 [==>...........................] - ETA: 30sloss: 0.685987115\n",
      "2/9 [=====>........................] - ETA: 21sloss: 0.635763526\n",
      "3/9 [=========>....................] - ETA: 18sloss: 0.649971366\n",
      "4/9 [============>.................] - ETA: 14sloss: 0.603642821\n",
      "5/9 [===============>..............] - ETA: 11sloss: 0.596562624\n",
      "6/9 [===================>..........] - ETA: 8s loss: 0.46709305\n",
      "7/9 [======================>.......] - ETA: 5sloss: 0.534747601\n",
      "8/9 [=========================>....] - ETA: 2sloss: 0.292328954\n",
      "9/9 [==============================] - 28s 3s/step\n",
      "\n",
      " Epoch 2/50\n",
      "loss: 0.440075517\n",
      "1/9 [==>...........................] - ETA: 24sloss: 0.455075711\n",
      "2/9 [=====>........................] - ETA: 21sloss: 0.508423686\n",
      "3/9 [=========>....................] - ETA: 20sloss: 0.327869177\n",
      "4/9 [============>.................] - ETA: 16sloss: 0.324090123\n",
      "5/9 [===============>..............] - ETA: 13sloss: 0.472004414\n",
      "6/9 [===================>..........] - ETA: 9s loss: 0.361810893\n",
      "7/9 [======================>.......] - ETA: 6sloss: 0.234327465\n",
      "8/9 [=========================>....] - ETA: 3sloss: 0.328074783\n",
      "9/9 [==============================] - 29s 3s/step\n",
      "\n",
      " Epoch 3/50\n",
      "loss: 0.266921937\n",
      "1/9 [==>...........................] - ETA: 25sloss: 0.194622666\n",
      "2/9 [=====>........................] - ETA: 21sloss: 0.33427313\n",
      "3/9 [=========>....................] - ETA: 18sloss: 0.304070413\n",
      "4/9 [============>.................] - ETA: 15sloss: 0.1738794\n",
      "5/9 [===============>..............] - ETA: 12sloss: 0.127532557\n",
      "6/9 [===================>..........] - ETA: 9s loss: 0.0798057616\n",
      "7/9 [======================>.......] - ETA: 6sloss: 0.263700783\n",
      "8/9 [=========================>....] - ETA: 3sloss: 0.247698382\n",
      "9/9 [==============================] - 27s 3s/step\n",
      "\n",
      " Epoch 4/50\n",
      "loss: 0.148034632\n",
      "1/9 [==>...........................] - ETA: 25sloss: 0.248996377\n",
      "2/9 [=====>........................] - ETA: 20sloss: 0.118349046\n",
      "3/9 [=========>....................] - ETA: 18sloss: 0.189142913\n",
      "4/9 [============>.................] - ETA: 15sloss: 0.189666539\n",
      "5/9 [===============>..............] - ETA: 12sloss: 0.086333245\n",
      "6/9 [===================>..........] - ETA: 9s loss: 0.110514179\n",
      "7/9 [======================>.......] - ETA: 6sloss: 0.118134834\n",
      "8/9 [=========================>....] - ETA: 3sloss: 0.452172369\n",
      "9/9 [==============================] - 27s 3s/step\n",
      "\n",
      " Epoch 5/50\n",
      "loss: 0.0487428717\n",
      "1/9 [==>...........................] - ETA: 24sloss: 0.110718705\n",
      "2/9 [=====>........................] - ETA: 21sloss: 0.156420514\n",
      "3/9 [=========>....................] - ETA: 17sloss: 0.0860131383\n",
      "4/9 [============>.................] - ETA: 14sloss: 0.0663429722\n",
      "5/9 [===============>..............] - ETA: 11sloss: 0.167650402\n",
      "6/9 [===================>..........] - ETA: 8s loss: 0.0181305073\n",
      "7/9 [======================>.......] - ETA: 5sloss: 0.0803395659\n",
      "8/9 [=========================>....] - ETA: 2sloss: 0.311394215\n",
      "9/9 [==============================] - 26s 3s/step\n",
      "\n",
      " Epoch 6/50\n",
      "loss: 0.0768446624\n",
      "1/9 [==>...........................] - ETA: 23sloss: 0.0869220346\n",
      "2/9 [=====>........................] - ETA: 21sloss: 0.0912700444\n",
      "3/9 [=========>....................] - ETA: 18sloss: 0.0505053401\n",
      "4/9 [============>.................] - ETA: 15sloss: 0.236789957\n",
      "5/9 [===============>..............] - ETA: 12sloss: 0.0663777888\n",
      "6/9 [===================>..........] - ETA: 9s loss: 0.0843848512\n",
      "7/9 [======================>.......] - ETA: 6sloss: 0.0789298713\n",
      "8/9 [=========================>....] - ETA: 3sloss: 0.060981635\n",
      "9/9 [==============================] - 26s 3s/step\n",
      "\n",
      " Epoch 7/50\n",
      "loss: 0.0917860866\n",
      "1/9 [==>...........................] - ETA: 26sloss: 0.111545846\n",
      "2/9 [=====>........................] - ETA: 23sloss: 0.0572983772\n",
      "3/9 [=========>....................] - ETA: 19sloss: 0.100347005\n",
      "4/9 [============>.................] - ETA: 16sloss: 0.0365131199\n",
      "5/9 [===============>..............] - ETA: 13sloss: 0.061012987\n",
      "6/9 [===================>..........] - ETA: 9s loss: 0.106333807\n",
      "7/9 [======================>.......] - ETA: 6sloss: 0.0597591698\n",
      "8/9 [=========================>....] - ETA: 3sloss: 0.025963841\n",
      "9/9 [==============================] - 28s 3s/step\n",
      "\n",
      " Epoch 8/50\n",
      "loss: 0.0282898936\n",
      "1/9 [==>...........................] - ETA: 23sloss: 0.0381755084\n",
      "2/9 [=====>........................] - ETA: 21sloss: 0.0963690206\n",
      "3/9 [=========>....................] - ETA: 18sloss: 0.11582803\n",
      "4/9 [============>.................] - ETA: 15sloss: 0.0761114061\n",
      "5/9 [===============>..............] - ETA: 12sloss: 0.0254802145\n",
      "6/9 [===================>..........] - ETA: 8s loss: 0.00909952819\n",
      "7/9 [======================>.......] - ETA: 5sloss: 0.0275491066\n",
      "8/9 [=========================>....] - ETA: 2sloss: 0.0177096073\n",
      "9/9 [==============================] - 26s 3s/step\n",
      "\n",
      " Epoch 9/50\n",
      "loss: 0.0295728557\n",
      "1/9 [==>...........................] - ETA: 24sloss: 0.0831714\n",
      "2/9 [=====>........................] - ETA: 20sloss: 0.0208858866\n",
      "3/9 [=========>....................] - ETA: 17sloss: 0.0195086766\n",
      "4/9 [============>.................] - ETA: 15sloss: 0.0241137389\n",
      "5/9 [===============>..............] - ETA: 12sloss: 0.0372376144\n",
      "6/9 [===================>..........] - ETA: 9s loss: 0.0310857669\n",
      "7/9 [======================>.......] - ETA: 6sloss: 0.0166499\n",
      "8/9 [=========================>....] - ETA: 3sloss: 0.0508964658\n",
      "9/9 [==============================] - 27s 3s/step\n",
      "\n",
      " Epoch 10/50\n",
      "loss: 0.00845563132\n",
      "1/9 [==>...........................] - ETA: 24sloss: 0.0220911838\n",
      "2/9 [=====>........................] - ETA: 20sloss: 0.0036707744\n",
      "3/9 [=========>....................] - ETA: 17sloss: 0.00350273238\n",
      "4/9 [============>.................] - ETA: 14sloss: 0.0328802466\n",
      "5/9 [===============>..............] - ETA: 11sloss: 0.0361865088\n",
      "6/9 [===================>..........] - ETA: 8s loss: 0.0246660747\n",
      "7/9 [======================>.......] - ETA: 5sloss: 0.0424363315\n",
      "8/9 [=========================>....] - ETA: 2sloss: 0.00570807\n",
      "9/9 [==============================] - 26s 3s/step\n",
      "\n",
      " Epoch 11/50\n",
      "loss: 0.0138624255\n",
      "1/9 [==>...........................] - ETA: 24sloss: 0.0128448764\n",
      "2/9 [=====>........................] - ETA: 20sloss: 0.00840047188\n",
      "3/9 [=========>....................] - ETA: 17sloss: 0.0339913145\n",
      "4/9 [============>.................] - ETA: 15sloss: 0.0207864307\n",
      "5/9 [===============>..............] - ETA: 12sloss: 0.0602732524\n",
      "6/9 [===================>..........] - ETA: 9s loss: 0.0361720398\n",
      "7/9 [======================>.......] - ETA: 6sloss: 0.0264592245\n",
      "8/9 [=========================>....] - ETA: 3sloss: 0.0254194066\n",
      "9/9 [==============================] - 27s 3s/step\n",
      "\n",
      " Epoch 12/50\n",
      "loss: 0.00427395478\n",
      "1/9 [==>...........................] - ETA: 24sloss: 0.00539814122\n",
      "2/9 [=====>........................] - ETA: 20sloss: 0.0118059749\n",
      "3/9 [=========>....................] - ETA: 17sloss: 0.00870100409\n",
      "4/9 [============>.................] - ETA: 15sloss: 0.0729523674\n",
      "5/9 [===============>..............] - ETA: 12sloss: 0.00800309703\n",
      "6/9 [===================>..........] - ETA: 9s loss: 0.00788549241\n",
      "7/9 [======================>.......] - ETA: 6sloss: 0.0246901195\n",
      "8/9 [=========================>....] - ETA: 3sloss: 0.06297151\n",
      "9/9 [==============================] - 27s 3s/step\n",
      "\n",
      " Epoch 13/50\n",
      "loss: 0.00276448345\n",
      "1/9 [==>...........................] - ETA: 24sloss: 0.0471521914\n",
      "2/9 [=====>........................] - ETA: 20sloss: 0.0255880374\n",
      "3/9 [=========>....................] - ETA: 17sloss: 0.0148930717\n",
      "4/9 [============>.................] - ETA: 15sloss: 0.0266409665\n",
      "5/9 [===============>..............] - ETA: 12sloss: 0.052609086\n",
      "6/9 [===================>..........] - ETA: 9s loss: 0.0667260587\n",
      "7/9 [======================>.......] - ETA: 6sloss: 0.062117409\n",
      "8/9 [=========================>....] - ETA: 3sloss: 0.00933682453\n",
      "9/9 [==============================] - 27s 3s/step\n",
      "\n",
      " Epoch 14/50\n",
      "loss: 0.0171798542\n",
      "1/9 [==>...........................] - ETA: 24sloss: 0.0130073223\n",
      "2/9 [=====>........................] - ETA: 21sloss: 0.026591761\n",
      "3/9 [=========>....................] - ETA: 17sloss: 0.000784335367\n",
      "4/9 [============>.................] - ETA: 14sloss: 0.0176497679\n",
      "5/9 [===============>..............] - ETA: 12sloss: 0.0168716852\n",
      "6/9 [===================>..........] - ETA: 9s loss: 0.00605141232\n",
      "7/9 [======================>.......] - ETA: 6sloss: 0.0510308072\n",
      "8/9 [=========================>....] - ETA: 3sloss: 0.000178056071\n",
      "9/9 [==============================] - 27s 3s/step\n",
      "\n",
      " Epoch 15/50\n",
      "loss: 0.00446678139\n",
      "1/9 [==>...........................] - ETA: 24sloss: 0.00370427547\n",
      "2/9 [=====>........................] - ETA: 20sloss: 0.00591418147\n",
      "3/9 [=========>....................] - ETA: 17sloss: 0.0133361695\n",
      "4/9 [============>.................] - ETA: 14sloss: 0.00812581647\n",
      "5/9 [===============>..............] - ETA: 12sloss: 0.0396552682\n",
      "6/9 [===================>..........] - ETA: 9s loss: 0.00216889731\n",
      "7/9 [======================>.......] - ETA: 6sloss: 0.00639581\n",
      "8/9 [=========================>....] - ETA: 3sloss: 0.00612567412\n",
      "9/9 [==============================] - 27s 3s/step\n",
      "\n",
      " Epoch 16/50\n",
      "loss: 0.00440887921\n",
      "1/9 [==>...........................] - ETA: 23sloss: 0.00484326668\n",
      "2/9 [=====>........................] - ETA: 20sloss: 0.00763025973\n",
      "3/9 [=========>....................] - ETA: 17sloss: 0.0178675987\n",
      "4/9 [============>.................] - ETA: 14sloss: 0.0155778714\n",
      "5/9 [===============>..............] - ETA: 11sloss: 0.000805785879\n",
      "6/9 [===================>..........] - ETA: 8s loss: 0.0379675142\n",
      "7/9 [======================>.......] - ETA: 5sloss: 0.00134255737\n",
      "8/9 [=========================>....] - ETA: 2sloss: 0.00489035202\n",
      "9/9 [==============================] - 26s 3s/step\n",
      "\n",
      " Epoch 17/50\n",
      "loss: 0.00530357566\n",
      "1/9 [==>...........................] - ETA: 24sloss: 0.0198485386\n",
      "2/9 [=====>........................] - ETA: 20sloss: 0.00991328806\n",
      "3/9 [=========>....................] - ETA: 17sloss: 0.0161772892\n",
      "4/9 [============>.................] - ETA: 14sloss: 0.0100939795\n",
      "5/9 [===============>..............] - ETA: 11sloss: 0.00133936619\n",
      "6/9 [===================>..........] - ETA: 8s loss: 0.000770986895\n",
      "7/9 [======================>.......] - ETA: 5sloss: 0.00357226236\n",
      "8/9 [=========================>....] - ETA: 2sloss: 0.00160881958\n",
      "9/9 [==============================] - 26s 3s/step\n",
      "\n",
      " Epoch 18/50\n",
      "loss: 0.00193487038\n",
      "1/9 [==>...........................] - ETA: 24sloss: 0.00402770378\n",
      "2/9 [=====>........................] - ETA: 21sloss: 0.00113577419\n",
      "3/9 [=========>....................] - ETA: 18sloss: 0.00558833731\n",
      "4/9 [============>.................] - ETA: 15sloss: 0.000545343268\n",
      "5/9 [===============>..............] - ETA: 12sloss: 0.00146834587\n",
      "6/9 [===================>..........] - ETA: 9s loss: 0.00473602\n",
      "7/9 [======================>.......] - ETA: 6sloss: 0.00285985926\n",
      "8/9 [=========================>....] - ETA: 3sloss: 0.00313889678\n",
      "9/9 [==============================] - 27s 3s/step\n",
      "\n",
      " Epoch 19/50\n",
      "loss: 0.0237974748\n",
      "1/9 [==>...........................] - ETA: 23sloss: 0.000735090114\n",
      "2/9 [=====>........................] - ETA: 21sloss: 0.00108386925\n",
      "3/9 [=========>....................] - ETA: 18sloss: 0.000479913258\n",
      "4/9 [============>.................] - ETA: 15sloss: 0.0027216298\n",
      "5/9 [===============>..............] - ETA: 11sloss: 0.00376175973\n",
      "6/9 [===================>..........] - ETA: 8s loss: 0.00794865377\n",
      "7/9 [======================>.......] - ETA: 5sloss: 0.00132213486\n",
      "8/9 [=========================>....] - ETA: 2sloss: 0.0023348527\n",
      "9/9 [==============================] - 26s 3s/step\n",
      "\n",
      " Epoch 20/50\n",
      "loss: 0.000332170748\n",
      "1/9 [==>...........................] - ETA: 24sloss: 0.00199933746\n",
      "2/9 [=====>........................] - ETA: 21sloss: 0.000244317605\n",
      "3/9 [=========>....................] - ETA: 18sloss: 0.000678237528\n",
      "4/9 [============>.................] - ETA: 15sloss: 0.00430403929\n",
      "5/9 [===============>..............] - ETA: 12sloss: 0.00233987393\n",
      "6/9 [===================>..........] - ETA: 9s loss: 0.00172510417\n",
      "7/9 [======================>.......] - ETA: 6sloss: 0.000741033931\n",
      "8/9 [=========================>....] - ETA: 3sloss: 0.00296935556\n",
      "9/9 [==============================] - 27s 3s/step\n",
      "\n",
      " Epoch 21/50\n",
      "loss: 0.000958124234\n",
      "1/9 [==>...........................] - ETA: 25sloss: 0.00185842009\n",
      "2/9 [=====>........................] - ETA: 21sloss: 0.000432099972\n",
      "3/9 [=========>....................] - ETA: 18sloss: 0.000190779538\n",
      "4/9 [============>.................] - ETA: 15sloss: 0.0012576835\n",
      "5/9 [===============>..............] - ETA: 12sloss: 0.00105288858\n",
      "6/9 [===================>..........] - ETA: 9s loss: 0.000642416591\n",
      "7/9 [======================>.......] - ETA: 5sloss: 0.000135204726\n",
      "8/9 [=========================>....] - ETA: 2sloss: 0.000523969298\n",
      "9/9 [==============================] - 27s 3s/step\n",
      "\n",
      " Epoch 22/50\n",
      "loss: 0.000146726728\n",
      "1/9 [==>...........................] - ETA: 23sloss: 0.000995782\n",
      "2/9 [=====>........................] - ETA: 20sloss: 0.000399036595\n",
      "3/9 [=========>....................] - ETA: 17sloss: 0.000584483496\n",
      "4/9 [============>.................] - ETA: 14sloss: 0.000430813787\n",
      "5/9 [===============>..............] - ETA: 11sloss: 0.000396465766\n",
      "6/9 [===================>..........] - ETA: 8s loss: 0.000268863194\n",
      "7/9 [======================>.......] - ETA: 5sloss: 0.000792389852\n",
      "8/9 [=========================>....] - ETA: 2sloss: 0.000350657123\n",
      "9/9 [==============================] - 26s 3s/step\n",
      "\n",
      " Epoch 23/50\n",
      "loss: 0.000449934218\n",
      "1/9 [==>...........................] - ETA: 23sloss: 0.00040177576\n",
      "2/9 [=====>........................] - ETA: 20sloss: 0.000341475505\n",
      "3/9 [=========>....................] - ETA: 17sloss: 0.000492761785\n",
      "4/9 [============>.................] - ETA: 14sloss: 0.000119085125\n",
      "5/9 [===============>..............] - ETA: 11sloss: 0.000791058701\n",
      "6/9 [===================>..........] - ETA: 8s loss: 0.00113313633\n",
      "7/9 [======================>.......] - ETA: 5sloss: 0.000195504603\n",
      "8/9 [=========================>....] - ETA: 2sloss: 1.59606116e-05\n",
      "9/9 [==============================] - 26s 3s/step\n",
      "\n",
      " Epoch 24/50\n",
      "loss: 0.00117563829\n",
      "1/9 [==>...........................] - ETA: 23sloss: 0.000404546037\n",
      "2/9 [=====>........................] - ETA: 20sloss: 0.000485289871\n",
      "3/9 [=========>....................] - ETA: 17sloss: 0.000817432883\n",
      "4/9 [============>.................] - ETA: 14sloss: 0.0003204268\n",
      "5/9 [===============>..............] - ETA: 11sloss: 0.000319246465\n",
      "6/9 [===================>..........] - ETA: 8s loss: 0.000337937439\n",
      "7/9 [======================>.......] - ETA: 5sloss: 8.00427e-05\n",
      "8/9 [=========================>....] - ETA: 2sloss: 0.000516294793\n",
      "9/9 [==============================] - 26s 3s/step\n",
      "\n",
      " Epoch 25/50\n",
      "loss: 0.00025032711\n",
      "1/9 [==>...........................] - ETA: 24sloss: 0.000254519\n",
      "2/9 [=====>........................] - ETA: 20sloss: 0.000660579768\n",
      "3/9 [=========>....................] - ETA: 17sloss: 0.000669211848\n",
      "4/9 [============>.................] - ETA: 14sloss: 7.26187573e-05\n",
      "5/9 [===============>..............] - ETA: 11sloss: 3.12431657e-05\n",
      "6/9 [===================>..........] - ETA: 8s loss: 0.00010686578\n",
      "7/9 [======================>.......] - ETA: 5sloss: 8.35291721e-05\n",
      "8/9 [=========================>....] - ETA: 2sloss: 0.000113613634\n",
      "9/9 [==============================] - 26s 3s/step\n",
      "\n",
      " Epoch 26/50\n",
      "loss: 0.000215742781\n",
      "1/9 [==>...........................] - ETA: 23sloss: 0.00040089988\n",
      "2/9 [=====>........................] - ETA: 21sloss: 6.16481193e-05\n",
      "3/9 [=========>....................] - ETA: 18sloss: 0.000148773572\n",
      "4/9 [============>.................] - ETA: 15sloss: 0.000497244415\n",
      "5/9 [===============>..............] - ETA: 12sloss: 0.000233902814\n",
      "6/9 [===================>..........] - ETA: 9s loss: 0.000480290095\n",
      "7/9 [======================>.......] - ETA: 6sloss: 0.000357452664\n",
      "8/9 [=========================>....] - ETA: 3sloss: 0.000500859634\n",
      "9/9 [==============================] - 26s 3s/step\n",
      "\n",
      " Epoch 27/50\n",
      "loss: 9.08033471e-05\n",
      "1/9 [==>...........................] - ETA: 24sloss: 0.000213188992\n",
      "2/9 [=====>........................] - ETA: 20sloss: 9.42165e-06\n",
      "3/9 [=========>....................] - ETA: 17sloss: 5.86583556e-05\n",
      "4/9 [============>.................] - ETA: 14sloss: 0.000486658944\n",
      "5/9 [===============>..............] - ETA: 11sloss: 0.000159286094\n",
      "6/9 [===================>..........] - ETA: 8s loss: 1.67529834e-05\n",
      "7/9 [======================>.......] - ETA: 5sloss: 6.36338664e-05\n",
      "8/9 [=========================>....] - ETA: 2sloss: 0.000391784328\n",
      "9/9 [==============================] - 26s 3s/step\n",
      "\n",
      " Epoch 28/50\n",
      "loss: 0.000488715596\n",
      "1/9 [==>...........................] - ETA: 23sloss: 1.9510213e-05\n",
      "2/9 [=====>........................] - ETA: 20sloss: 6.73284376e-05\n",
      "3/9 [=========>....................] - ETA: 17sloss: 0.000137514333\n",
      "4/9 [============>.................] - ETA: 14sloss: 5.16739092e-05\n",
      "5/9 [===============>..............] - ETA: 11sloss: 0.000112345464\n",
      "6/9 [===================>..........] - ETA: 8s loss: 0.000431109394\n",
      "7/9 [======================>.......] - ETA: 5sloss: 0.00027671369\n",
      "8/9 [=========================>....] - ETA: 2sloss: 0.000123643942\n",
      "9/9 [==============================] - 26s 3s/step\n",
      "\n",
      " Epoch 29/50\n",
      "loss: 0.000205965713\n",
      "1/9 [==>...........................] - ETA: 23sloss: 0.000194615437\n",
      "2/9 [=====>........................] - ETA: 21sloss: 9.47999797e-05\n",
      "3/9 [=========>....................] - ETA: 18sloss: 0.000510288402\n",
      "4/9 [============>.................] - ETA: 15sloss: 0.000287985225\n",
      "5/9 [===============>..............] - ETA: 11sloss: 5.10594109e-05\n",
      "6/9 [===================>..........] - ETA: 8s loss: 7.29522508e-05\n",
      "7/9 [======================>.......] - ETA: 5sloss: 0.000171926717\n",
      "8/9 [=========================>....] - ETA: 2sloss: 1.38140194e-05\n",
      "9/9 [==============================] - 26s 3s/step\n",
      "\n",
      " Epoch 30/50\n",
      "loss: 0.000150993932\n",
      "1/9 [==>...........................] - ETA: 23sloss: 8.36316176e-05\n",
      "2/9 [=====>........................] - ETA: 20sloss: 5.31569312e-05\n",
      "3/9 [=========>....................] - ETA: 17sloss: 0.000248565048\n",
      "4/9 [============>.................] - ETA: 14sloss: 0.000394452072\n",
      "5/9 [===============>..............] - ETA: 11sloss: 0.000293525227\n",
      "6/9 [===================>..........] - ETA: 8s loss: 0.000409431057\n",
      "7/9 [======================>.......] - ETA: 5sloss: 2.6518901e-05\n",
      "8/9 [=========================>....] - ETA: 2sloss: 0.000277988554\n",
      "9/9 [==============================] - 26s 3s/step\n",
      "\n",
      " Epoch 31/50\n",
      "loss: 4.55832233e-05\n",
      "1/9 [==>...........................] - ETA: 23sloss: 3.70868365e-05\n",
      "2/9 [=====>........................] - ETA: 20sloss: 0.000330711133\n",
      "3/9 [=========>....................] - ETA: 17sloss: 0.000312803051\n",
      "4/9 [============>.................] - ETA: 15sloss: 0.00023214698\n",
      "5/9 [===============>..............] - ETA: 12sloss: 9.62030754e-05\n",
      "6/9 [===================>..........] - ETA: 8s loss: 0.000276657549\n",
      "7/9 [======================>.......] - ETA: 5sloss: 2.46893778e-05\n",
      "8/9 [=========================>....] - ETA: 2sloss: 6.65101516e-06\n",
      "9/9 [==============================] - 26s 3s/step\n",
      "\n",
      " Epoch 32/50\n",
      "loss: 3.90376445e-05\n",
      "1/9 [==>...........................] - ETA: 24sloss: 0.000240337497\n",
      "2/9 [=====>........................] - ETA: 20sloss: 0.000353382318\n",
      "3/9 [=========>....................] - ETA: 17sloss: 9.91009074e-05\n",
      "4/9 [============>.................] - ETA: 15sloss: 5.00619717e-05\n",
      "5/9 [===============>..............] - ETA: 12sloss: 3.11303447e-05\n",
      "6/9 [===================>..........] - ETA: 9s loss: 0.000107551765\n",
      "7/9 [======================>.......] - ETA: 6sloss: 0.000252643571\n",
      "8/9 [=========================>....] - ETA: 3sloss: 5.42859889e-05\n",
      "9/9 [==============================] - 27s 3s/step\n",
      "\n",
      " Epoch 33/50\n",
      "loss: 3.51049457e-05\n",
      "1/9 [==>...........................] - ETA: 24sloss: 0.000217983659\n",
      "2/9 [=====>........................] - ETA: 21sloss: 0.000107800712\n",
      "3/9 [=========>....................] - ETA: 17sloss: 9.13753393e-05\n",
      "4/9 [============>.................] - ETA: 14sloss: 0.000206364639\n",
      "5/9 [===============>..............] - ETA: 12sloss: 0.000263788184\n",
      "6/9 [===================>..........] - ETA: 9s loss: 6.22521693e-05\n",
      "7/9 [======================>.......] - ETA: 6sloss: 1.72119162e-05\n",
      "8/9 [=========================>....] - ETA: 3sloss: 0.000311259268\n",
      "9/9 [==============================] - 27s 3s/step\n",
      "\n",
      " Epoch 34/50\n",
      "loss: 9.05642719e-06\n",
      "1/9 [==>...........................] - ETA: 24sloss: 0.000118412412\n",
      "2/9 [=====>........................] - ETA: 21sloss: 7.22707682e-07\n",
      "3/9 [=========>....................] - ETA: 18sloss: 0.000230084741\n",
      "4/9 [============>.................] - ETA: 15sloss: 9.69792236e-05\n",
      "5/9 [===============>..............] - ETA: 12sloss: 0.000200732902\n",
      "6/9 [===================>..........] - ETA: 9s loss: 8.46127368e-05\n",
      "7/9 [======================>.......] - ETA: 6sloss: 1.20746008e-05\n",
      "8/9 [=========================>....] - ETA: 3sloss: 4.56348462e-05\n",
      "9/9 [==============================] - 27s 3s/step\n",
      "\n",
      " Epoch 35/50\n",
      "loss: 1.23201498e-05\n",
      "1/9 [==>...........................] - ETA: 24sloss: 8.27601252e-05\n",
      "2/9 [=====>........................] - ETA: 22sloss: 0.000197135698\n",
      "3/9 [=========>....................] - ETA: 19sloss: 1.15418525e-05\n",
      "4/9 [============>.................] - ETA: 15sloss: 0.000290961761\n",
      "5/9 [===============>..............] - ETA: 12sloss: 0.000155869915\n",
      "6/9 [===================>..........] - ETA: 9s loss: 0.000157580973\n",
      "7/9 [======================>.......] - ETA: 6sloss: 7.02240577e-05\n",
      "8/9 [=========================>....] - ETA: 3sloss: 8.01845817e-05\n",
      "9/9 [==============================] - 27s 3s/step\n",
      "\n",
      " Epoch 36/50\n",
      "loss: 0.000138102419\n",
      "1/9 [==>...........................] - ETA: 24sloss: 0.000224756455\n",
      "2/9 [=====>........................] - ETA: 22sloss: 0.000111302907\n",
      "3/9 [=========>....................] - ETA: 18sloss: 7.25431455e-05\n",
      "4/9 [============>.................] - ETA: 15sloss: 0.000165983089\n",
      "5/9 [===============>..............] - ETA: 12sloss: 6.10769857e-05\n",
      "6/9 [===================>..........] - ETA: 9s loss: 0.000106584746\n",
      "7/9 [======================>.......] - ETA: 6sloss: 6.11707401e-06\n",
      "8/9 [=========================>....] - ETA: 3sloss: 0.000197442409\n",
      "9/9 [==============================] - 27s 3s/step\n",
      "\n",
      " Epoch 37/50\n",
      "loss: 8.76787963e-05\n",
      "1/9 [==>...........................] - ETA: 25sloss: 0.000101787031\n",
      "2/9 [=====>........................] - ETA: 21sloss: 5.45793882e-05\n",
      "3/9 [=========>....................] - ETA: 18sloss: 0.000195600558\n",
      "4/9 [============>.................] - ETA: 15sloss: 9.64830324e-05\n",
      "5/9 [===============>..............] - ETA: 12sloss: 0.000251250458\n",
      "6/9 [===================>..........] - ETA: 9s loss: 0.000107226908\n",
      "7/9 [======================>.......] - ETA: 6sloss: 7.54383382e-06\n",
      "8/9 [=========================>....] - ETA: 3sloss: 9.12472478e-06\n",
      "9/9 [==============================] - 27s 3s/step\n",
      "\n",
      " Epoch 38/50\n",
      "loss: 0.00010684962\n",
      "1/9 [==>...........................] - ETA: 24sloss: 9.54128773e-05\n",
      "2/9 [=====>........................] - ETA: 20sloss: 0.000203117772\n",
      "3/9 [=========>....................] - ETA: 17sloss: 5.31358855e-05\n",
      "4/9 [============>.................] - ETA: 14sloss: 6.96562274e-05\n",
      "5/9 [===============>..............] - ETA: 11sloss: 7.94851512e-05\n",
      "6/9 [===================>..........] - ETA: 8s loss: 5.39259854e-05\n",
      "7/9 [======================>.......] - ETA: 5sloss: 0.000275074854\n",
      "8/9 [=========================>....] - ETA: 2sloss: 3.48369213e-05\n",
      "9/9 [==============================] - 26s 3s/step\n",
      "\n",
      " Epoch 39/50\n",
      "loss: 6.14245146e-05\n",
      "1/9 [==>...........................] - ETA: 24sloss: 8.93100878e-05\n",
      "2/9 [=====>........................] - ETA: 22sloss: 1.305775e-05\n",
      "3/9 [=========>....................] - ETA: 18sloss: 8.11808277e-05\n",
      "4/9 [============>.................] - ETA: 15sloss: 9.58058372e-05\n",
      "5/9 [===============>..............] - ETA: 12sloss: 0.00018420213\n",
      "6/9 [===================>..........] - ETA: 9s loss: 5.35936051e-05\n",
      "7/9 [======================>.......] - ETA: 6sloss: 0.000157457194\n",
      "8/9 [=========================>....] - ETA: 3sloss: 0.00014149856\n",
      "9/9 [==============================] - 27s 3s/step\n",
      "\n",
      " Epoch 40/50\n",
      "loss: 8.84594774e-05\n",
      "1/9 [==>...........................] - ETA: 23sloss: 0.0001242297\n",
      "2/9 [=====>........................] - ETA: 21sloss: 5.21213551e-05\n",
      "3/9 [=========>....................] - ETA: 18sloss: 4.24851023e-05\n",
      "4/9 [============>.................] - ETA: 15sloss: 2.65241943e-06\n",
      "5/9 [===============>..............] - ETA: 12sloss: 0.000101220583\n",
      "6/9 [===================>..........] - ETA: 9s loss: 4.3924847e-05\n",
      "7/9 [======================>.......] - ETA: 5sloss: 9.3806193e-06\n",
      "8/9 [=========================>....] - ETA: 2sloss: 6.780275e-05\n",
      "9/9 [==============================] - 26s 3s/step\n",
      "\n",
      " Epoch 41/50\n",
      "loss: 0.000186380727\n",
      "1/9 [==>...........................] - ETA: 23sloss: 1.49512e-05\n",
      "2/9 [=====>........................] - ETA: 20sloss: 1.32404102e-05\n",
      "3/9 [=========>....................] - ETA: 17sloss: 7.63878124e-05\n",
      "4/9 [============>.................] - ETA: 14sloss: 7.31137116e-05\n",
      "5/9 [===============>..............] - ETA: 11sloss: 6.60473743e-05\n",
      "6/9 [===================>..........] - ETA: 8s loss: 9.42024053e-05\n",
      "7/9 [======================>.......] - ETA: 5sloss: 7.46698352e-05\n",
      "8/9 [=========================>....] - ETA: 2sloss: 8.97951613e-05\n",
      "9/9 [==============================] - 26s 3s/step\n",
      "\n",
      " Epoch 42/50\n",
      "loss: 2.76914816e-05\n",
      "1/9 [==>...........................] - ETA: 24sloss: 7.77792666e-05\n",
      "2/9 [=====>........................] - ETA: 20sloss: 3.09546085e-05\n",
      "3/9 [=========>....................] - ETA: 17sloss: 0.0001024792\n",
      "4/9 [============>.................] - ETA: 15sloss: 0.000115184215\n",
      "5/9 [===============>..............] - ETA: 12sloss: 8.67481212e-05\n",
      "6/9 [===================>..........] - ETA: 9s loss: 6.70252412e-05\n",
      "7/9 [======================>.......] - ETA: 6sloss: 7.28983869e-05\n",
      "8/9 [=========================>....] - ETA: 3sloss: 8.84430119e-05\n",
      "9/9 [==============================] - 27s 3s/step\n",
      "\n",
      " Epoch 43/50\n",
      "loss: 8.31458747e-05\n",
      "1/9 [==>...........................] - ETA: 24sloss: 9.29487214e-06\n",
      "2/9 [=====>........................] - ETA: 24sloss: 4.49566651e-05\n",
      "3/9 [=========>....................] - ETA: 21sloss: 8.05201271e-05\n",
      "4/9 [============>.................] - ETA: 17sloss: 2.76413812e-05\n",
      "5/9 [===============>..............] - ETA: 13sloss: 9.25995e-05\n",
      "6/9 [===================>..........] - ETA: 9s loss: 0.000156993585\n",
      "7/9 [======================>.......] - ETA: 6sloss: 8.28660559e-05\n",
      "8/9 [=========================>....] - ETA: 3sloss: 0.000108755201\n",
      "9/9 [==============================] - 29s 3s/step\n",
      "\n",
      " Epoch 44/50\n",
      "loss: 4.68543112e-05\n",
      "1/9 [==>...........................] - ETA: 24sloss: 5.42418911e-06\n",
      "2/9 [=====>........................] - ETA: 21sloss: 6.75797055e-05\n",
      "3/9 [=========>....................] - ETA: 18sloss: 9.75728108e-06\n",
      "4/9 [============>.................] - ETA: 15sloss: 0.000106406282\n",
      "5/9 [===============>..............] - ETA: 12sloss: 3.31432457e-05\n",
      "6/9 [===================>..........] - ETA: 8s loss: 7.76296292e-05\n",
      "7/9 [======================>.......] - ETA: 5sloss: 6.46965927e-05\n",
      "8/9 [=========================>....] - ETA: 2sloss: 0.000201580071\n",
      "9/9 [==============================] - 26s 3s/step\n",
      "\n",
      " Epoch 45/50\n",
      "loss: 7.04492122e-05\n",
      "1/9 [==>...........................] - ETA: 23sloss: 6.63543105e-05\n",
      "2/9 [=====>........................] - ETA: 21sloss: 2.95262107e-05\n",
      "3/9 [=========>....................] - ETA: 18sloss: 0.0001618237\n",
      "4/9 [============>.................] - ETA: 15sloss: 6.83499384e-05\n",
      "5/9 [===============>..............] - ETA: 12sloss: 0.00012796084\n",
      "6/9 [===================>..........] - ETA: 9s loss: 1.27032808e-06\n",
      "7/9 [======================>.......] - ETA: 6sloss: 1.96323367e-06\n",
      "8/9 [=========================>....] - ETA: 2sloss: 5.37944061e-06\n",
      "9/9 [==============================] - 26s 3s/step\n",
      "\n",
      " Epoch 46/50\n",
      "loss: 9.14994453e-05\n",
      "1/9 [==>...........................] - ETA: 24sloss: 2.53829785e-05\n",
      "2/9 [=====>........................] - ETA: 21sloss: 5.63581234e-05\n",
      "3/9 [=========>....................] - ETA: 18sloss: 1.42762383e-05\n",
      "4/9 [============>.................] - ETA: 14sloss: 8.42603113e-05\n",
      "5/9 [===============>..............] - ETA: 11sloss: 7.77543682e-05\n",
      "6/9 [===================>..........] - ETA: 8s loss: 2.80103741e-05\n",
      "7/9 [======================>.......] - ETA: 6sloss: 7.23107087e-06\n",
      "8/9 [=========================>....] - ETA: 3sloss: 6.34255339e-05\n",
      "9/9 [==============================] - 27s 3s/step\n",
      "\n",
      " Epoch 47/50\n",
      "loss: 9.07474459e-05\n",
      "1/9 [==>...........................] - ETA: 23sloss: 3.24253124e-05\n",
      "2/9 [=====>........................] - ETA: 20sloss: 1.97450026e-05\n",
      "3/9 [=========>....................] - ETA: 17sloss: 3.8659542e-05\n",
      "4/9 [============>.................] - ETA: 14sloss: 5.3805179e-05\n",
      "5/9 [===============>..............] - ETA: 11sloss: 8.15880776e-06\n",
      "6/9 [===================>..........] - ETA: 8s loss: 9.03282853e-05\n",
      "7/9 [======================>.......] - ETA: 5sloss: 1.32029027e-05\n",
      "8/9 [=========================>....] - ETA: 2sloss: 4.39251562e-05\n",
      "9/9 [==============================] - 26s 3s/step\n",
      "\n",
      " Epoch 48/50\n",
      "loss: 5.43157785e-06\n",
      "1/9 [==>...........................] - ETA: 24sloss: 5.6074161e-05\n",
      "2/9 [=====>........................] - ETA: 20sloss: 8.60347936e-05\n",
      "3/9 [=========>....................] - ETA: 17sloss: 8.49076e-05\n",
      "4/9 [============>.................] - ETA: 15sloss: 2.33459614e-05\n",
      "5/9 [===============>..............] - ETA: 12sloss: 6.32727897e-05\n",
      "6/9 [===================>..........] - ETA: 9s loss: 5.17022199e-05\n",
      "7/9 [======================>.......] - ETA: 5sloss: 3.48355825e-05\n",
      "8/9 [=========================>....] - ETA: 3sloss: 6.22104053e-05\n",
      "9/9 [==============================] - 27s 3s/step\n",
      "\n",
      " Epoch 49/50\n",
      "loss: 3.69113113e-05\n",
      "1/9 [==>...........................] - ETA: 23sloss: 9.13945696e-05\n",
      "2/9 [=====>........................] - ETA: 20sloss: 6.5055021e-05\n",
      "3/9 [=========>....................] - ETA: 17sloss: 8.45470422e-05\n",
      "4/9 [============>.................] - ETA: 14sloss: 3.79897538e-05\n",
      "5/9 [===============>..............] - ETA: 11sloss: 0.000130638247\n",
      "6/9 [===================>..........] - ETA: 8s loss: 2.73812452e-06\n",
      "7/9 [======================>.......] - ETA: 5sloss: 7.0786431e-05\n",
      "8/9 [=========================>....] - ETA: 2sloss: 2.4980538e-05\n",
      "9/9 [==============================] - 26s 3s/step\n",
      "\n",
      " Epoch 50/50\n",
      "loss: 4.05757492e-05\n",
      "1/9 [==>...........................] - ETA: 23sloss: 8.02422146e-05\n",
      "2/9 [=====>........................] - ETA: 20sloss: 5.12472689e-05\n",
      "3/9 [=========>....................] - ETA: 18sloss: 2.32258e-05\n",
      "4/9 [============>.................] - ETA: 15sloss: 1.04125875e-05\n",
      "5/9 [===============>..............] - ETA: 12sloss: 7.93899198e-06\n",
      "6/9 [===================>..........] - ETA: 8s loss: 0.000128496657\n",
      "7/9 [======================>.......] - ETA: 6sloss: 2.2541155e-05\n",
      "8/9 [=========================>....] - ETA: 3sloss: 1.06150428e-05\n",
      "9/9 [==============================] - 27s 3s/step\n"
     ]
    }
   ],
   "source": [
    "train(train_data, EPOCHS)"
   ]
  },
  {
   "cell_type": "code",
   "execution_count": 84,
   "id": "e93c33fd-8ddc-4c42-b58c-49c5e220f0e3",
   "metadata": {},
   "outputs": [],
   "source": [
    "# Evaluate Model\n",
    "# Import metric calculations\n",
    "# Precision -> proportion of positive identifications were correct; Recall -> proportion of actual positives correctly identified\n",
    "from tensorflow.keras.metrics import Precision, Recall"
   ]
  },
  {
   "cell_type": "code",
   "execution_count": 85,
   "id": "9bb2365b-a6f0-4989-b7e2-91ddd6b0836d",
   "metadata": {},
   "outputs": [],
   "source": [
    "#Make Predictions\n",
    "# Get a batch of test data\n",
    "test_input, test_val, y_true = test_data.as_numpy_iterator().next()"
   ]
  },
  {
   "cell_type": "code",
   "execution_count": 86,
   "id": "4ff54517-20a4-454c-8d44-c011300a7b24",
   "metadata": {},
   "outputs": [
    {
     "name": "stdout",
     "output_type": "stream",
     "text": [
      "1/1 [==============================] - 0s 20ms/step\n"
     ]
    },
    {
     "data": {
      "text/plain": [
       "array([[9.99770701e-01],\n",
       "       [9.99998569e-01],\n",
       "       [6.09581946e-07],\n",
       "       [1.49814794e-09],\n",
       "       [1.39899706e-11],\n",
       "       [9.99999166e-01],\n",
       "       [1.06384505e-04],\n",
       "       [2.07898920e-09],\n",
       "       [1.00000000e+00],\n",
       "       [4.60628691e-08],\n",
       "       [9.99981761e-01],\n",
       "       [3.12580646e-08],\n",
       "       [6.03145054e-08],\n",
       "       [9.99234080e-01],\n",
       "       [9.99974728e-01],\n",
       "       [9.33285946e-08]], dtype=float32)"
      ]
     },
     "execution_count": 86,
     "metadata": {},
     "output_type": "execute_result"
    }
   ],
   "source": [
    "# Make predictions\n",
    "y_hat = siamese_model.predict([test_input, test_val])\n",
    "y_hat"
   ]
  },
  {
   "cell_type": "code",
   "execution_count": 87,
   "id": "9e7983bf-2291-417b-9b3b-97de0abae064",
   "metadata": {},
   "outputs": [
    {
     "data": {
      "text/plain": [
       "[1, 1, 0, 0, 0, 1, 0, 0, 1, 0, 1, 0, 0, 1, 1, 0]"
      ]
     },
     "execution_count": 87,
     "metadata": {},
     "output_type": "execute_result"
    }
   ],
   "source": [
    "# Post processing the results, covert to either 0 or 1\n",
    "[1 if prediction > 0.5 else 0 for prediction in y_hat]"
   ]
  },
  {
   "cell_type": "code",
   "execution_count": 88,
   "id": "87725f90-1400-44b2-b417-59103a241060",
   "metadata": {},
   "outputs": [
    {
     "data": {
      "text/plain": [
       "array([1., 1., 0., 0., 0., 1., 0., 0., 1., 0., 1., 0., 0., 1., 1., 0.],\n",
       "      dtype=float32)"
      ]
     },
     "execution_count": 88,
     "metadata": {},
     "output_type": "execute_result"
    }
   ],
   "source": [
    "y_true"
   ]
  },
  {
   "cell_type": "code",
   "execution_count": 89,
   "id": "34a46f6b-a78b-4886-a27e-d6a1cfbb7fda",
   "metadata": {},
   "outputs": [
    {
     "data": {
      "text/plain": [
       "1.0"
      ]
     },
     "execution_count": 89,
     "metadata": {},
     "output_type": "execute_result"
    }
   ],
   "source": [
    "# Calculate metrics\n",
    "# Creating a metric object\n",
    "m = Recall()\n",
    "\n",
    "# Calculating the recall value\n",
    "m.update_state(y_true, y_hat)\n",
    "\n",
    "#Return Recall Result\n",
    "m.result().numpy()\n"
   ]
  },
  {
   "cell_type": "code",
   "execution_count": 90,
   "id": "63f1ebe7-d19b-4e8b-8919-470de974d372",
   "metadata": {},
   "outputs": [
    {
     "data": {
      "text/plain": [
       "1.0"
      ]
     },
     "execution_count": 90,
     "metadata": {},
     "output_type": "execute_result"
    }
   ],
   "source": [
    "# Creating a metric object\n",
    "m = Precision()\n",
    "\n",
    "# Calculating the recall value\n",
    "m.update_state(y_true, y_hat)\n",
    "\n",
    "#Return Recall Result\n",
    "m.result().numpy()"
   ]
  },
  {
   "cell_type": "code",
   "execution_count": 105,
   "id": "34ec20b7-5706-4715-ba3c-9162a845fd8d",
   "metadata": {
    "jp-MarkdownHeadingCollapsed": true
   },
   "outputs": [
    {
     "data": {
      "image/png": "[encoded data removed]",
      "text/plain": [
       "<Figure size 1000x800 with 2 Axes>"
      ]
     },
     "metadata": {},
     "output_type": "display_data"
    }
   ],
   "source": [
    "# Visualize Results\n",
    "# Set plot size\n",
    "plt.figure(figsize=(10,8))\n",
    "# Set first subplot\n",
    "plt.subplot(1,2,1)\n",
    "# Switch the indexes to see compared images (match to yhat and y_true indexes  as seen in above predictions and post-processing to see where they were validated or not)\n",
    "plt.imshow(test_input[0])\n",
    "plt.subplot(1,2,2)\n",
    "# Switch the indexes to see compared images (match to yhat and y_true indexes  as seen in above predictions and post-processing to see where they were validated or not)\n",
    "plt.imshow(test_val[0])\n",
    "# Render\n",
    "plt.show()"
   ]
  },
  {
   "cell_type": "code",
   "execution_count": 108,
   "id": "6c06fb6c-1395-4f24-83f6-9459d197d8b1",
   "metadata": {},
   "outputs": [
    {
     "name": "stdout",
     "output_type": "stream",
     "text": [
      "WARNING:tensorflow:Compiled the loaded model, but the compiled metrics have yet to be built. `model.compile_metrics` will be empty until you train or evaluate the model.\n"
     ]
    }
   ],
   "source": [
    " # Save Model\n",
    "siamese_model.save('siamesemodel.h5')"
   ]
  },
  {
   "cell_type": "code",
   "execution_count": 109,
   "id": "da103d50-e213-4149-8647-17d90e578684",
   "metadata": {},
   "outputs": [
    {
     "name": "stdout",
     "output_type": "stream",
     "text": [
      "WARNING:tensorflow:No training configuration found in the save file, so the model was *not* compiled. Compile it manually.\n"
     ]
    }
   ],
   "source": [
    "# Reload Model\n",
    "model = tf.keras.models.load_model('siamesemodel.h5', \n",
    "                                   custom_objects={'L1Dist':L1Dist, 'BinaryCrossentropy': tf.losses.BinaryCrossentropy})"
   ]
  },
  {
   "cell_type": "code",
   "execution_count": null,
   "id": "c93022fe-2f76-4d59-9b32-091d9d57ebeb",
   "metadata": {},
   "outputs": [],
   "source": []
  }
 ],
 "metadata": {
  "kernelspec": {
   "display_name": "Python (facialrecognition)",
   "language": "python",
   "name": "facialrecognition"
  },
  "language_info": {
   "codemirror_mode": {
    "name": "ipython",
    "version": 3
   },
   "file_extension": ".py",
   "mimetype": "text/x-python",
   "name": "python",
   "nbconvert_exporter": "python",
   "pygments_lexer": "ipython3",
   "version": "3.10.13"
  }
 },
 "nbformat": 4,
 "nbformat_minor": 5
}
